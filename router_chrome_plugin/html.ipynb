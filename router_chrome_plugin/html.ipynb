{
 "cells": [
  {
   "cell_type": "code",
   "execution_count": 24,
   "metadata": {},
   "outputs": [],
   "source": [
    "from pathlib import Path\n",
    "\n",
    "from pydantic import BaseModel\n",
    "from requests_html import HTML, Element\n"
   ]
  },
  {
   "cell_type": "code",
   "execution_count": 20,
   "metadata": {},
   "outputs": [],
   "source": [
    "html_file = Path(\"./router_chrome_plugin/xq.html\")\n",
    "html = HTML(html=html_file.read_text())"
   ]
  },
  {
   "cell_type": "code",
   "execution_count": 38,
   "metadata": {},
   "outputs": [
    {
     "name": "stdout",
     "output_type": "stream",
     "text": [
      "[ImageModel(name='xq_1.jpg', name_number=1, img='https://img.alicdn.com/imgextra/i4/862322326/O1CN01thIZrn1T3MGHKfhuW_!!862322326.jpg'), ImageModel(name='xq_2.jpg', name_number=2, img='https://img.alicdn.com/imgextra/i1/862322326/O1CN01dD9ynR1T3MGHKfm4m_!!862322326.jpg'), ImageModel(name='xq_3.jpg', name_number=3, img='https://img.alicdn.com/imgextra/i2/862322326/O1CN01GEY2SN1T3MGQxszTx_!!862322326.jpg'), ImageModel(name='xq_4.jpg', name_number=4, img='https://img.alicdn.com/imgextra/i4/862322326/O1CN0105PLE31T3MGPC5Xk2_!!862322326.jpg'), ImageModel(name='xq_5.jpg', name_number=5, img='https://img.alicdn.com/imgextra/i4/862322326/O1CN01HRi0mg1T3MGPwQ6Nv_!!862322326.jpg'), ImageModel(name='xq_6.jpg', name_number=6, img='https://img.alicdn.com/imgextra/i2/862322326/O1CN01EGoEr41T3MGPC4XNn_!!862322326.jpg'), ImageModel(name='xq_7.jpg', name_number=7, img='https://img.alicdn.com/imgextra/i1/862322326/O1CN01ee4nyd1T3MGOSMV8Q_!!862322326.jpg'), ImageModel(name='xq_8.jpg', name_number=8, img='https://img.alicdn.com/imgextra/i2/862322326/O1CN01UkRFO81T3MGPwNtBs_!!862322326.jpg'), ImageModel(name='xq_9.jpg', name_number=9, img='https://img.alicdn.com/imgextra/i1/862322326/O1CN01iLyhhh1T3MGMbER15_!!862322326.jpg'), ImageModel(name='xq_10.jpg', name_number=10, img='https://img.alicdn.com/imgextra/i4/862322326/O1CN01CKEmnY1T3MGP8SBAh_!!862322326.jpg'), ImageModel(name='xq_11.jpg', name_number=11, img='https://img.alicdn.com/imgextra/i1/862322326/O1CN01nKnmvj1T3MGQUgEzu_!!862322326.jpg'), ImageModel(name='xq_12.jpg', name_number=12, img='https://img.alicdn.com/imgextra/i1/862322326/O1CN01xUJif71T3MGPC5Taw_!!862322326.jpg'), ImageModel(name='xq_13.jpg', name_number=13, img='https://img.alicdn.com/imgextra/i4/862322326/O1CN01FRs4HD1T3MGOFuwET_!!862322326.jpg'), ImageModel(name='xq_14.jpg', name_number=14, img='https://img.alicdn.com/imgextra/i1/862322326/O1CN01c2iQlT1T3MGPC5kEf_!!862322326.jpg'), ImageModel(name='xq_15.jpg', name_number=15, img='https://img.alicdn.com/imgextra/i2/862322326/O1CN01KWgEA81T3MGQUgi7u_!!862322326.jpg'), ImageModel(name='xq_16.jpg', name_number=16, img='https://img.alicdn.com/imgextra/i4/862322326/O1CN019BDfcM1T3MGOp2zSU_!!862322326.jpg'), ImageModel(name='xq_17.jpg', name_number=17, img='https://img.alicdn.com/imgextra/i2/862322326/O1CN01uScK6j1T3MGP8TBYr_!!862322326.jpg'), ImageModel(name='xq_18.jpg', name_number=18, img='https://img.alicdn.com/imgextra/i2/862322326/O1CN01elGd4E1T3MGPwPMgF_!!862322326.jpg'), ImageModel(name='xq_19.jpg', name_number=19, img='https://img.alicdn.com/imgextra/i3/862322326/O1CN010muglm1T3MGOFs3Sg_!!862322326.jpg'), ImageModel(name='xq_20.jpg', name_number=20, img='https://img.alicdn.com/imgextra/i2/862322326/O1CN01P2k1k21T3MGPC3jW0_!!862322326.jpg'), ImageModel(name='xq_21.jpg', name_number=21, img='https://img.alicdn.com/imgextra/i4/862322326/O1CN01AgFjf01T3MGO9YGKa_!!862322326.jpg'), ImageModel(name='xq_22.jpg', name_number=22, img='https://img.alicdn.com/imgextra/i4/862322326/O1CN01jmUMdP1T3MGHKiamk_!!862322326.jpg'), ImageModel(name='xq_23.jpg', name_number=23, img='https://img.alicdn.com/imgextra/i2/862322326/O1CN017pCPSS1T3MGNiKMKb_!!862322326.jpg'), ImageModel(name='xq_24.jpg', name_number=24, img='https://img.alicdn.com/imgextra/i4/862322326/O1CN01aq3t8I1T3MGP8Rdwq_!!862322326.jpg'), ImageModel(name='xq_25.jpg', name_number=25, img='https://img.alicdn.com/imgextra/i1/862322326/O1CN01J5tzSr1T3MGOp3OQF_!!862322326.jpg'), ImageModel(name='xq_26.jpg', name_number=26, img='https://img.alicdn.com/imgextra/i1/862322326/O1CN01My2pfM1T3MGOFtrkC_!!862322326.jpg'), ImageModel(name='xq_27.jpg', name_number=27, img='https://img.alicdn.com/imgextra/i3/862322326/O1CN01z3fu3e1T3MGOFszhT_!!862322326.jpg'), ImageModel(name='xq_28.jpg', name_number=28, img='https://img.alicdn.com/imgextra/i4/862322326/O1CN014kxQFo1T3MGOp6TiG_!!862322326.jpg'), ImageModel(name='xq_29.jpg', name_number=29, img='https://img.alicdn.com/imgextra/i2/862322326/O1CN01e5lmFJ1T3MGOp5sHi_!!862322326.jpg'), ImageModel(name='xq_30.jpg', name_number=30, img='https://img.alicdn.com/imgextra/i3/862322326/O1CN01EIaXs51T3MGLgO0Z8_!!862322326.jpg'), ImageModel(name='xq_31.jpg', name_number=31, img='https://img.alicdn.com/imgextra/i4/862322326/O1CN01PKVBPA1T3MGMNfZnD_!!862322326.jpg'), ImageModel(name='xq_32.jpg', name_number=32, img='https://img.alicdn.com/imgextra/i3/862322326/O1CN01DqT8RM1T3MGOFtjQm_!!862322326.jpg'), ImageModel(name='xq_33.jpg', name_number=33, img='https://img.alicdn.com/imgextra/i1/862322326/O1CN01ForRDM1T3MGOp6wow_!!862322326.jpg'), ImageModel(name='xq_34.jpg', name_number=34, img='https://img.alicdn.com/imgextra/i1/862322326/O1CN01NliL9a1T3MGNqrRUn_!!862322326.jpg'), ImageModel(name='xq_35.jpg', name_number=35, img='https://img.alicdn.com/imgextra/i2/862322326/O1CN01sB6QWR1T3MGOFtCAV_!!862322326.jpg'), ImageModel(name='xq_36.jpg', name_number=36, img='https://img.alicdn.com/imgextra/i3/862322326/O1CN01YSFOCm1T3MGNiKpTg_!!862322326.jpg'), ImageModel(name='xq_37.jpg', name_number=37, img='https://img.alicdn.com/imgextra/i2/862322326/O1CN01iuwWh11T3MGHKkfiX_!!862322326.jpg'), ImageModel(name='xq_38.jpg', name_number=38, img='https://img.alicdn.com/imgextra/i4/862322326/O1CN01lvuDbk1T3MGLgPHah_!!862322326.jpg'), ImageModel(name='xq_39.jpg', name_number=39, img='https://img.alicdn.com/imgextra/i2/862322326/O1CN01u389cL1T3MGPrS9dT_!!862322326.jpg'), ImageModel(name='xq_40.jpg', name_number=40, img='https://img.alicdn.com/imgextra/i1/862322326/O1CN01qBj8Af1T3MGO9bPlL_!!862322326.jpg'), ImageModel(name='xq_41.jpg', name_number=41, img='https://img.alicdn.com/imgextra/i3/862322326/O1CN01RMs2a11T3MGP8S752_!!862322326.jpg'), ImageModel(name='xq_42.jpg', name_number=42, img='https://img.alicdn.com/imgextra/i4/862322326/O1CN0159Up9d1T3MGHKj868_!!862322326.jpg'), ImageModel(name='xq_43.jpg', name_number=43, img='https://img.alicdn.com/imgextra/i4/862322326/O1CN01UEUflI1T3MGPrS1JG_!!862322326.jpg'), ImageModel(name='xq_44.jpg', name_number=44, img='https://img.alicdn.com/imgextra/i1/862322326/O1CN01dHu47e1T3MGPC5TfG_!!862322326.jpg')]\n",
      "<img src=https://img.alicdn.com/imgextra/i4/862322326/O1CN01thIZrn1T3MGHKfhuW_!!862322326.jpg /><img src=https://img.alicdn.com/imgextra/i1/862322326/O1CN01dD9ynR1T3MGHKfm4m_!!862322326.jpg /><img src=https://img.alicdn.com/imgextra/i2/862322326/O1CN01GEY2SN1T3MGQxszTx_!!862322326.jpg /><img src=https://img.alicdn.com/imgextra/i4/862322326/O1CN0105PLE31T3MGPC5Xk2_!!862322326.jpg /><img src=https://img.alicdn.com/imgextra/i4/862322326/O1CN01HRi0mg1T3MGPwQ6Nv_!!862322326.jpg /><img src=https://img.alicdn.com/imgextra/i2/862322326/O1CN01EGoEr41T3MGPC4XNn_!!862322326.jpg /><img src=https://img.alicdn.com/imgextra/i1/862322326/O1CN01ee4nyd1T3MGOSMV8Q_!!862322326.jpg /><img src=https://img.alicdn.com/imgextra/i2/862322326/O1CN01UkRFO81T3MGPwNtBs_!!862322326.jpg /><img src=https://img.alicdn.com/imgextra/i1/862322326/O1CN01iLyhhh1T3MGMbER15_!!862322326.jpg /><img src=https://img.alicdn.com/imgextra/i4/862322326/O1CN01CKEmnY1T3MGP8SBAh_!!862322326.jpg /><img src=https://img.alicdn.com/imgextra/i1/862322326/O1CN01nKnmvj1T3MGQUgEzu_!!862322326.jpg /><img src=https://img.alicdn.com/imgextra/i1/862322326/O1CN01xUJif71T3MGPC5Taw_!!862322326.jpg /><img src=https://img.alicdn.com/imgextra/i4/862322326/O1CN01FRs4HD1T3MGOFuwET_!!862322326.jpg /><img src=https://img.alicdn.com/imgextra/i1/862322326/O1CN01c2iQlT1T3MGPC5kEf_!!862322326.jpg /><img src=https://img.alicdn.com/imgextra/i2/862322326/O1CN01KWgEA81T3MGQUgi7u_!!862322326.jpg /><img src=https://img.alicdn.com/imgextra/i4/862322326/O1CN019BDfcM1T3MGOp2zSU_!!862322326.jpg /><img src=https://img.alicdn.com/imgextra/i2/862322326/O1CN01uScK6j1T3MGP8TBYr_!!862322326.jpg /><img src=https://img.alicdn.com/imgextra/i2/862322326/O1CN01elGd4E1T3MGPwPMgF_!!862322326.jpg /><img src=https://img.alicdn.com/imgextra/i3/862322326/O1CN010muglm1T3MGOFs3Sg_!!862322326.jpg /><img src=https://img.alicdn.com/imgextra/i2/862322326/O1CN01P2k1k21T3MGPC3jW0_!!862322326.jpg /><img src=https://img.alicdn.com/imgextra/i4/862322326/O1CN01AgFjf01T3MGO9YGKa_!!862322326.jpg /><img src=https://img.alicdn.com/imgextra/i4/862322326/O1CN01jmUMdP1T3MGHKiamk_!!862322326.jpg /><img src=https://img.alicdn.com/imgextra/i2/862322326/O1CN017pCPSS1T3MGNiKMKb_!!862322326.jpg /><img src=https://img.alicdn.com/imgextra/i4/862322326/O1CN01aq3t8I1T3MGP8Rdwq_!!862322326.jpg /><img src=https://img.alicdn.com/imgextra/i1/862322326/O1CN01J5tzSr1T3MGOp3OQF_!!862322326.jpg /><img src=https://img.alicdn.com/imgextra/i1/862322326/O1CN01My2pfM1T3MGOFtrkC_!!862322326.jpg /><img src=https://img.alicdn.com/imgextra/i3/862322326/O1CN01z3fu3e1T3MGOFszhT_!!862322326.jpg /><img src=https://img.alicdn.com/imgextra/i4/862322326/O1CN014kxQFo1T3MGOp6TiG_!!862322326.jpg /><img src=https://img.alicdn.com/imgextra/i2/862322326/O1CN01e5lmFJ1T3MGOp5sHi_!!862322326.jpg /><img src=https://img.alicdn.com/imgextra/i3/862322326/O1CN01EIaXs51T3MGLgO0Z8_!!862322326.jpg /><img src=https://img.alicdn.com/imgextra/i4/862322326/O1CN01PKVBPA1T3MGMNfZnD_!!862322326.jpg /><img src=https://img.alicdn.com/imgextra/i3/862322326/O1CN01DqT8RM1T3MGOFtjQm_!!862322326.jpg /><img src=https://img.alicdn.com/imgextra/i1/862322326/O1CN01ForRDM1T3MGOp6wow_!!862322326.jpg /><img src=https://img.alicdn.com/imgextra/i1/862322326/O1CN01NliL9a1T3MGNqrRUn_!!862322326.jpg /><img src=https://img.alicdn.com/imgextra/i2/862322326/O1CN01sB6QWR1T3MGOFtCAV_!!862322326.jpg /><img src=https://img.alicdn.com/imgextra/i3/862322326/O1CN01YSFOCm1T3MGNiKpTg_!!862322326.jpg /><img src=https://img.alicdn.com/imgextra/i2/862322326/O1CN01iuwWh11T3MGHKkfiX_!!862322326.jpg /><img src=https://img.alicdn.com/imgextra/i4/862322326/O1CN01lvuDbk1T3MGLgPHah_!!862322326.jpg /><img src=https://img.alicdn.com/imgextra/i2/862322326/O1CN01u389cL1T3MGPrS9dT_!!862322326.jpg /><img src=https://img.alicdn.com/imgextra/i1/862322326/O1CN01qBj8Af1T3MGO9bPlL_!!862322326.jpg /><img src=https://img.alicdn.com/imgextra/i3/862322326/O1CN01RMs2a11T3MGP8S752_!!862322326.jpg /><img src=https://img.alicdn.com/imgextra/i4/862322326/O1CN0159Up9d1T3MGHKj868_!!862322326.jpg /><img src=https://img.alicdn.com/imgextra/i4/862322326/O1CN01UEUflI1T3MGPrS1JG_!!862322326.jpg /><img src=https://img.alicdn.com/imgextra/i1/862322326/O1CN01dHu47e1T3MGPC5TfG_!!862322326.jpg />\n"
     ]
    }
   ],
   "source": [
    "import re\n",
    "\n",
    "\n",
    "class ImageModel(BaseModel):\n",
    "    name: str\n",
    "    name_number: int\n",
    "    img: str\n",
    "\n",
    "\n",
    "img_mode_list: list[ImageModel] = []\n",
    "\n",
    "for obj in html.find(\".item\"):\n",
    "    obj: Element\n",
    "    name = obj.find(\".name\", first=True).text\n",
    "    if \"xq_\" in name:\n",
    "        name_int = int(\"\".join(re.findall(r\"\\d\", name)))\n",
    "        img: str = obj.find(\"img\", first=True).attrs.get(\"src\").replace(\"_100x100\", \"\")\n",
    "\n",
    "        img_mode_list.append(ImageModel(name=name, name_number=name_int, img=img))\n",
    "        if name_int == 1:\n",
    "            break\n",
    "\n",
    "img_mode_list.sort(key=lambda k: k.name_number)\n",
    "\n",
    "print(img_mode_list)\n",
    "\n",
    "html = \"\"\n",
    "\n",
    "for img_mode in img_mode_list:\n",
    "    html += f\"<img src={img_mode.img} />\"\n",
    "\n",
    "print(html)"
   ]
  }
 ],
 "metadata": {
  "kernelspec": {
   "display_name": "base",
   "language": "python",
   "name": "python3"
  },
  "language_info": {
   "codemirror_mode": {
    "name": "ipython",
    "version": 3
   },
   "file_extension": ".py",
   "mimetype": "text/x-python",
   "name": "python",
   "nbconvert_exporter": "python",
   "pygments_lexer": "ipython3",
   "version": "3.12.2"
  }
 },
 "nbformat": 4,
 "nbformat_minor": 2
}
