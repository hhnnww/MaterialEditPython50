{
 "cells": [
  {
   "cell_type": "code",
   "execution_count": 40,
   "metadata": {},
   "outputs": [],
   "source": [
    "from pathlib import Path\n",
    "\n",
    "from requests_html import HTML\n"
   ]
  },
  {
   "cell_type": "code",
   "execution_count": 41,
   "metadata": {},
   "outputs": [],
   "source": [
    "html_file = Path(\"./router_chrome_plugin/text.html\")\n",
    "html = HTML(html=html_file.read_text())"
   ]
  },
  {
   "cell_type": "code",
   "execution_count": 48,
   "metadata": {},
   "outputs": [
    {
     "name": "stdout",
     "output_type": "stream",
     "text": [
      "https://item.taobao.com/item.htm?id=856704399209\n",
      "https//img.alicdn.com/bao/uploaded/i3/3700963838/O1CN01M4L1121eDr75hpVfR_!!3700963838.jpg_240x240.jpg\n",
      "https://item.taobao.com/item.htm?id=857395212450\n",
      "https//img.alicdn.com/bao/uploaded/i3/3700963838/O1CN01W548jC1eDr70MQgt2_!!3700963838.jpg_240x240.jpg\n",
      "https://item.taobao.com/item.htm?id=856081339725\n",
      "https//img.alicdn.com/bao/uploaded/i3/3700963838/O1CN01GiO43e1eDr75afZqZ_!!3700963838.jpg_240x240.jpg\n",
      "https://item.taobao.com/item.htm?id=856219518290\n",
      "https//img.alicdn.com/bao/uploaded/i4/3700963838/O1CN01fr0x161eDr737OPJC_!!3700963838.jpg_240x240.jpg\n",
      "https://item.taobao.com/item.htm?id=856216186848\n",
      "https//img.alicdn.com/bao/uploaded/i4/3700963838/O1CN01jAZyvT1eDr74zZsmr_!!3700963838.jpg_240x240.jpg\n",
      "https://item.taobao.com/item.htm?id=856073119864\n",
      "https//img.alicdn.com/bao/uploaded/i4/3700963838/O1CN01AYi7mu1eDr76g4Aa7_!!3700963838.jpg_240x240.jpg\n",
      "https://item.taobao.com/item.htm?id=856768328578\n",
      "https//img.alicdn.com/bao/uploaded/i4/3700963838/O1CN017TVDWW1eDr74XJfCg_!!3700963838.jpg_240x240.jpg\n",
      "https://item.taobao.com/item.htm?id=856433436823\n",
      "https//img.alicdn.com/bao/uploaded/i2/3700963838/O1CN01KesCxC1eDr721jBjc_!!3700963838.jpg_240x240.jpg\n",
      "https://item.taobao.com/item.htm?id=855669403532\n",
      "https//img.alicdn.com/bao/uploaded/i4/3700963838/O1CN018DFGy91eDr72xFNBP_!!3700963838.jpg_240x240.jpg\n",
      "https://item.taobao.com/item.htm?id=855666555702\n",
      "https//img.alicdn.com/bao/uploaded/i1/3700963838/O1CN01qzoWrs1eDr71TtyBN_!!3700963838.jpg_240x240.jpg\n",
      "https://item.taobao.com/item.htm?id=855292275556\n",
      "https//img.alicdn.com/bao/uploaded/i1/3700963838/O1CN01Y1ACKl1eDr70CrhoM_!!3700963838.jpg_240x240.jpg\n",
      "https://item.taobao.com/item.htm?id=855289591946\n",
      "https//img.alicdn.com/bao/uploaded/i3/3700963838/O1CN01NYIfWx1eDr73aZah5_!!3700963838.jpg_240x240.jpg\n",
      "https://item.taobao.com/item.htm?id=855737645968\n",
      "https//img.alicdn.com/bao/uploaded/i2/3700963838/O1CN01FsuPWw1eDr71Qaotq_!!3700963838.jpg_240x240.jpg\n",
      "https://item.taobao.com/item.htm?id=855735501414\n",
      "https//img.alicdn.com/bao/uploaded/i3/3700963838/O1CN01TQVOLm1eDr70AH7Ua_!!3700963838.jpg_240x240.jpg\n",
      "https://item.taobao.com/item.htm?id=855733489596\n",
      "https//img.alicdn.com/bao/uploaded/i2/3700963838/O1CN01IUuZZZ1eDr746d6kk_!!3700963838.jpg_240x240.jpg\n",
      "https://item.taobao.com/item.htm?id=855966836496\n",
      "https//img.alicdn.com/bao/uploaded/i2/3700963838/O1CN01p0v2kL1eDr72QOfKj_!!3700963838.jpg_240x240.jpg\n",
      "https://item.taobao.com/item.htm?id=855729201662\n",
      "https//img.alicdn.com/bao/uploaded/i1/3700963838/O1CN01k1xNlo1eDr708LYMs_!!3700963838.jpg_240x240.jpg\n",
      "https://item.taobao.com/item.htm?id=855962712943\n",
      "https//img.alicdn.com/bao/uploaded/i3/3700963838/O1CN010Tlr071eDr71hwnUC_!!3700963838.jpg_240x240.jpg\n",
      "https://item.taobao.com/item.htm?id=855725469935\n",
      "https//img.alicdn.com/bao/uploaded/i4/3700963838/O1CN0176omYP1eDr72j6xW5_!!3700963838.jpg_240x240.jpg\n",
      "https://item.taobao.com/item.htm?id=855959780210\n",
      "https//img.alicdn.com/bao/uploaded/i4/3700963838/O1CN012J4dql1eDr71MGYQ7_!!3700963838.jpg_240x240.jpg\n",
      "https://item.taobao.com/item.htm?id=855723029347\n",
      "https//img.alicdn.com/bao/uploaded/i1/3700963838/O1CN016C1JGx1eDr706SKsx_!!3700963838.jpg_240x240.jpg\n",
      "https://item.taobao.com/item.htm?id=855271859304\n",
      "https//img.alicdn.com/bao/uploaded/i2/3700963838/O1CN01QLre251eDr72hoX2L_!!3700963838.jpg_240x240.jpg\n",
      "https://item.taobao.com/item.htm?id=855765968170\n",
      "https//img.alicdn.com/bao/uploaded/i2/3700963838/O1CN01dUEWl41eDr720sWD0_!!3700963838.jpg_240x240.jpg\n",
      "https://item.taobao.com/item.htm?id=855526941906\n",
      "https//img.alicdn.com/bao/uploaded/i4/3700963838/O1CN01HmMu7B1eDr73LJGnF_!!3700963838.jpg_240x240.jpg\n"
     ]
    }
   ],
   "source": [
    "ma_list = html.find(r\"#J_ShopSearchResult > div > div.shop-hesper-bd.grid > div > dl\")\n",
    "for ma in ma_list:\n",
    "    link = \"https:\" + ma.find(\"a\", first=True).attrs.get(\"href\")\n",
    "    print(link)\n",
    "\n",
    "    img = \"https\" + ma.find(\"img\", first=True).attrs.get(\"src\")\n",
    "    print(img)\n"
   ]
  }
 ],
 "metadata": {
  "kernelspec": {
   "display_name": "base",
   "language": "python",
   "name": "python3"
  },
  "language_info": {
   "codemirror_mode": {
    "name": "ipython",
    "version": 3
   },
   "file_extension": ".py",
   "mimetype": "text/x-python",
   "name": "python",
   "nbconvert_exporter": "python",
   "pygments_lexer": "ipython3",
   "version": "3.12.2"
  }
 },
 "nbformat": 4,
 "nbformat_minor": 2
}
