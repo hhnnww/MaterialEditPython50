{
 "cells": [
  {
   "cell_type": "code",
   "execution_count": 1,
   "metadata": {},
   "outputs": [],
   "source": [
    "import re\n",
    "\n",
    "from selenium.webdriver import Edge, EdgeOptions\n",
    "from selenium.webdriver.common.by import By\n",
    "\n",
    "from ipynb_上传到淘宝.class_所有图片列表 import Cla_ImageObj\n"
   ]
  },
  {
   "cell_type": "code",
   "execution_count": 2,
   "metadata": {},
   "outputs": [
    {
     "name": "stderr",
     "output_type": "stream",
     "text": [
      "The msedgedriver version (128.0.2739.67) detected in PATH at C:\\Program Files\\edgedriver_win64\\msedgedriver.exe might not be compatible with the detected MicrosoftEdge version (129.0.2792.89); currently, msedgedriver 129.0.2792.89 is recommended for MicrosoftEdge 129.*, so it is advised to delete the driver in PATH and retry\n"
     ]
    }
   ],
   "source": [
    "options = EdgeOptions()\n",
    "options.add_experimental_option(\"excludeSwitches\", [\"enable-automation\"])\n",
    "options.add_argument(\"--disable-blink-features=AutomationControlled\")\n",
    "options.add_argument(\"--headless\")\n",
    "options.add_argument(\"--no-sandbox\")\n",
    "options.add_argument(\"--disable-dev-shm-usage\")\n",
    "options.add_argument(\"--disable-gpu\")\n",
    "options.add_argument(\"--remote-debugging-port=9222\")\n",
    "options.add_argument(\"--single-process\")\n",
    "\n",
    "driver = Edge(options=options)\n",
    "driver.implicitly_wait(50)"
   ]
  },
  {
   "cell_type": "code",
   "execution_count": 3,
   "metadata": {},
   "outputs": [],
   "source": []
  },
  {
   "cell_type": "code",
   "execution_count": 4,
   "metadata": {},
   "outputs": [],
   "source": [
    "def fun_获取页面所有图片对象() -> list[Cla_ImageObj]:\n",
    "    all_pic = driver.find_elements(By.CSS_SELECTOR, \"tr.next-table-row\")\n",
    "    all_obj = []\n",
    "    for pic_obj in all_pic:\n",
    "        name = pic_obj.find_element(\n",
    "            By.CSS_SELECTOR, \"p.TemplateTablePresentation_fileName__nzcif\"\n",
    "        ).text\n",
    "        if \"-xq_\" in name:\n",
    "            url_ele = pic_obj.find_element(By.CSS_SELECTOR, \"img\")\n",
    "            if url_ele:\n",
    "                url = url_ele.get_attribute(\"src\")\n",
    "                if url:\n",
    "                    url = re.findall(\"https.*?jpg\", url)[0]\n",
    "\n",
    "                    all_obj.append(Cla_ImageObj(name=name, url=url))\n",
    "\n",
    "    return all_obj\n",
    "\n",
    "\n",
    "def fun_获取图片ID列表(obj_list: list[Cla_ImageObj]) -> list[int]:\n",
    "    return list(set([k.fun_图片ID for k in obj_list]))\n",
    "\n",
    "\n",
    "def fun_是否需要翻页(img_id_list: list[int], path_id_list: list[int]) -> bool:\n",
    "    merge_num = len(set(img_id_list + path_id_list))\n",
    "    if merge_num < len(path_id_list):\n",
    "        return True\n",
    "\n",
    "    return False"
   ]
  },
  {
   "cell_type": "code",
   "execution_count": 6,
   "metadata": {},
   "outputs": [
    {
     "name": "stdout",
     "output_type": "stream",
     "text": [
      "[<ipynb_上传到淘宝.class_所有图片列表.Cla_ImageObj object at 0x000001CFA91473B0>, <ipynb_上传到淘宝.class_所有图片列表.Cla_ImageObj object at 0x000001CFA9147D70>, <ipynb_上传到淘宝.class_所有图片列表.Cla_ImageObj object at 0x000001CFA91705C0>, <ipynb_上传到淘宝.class_所有图片列表.Cla_ImageObj object at 0x000001CFA8F513A0>, <ipynb_上传到淘宝.class_所有图片列表.Cla_ImageObj object at 0x000001CFA9170350>, <ipynb_上传到淘宝.class_所有图片列表.Cla_ImageObj object at 0x000001CFA9147EC0>, <ipynb_上传到淘宝.class_所有图片列表.Cla_ImageObj object at 0x000001CFA91707A0>, <ipynb_上传到淘宝.class_所有图片列表.Cla_ImageObj object at 0x000001CFA9170380>, <ipynb_上传到淘宝.class_所有图片列表.Cla_ImageObj object at 0x000001CFA9147200>, <ipynb_上传到淘宝.class_所有图片列表.Cla_ImageObj object at 0x000001CFA8AE73B0>, <ipynb_上传到淘宝.class_所有图片列表.Cla_ImageObj object at 0x000001CFA91705F0>, <ipynb_上传到淘宝.class_所有图片列表.Cla_ImageObj object at 0x000001CFA9146E70>, <ipynb_上传到淘宝.class_所有图片列表.Cla_ImageObj object at 0x000001CFA9147140>, <ipynb_上传到淘宝.class_所有图片列表.Cla_ImageObj object at 0x000001CFA9173500>, <ipynb_上传到淘宝.class_所有图片列表.Cla_ImageObj object at 0x000001CFA9173D70>, <ipynb_上传到淘宝.class_所有图片列表.Cla_ImageObj object at 0x000001CFA8F51190>, <ipynb_上传到淘宝.class_所有图片列表.Cla_ImageObj object at 0x000001CFA91474A0>, <ipynb_上传到淘宝.class_所有图片列表.Cla_ImageObj object at 0x000001CFA90A27E0>]\n"
     ]
    },
    {
     "ename": "NameError",
     "evalue": "name 'fun_获取图片ID列表' is not defined",
     "output_type": "error",
     "traceback": [
      "\u001b[1;31m---------------------------------------------------------------------------\u001b[0m",
      "\u001b[1;31mNameError\u001b[0m                                 Traceback (most recent call last)",
      "Cell \u001b[1;32mIn[6], line 2\u001b[0m\n\u001b[0;32m      1\u001b[0m \u001b[38;5;28mprint\u001b[39m(fun_获取页面所有图片对象())\n\u001b[1;32m----> 2\u001b[0m \u001b[38;5;28mprint\u001b[39m(fun_获取图片ID列表(fun_获取页面所有图片对象()))\n",
      "\u001b[1;31mNameError\u001b[0m: name 'fun_获取图片ID列表' is not defined"
     ]
    }
   ],
   "source": []
  }
 ],
 "metadata": {
  "kernelspec": {
   "display_name": "base",
   "language": "python",
   "name": "python3"
  },
  "language_info": {
   "codemirror_mode": {
    "name": "ipython",
    "version": 3
   },
   "file_extension": ".py",
   "mimetype": "text/x-python",
   "name": "python",
   "nbconvert_exporter": "python",
   "pygments_lexer": "ipython3",
   "version": "3.12.2"
  }
 },
 "nbformat": 4,
 "nbformat_minor": 2
}
