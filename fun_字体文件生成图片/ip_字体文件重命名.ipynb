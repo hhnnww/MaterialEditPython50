{
 "cells": [
  {
   "cell_type": "code",
   "execution_count": 8,
   "metadata": {},
   "outputs": [],
   "source": [
    "from pathlib import Path\n",
    "\n",
    "from uuid_extensions import uuid7\n",
    "\n",
    "ma_path = Path(r\"F:\\小夕素材\\5000-5999\\5168\")\n",
    "for num, in_file in enumerate(list(ma_path.rglob(\"*\"))):\n",
    "    if in_file.is_file():\n",
    "        new_path = in_file.with_stem(str(uuid7())).with_suffix(in_file.suffix.lower())\n",
    "        in_file.rename(new_path)\n",
    "\n",
    "for num, in_file in enumerate(list(ma_path.rglob(\"*\"))):\n",
    "    if in_file.is_file():\n",
    "        new_path = in_file.with_stem(f\"小夕素材({num})\")\n",
    "        in_file.rename(new_path)"
   ]
  }
 ],
 "metadata": {
  "kernelspec": {
   "display_name": "base",
   "language": "python",
   "name": "python3"
  },
  "language_info": {
   "codemirror_mode": {
    "name": "ipython",
    "version": 3
   },
   "file_extension": ".py",
   "mimetype": "text/x-python",
   "name": "python",
   "nbconvert_exporter": "python",
   "pygments_lexer": "ipython3",
   "version": "3.12.2"
  }
 },
 "nbformat": 4,
 "nbformat_minor": 2
}
