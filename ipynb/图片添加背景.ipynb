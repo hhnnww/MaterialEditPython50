{
 "cells": [
  {
   "cell_type": "code",
   "execution_count": null,
   "id": "49e0ebc7",
   "metadata": {},
   "outputs": [],
   "source": [
    "from pathlib import Path\n",
    "\n",
    "from PIL import Image\n",
    "\n",
    "from image_action.image_action import ImageAction\n",
    "\n",
    "for infile in Path(r\"F:\\小夕素材\\H000-H999\\H0374\\H0374\").iterdir():\n",
    "    if infile.is_file() and infile.suffix.lower() in [\".png\"]:\n",
    "        with Image.open(infile) as im:\n",
    "            ImageAction.fun_图片添加背景(im, (255, 255, 255, 255)).convert(\"RGB\").save(\n",
    "                infile.with_suffix(\".jpg\"),\n",
    "            )\n",
    "            infile.unlink()"
   ]
  }
 ],
 "metadata": {
  "kernelspec": {
   "display_name": "base",
   "language": "python",
   "name": "python3"
  },
  "language_info": {
   "codemirror_mode": {
    "name": "ipython",
    "version": 3
   },
   "file_extension": ".py",
   "mimetype": "text/x-python",
   "name": "python",
   "nbconvert_exporter": "python",
   "pygments_lexer": "ipython3",
   "version": "3.12.2"
  }
 },
 "nbformat": 4,
 "nbformat_minor": 5
}
