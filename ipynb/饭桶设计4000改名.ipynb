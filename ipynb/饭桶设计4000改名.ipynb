{
 "cells": [
  {
   "cell_type": "code",
   "execution_count": 11,
   "metadata": {},
   "outputs": [
    {
     "name": "stdout",
     "output_type": "stream",
     "text": [
      "F:\\饭桶设计\\4000-4999\\0000 F:\\饭桶设计\\4000-4999\\4000\n",
      "F:\\饭桶设计\\4000-4999\\0001 F:\\饭桶设计\\4000-4999\\4001\n",
      "F:\\饭桶设计\\4000-4999\\0002 F:\\饭桶设计\\4000-4999\\4002\n",
      "F:\\饭桶设计\\4000-4999\\0003 F:\\饭桶设计\\4000-4999\\4003\n",
      "F:\\饭桶设计\\4000-4999\\0004 F:\\饭桶设计\\4000-4999\\4004\n",
      "F:\\饭桶设计\\4000-4999\\0005 F:\\饭桶设计\\4000-4999\\4005\n",
      "F:\\饭桶设计\\4000-4999\\0006 F:\\饭桶设计\\4000-4999\\4006\n",
      "F:\\饭桶设计\\4000-4999\\0007 F:\\饭桶设计\\4000-4999\\4007\n",
      "F:\\饭桶设计\\4000-4999\\0008 F:\\饭桶设计\\4000-4999\\4008\n",
      "F:\\饭桶设计\\4000-4999\\0009 F:\\饭桶设计\\4000-4999\\4009\n",
      "F:\\饭桶设计\\4000-4999\\0010 F:\\饭桶设计\\4000-4999\\4010\n",
      "F:\\饭桶设计\\4000-4999\\0011 F:\\饭桶设计\\4000-4999\\4011\n",
      "F:\\饭桶设计\\4000-4999\\0012 F:\\饭桶设计\\4000-4999\\4012\n",
      "F:\\饭桶设计\\4000-4999\\0013 F:\\饭桶设计\\4000-4999\\4013\n",
      "F:\\饭桶设计\\4000-4999\\0014 F:\\饭桶设计\\4000-4999\\4014\n",
      "F:\\饭桶设计\\4000-4999\\0015 F:\\饭桶设计\\4000-4999\\4015\n",
      "F:\\饭桶设计\\4000-4999\\0016 F:\\饭桶设计\\4000-4999\\4016\n"
     ]
    }
   ],
   "source": [
    "from pathlib import Path\n",
    "\n",
    "for in_path in Path(r\"F:\\饭桶设计\\4000-4999\").rglob(\"*\"):\n",
    "    if in_path.is_dir() and len(in_path.parts) == 4 and \"00\" in in_path.stem:\n",
    "        stem = list(in_path.stem)\n",
    "        stem[0] = \"4\"\n",
    "        new_stem = \"\".join(stem)\n",
    "        new_path = in_path.with_stem(new_stem)\n",
    "        print(in_path, new_path)\n",
    "        in_path.rename(new_path)"
   ]
  }
 ],
 "metadata": {
  "kernelspec": {
   "display_name": "base",
   "language": "python",
   "name": "python3"
  },
  "language_info": {
   "codemirror_mode": {
    "name": "ipython",
    "version": 3
   },
   "file_extension": ".py",
   "mimetype": "text/x-python",
   "name": "python",
   "nbconvert_exporter": "python",
   "pygments_lexer": "ipython3",
   "version": "3.12.2"
  }
 },
 "nbformat": 4,
 "nbformat_minor": 2
}
