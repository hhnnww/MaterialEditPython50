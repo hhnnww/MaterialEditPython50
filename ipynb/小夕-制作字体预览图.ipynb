{
 "cells": [
  {
   "cell_type": "code",
   "execution_count": 23,
   "metadata": {},
   "outputs": [],
   "source": [
    "import math\n",
    "from pathlib import Path\n",
    "from uuid import uuid4\n",
    "\n",
    "from PIL import Image, ImageDraw, ImageFont\n",
    "\n",
    "bg = Image.open(r\"C:\\Users\\aimlo\\Desktop\\字体背景.png\")\n",
    "for text in [\n",
    "    \"对酒当歌\",\n",
    "    \"招牌\",\n",
    "    \"小酒馆\",\n",
    "    \"风云\",\n",
    "    \"天地\",\n",
    "    \"大海\",\n",
    "    \"天空\",\n",
    "    \"梦境\",\n",
    "    \"崇山\",\n",
    "    \"人生几何\",\n",
    "    \"暮云春树\",\n",
    "    \"一叶知秋\",\n",
    "    \"秋花秋月\",\n",
    "    \"浮生若梦\",\n",
    "    \"岁寒三友\",\n",
    "]:\n",
    "    for fnt_path in Path(r\"F:\\小夕素材\\10000-20000\\10720\\10720\").iterdir():\n",
    "        if fnt_path.is_file() and fnt_path.suffix.lower() in [\".ttc\", \".ttf\", \".otf\"]:\n",
    "            bg = Image.open(r\"C:\\Users\\aimlo\\Desktop\\字体背景.png\")\n",
    "            truefont = ImageFont.truetype(\n",
    "                font=fnt_path.as_posix(),\n",
    "                size=1500,\n",
    "            )\n",
    "\n",
    "            bbox = truefont.getbbox(text)\n",
    "            tbg = Image.new(\n",
    "                \"RGBA\", (math.ceil(bbox[2]), math.ceil(bbox[3])), (255, 255, 255, 0)\n",
    "            )\n",
    "            try:\n",
    "                draw = ImageDraw.Draw(\n",
    "                    tbg,\n",
    "                )\n",
    "                draw.text((0, 0), text=text, fill=(0, 0, 0, 255), font=truefont)\n",
    "                tbg.thumbnail(\n",
    "                    (int(bg.width * 0.8), int(bg.height * 0.8)),\n",
    "                    resample=Image.Resampling.LANCZOS,\n",
    "                )\n",
    "                left = math.ceil((bg.width - tbg.width) / 2)\n",
    "                top = math.ceil((bg.height - tbg.height) / 2) - 50\n",
    "                bg.paste(tbg, (left, top), tbg)\n",
    "\n",
    "                bg.save(rf\"F:\\小夕素材\\10000-20000\\10720\\效果图\\xq5-{str(uuid4())}.jpg\")\n",
    "\n",
    "            except OSError:\n",
    "                pass"
   ]
  }
 ],
 "metadata": {
  "kernelspec": {
   "display_name": "base",
   "language": "python",
   "name": "python3"
  },
  "language_info": {
   "codemirror_mode": {
    "name": "ipython",
    "version": 3
   },
   "file_extension": ".py",
   "mimetype": "text/x-python",
   "name": "python",
   "nbconvert_exporter": "python",
   "pygments_lexer": "ipython3",
   "version": "3.12.2"
  }
 },
 "nbformat": 4,
 "nbformat_minor": 2
}
