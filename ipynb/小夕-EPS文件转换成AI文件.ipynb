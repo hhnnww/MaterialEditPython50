{
 "cells": [
  {
   "cell_type": "code",
   "execution_count": 16,
   "metadata": {},
   "outputs": [],
   "source": [
    "from pathlib import Path\n",
    "\n",
    "from win32com.client import Dispatch\n",
    "\n",
    "app = Dispatch(\"Illustrator.Application\")\n",
    "\n",
    "for in_file in Path(r\"F:\\小夕素材\\10000-20000\\10711\").rglob(\"*\"):\n",
    "    if in_file.suffix.lower() in [\".eps\"] and in_file.is_file():\n",
    "        ai_path = in_file.with_suffix(\".ai\")\n",
    "\n",
    "        doc = app.Open(in_file.as_posix())\n",
    "        doc.SaveAs(ai_path)\n",
    "        doc.Close(2)\n",
    "        in_file.unlink()\n",
    "\n",
    "app.Quit()"
   ]
  }
 ],
 "metadata": {
  "kernelspec": {
   "display_name": "base",
   "language": "python",
   "name": "python3"
  },
  "language_info": {
   "codemirror_mode": {
    "name": "ipython",
    "version": 3
   },
   "file_extension": ".py",
   "mimetype": "text/x-python",
   "name": "python",
   "nbconvert_exporter": "python",
   "pygments_lexer": "ipython3",
   "version": "3.12.2"
  }
 },
 "nbformat": 4,
 "nbformat_minor": 2
}
