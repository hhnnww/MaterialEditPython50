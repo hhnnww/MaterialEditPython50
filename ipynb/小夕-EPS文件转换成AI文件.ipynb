{
 "cells": [
  {
   "cell_type": "code",
   "execution_count": 18,
   "metadata": {},
   "outputs": [
    {
     "name": "stdout",
     "output_type": "stream",
     "text": [
      "F:/BaiduNetdiskDownload/0458/0458/小夕素材_xiaoxisc.com_20190918154331_1.eps\n",
      "F:/BaiduNetdiskDownload/0458/0458/小夕素材_xiaoxisc.com_20190918154332_2.eps\n",
      "F:/BaiduNetdiskDownload/0458/0458/小夕素材_xiaoxisc.com_20190918154332_3.eps\n",
      "F:/BaiduNetdiskDownload/0458/0458/小夕素材_xiaoxisc.com_20190918154333_4.eps\n",
      "F:/BaiduNetdiskDownload/0458/0458/小夕素材_xiaoxisc.com_20190918154333_5.eps\n",
      "F:/BaiduNetdiskDownload/0458/0458/小夕素材_xiaoxisc.com_20190918154334_6.eps\n",
      "F:/BaiduNetdiskDownload/0458/0458/小夕素材_xiaoxisc.com_20190918154334_7.eps\n",
      "F:/BaiduNetdiskDownload/0458/0458/小夕素材_xiaoxisc.com_20190918154335_8.eps\n",
      "F:/BaiduNetdiskDownload/0458/0458/小夕素材_xiaoxisc.com_20190918154335_9.eps\n",
      "F:/BaiduNetdiskDownload/0458/0458/小夕素材_xiaoxisc.com_20190918154336_10.eps\n",
      "F:/BaiduNetdiskDownload/0458/0458/小夕素材_xiaoxisc.com_20190918154337_11.eps\n",
      "F:/BaiduNetdiskDownload/0458/0458/小夕素材_xiaoxisc.com_20190918154337_12.eps\n",
      "F:/BaiduNetdiskDownload/0458/0458/小夕素材_xiaoxisc.com_20190918154338_13.eps\n",
      "F:/BaiduNetdiskDownload/0458/0458/小夕素材_xiaoxisc.com_20190918154339_14.eps\n",
      "F:/BaiduNetdiskDownload/0458/0458/小夕素材_xiaoxisc.com_20190918154339_15.eps\n",
      "F:/BaiduNetdiskDownload/0458/0458/小夕素材_xiaoxisc.com_20190918154340_16.eps\n",
      "F:/BaiduNetdiskDownload/0458/0458/小夕素材_xiaoxisc.com_20190918154340_17.eps\n",
      "F:/BaiduNetdiskDownload/0458/0458/小夕素材_xiaoxisc.com_20190918154341_18.eps\n",
      "F:/BaiduNetdiskDownload/0458/0458/小夕素材_xiaoxisc.com_20190918154341_19.eps\n",
      "F:/BaiduNetdiskDownload/0458/0458/小夕素材_xiaoxisc.com_20190918154342_20.eps\n",
      "F:/BaiduNetdiskDownload/0458/0458/小夕素材_xiaoxisc.com_20190918154342_21.eps\n",
      "F:/BaiduNetdiskDownload/0458/0458/小夕素材_xiaoxisc.com_20190918154343_22.eps\n",
      "F:/BaiduNetdiskDownload/0458/0458/小夕素材_xiaoxisc.com_20190918154343_23.eps\n"
     ]
    }
   ],
   "source": [
    "from pathlib import Path\n",
    "\n",
    "from win32com.client import Dispatch\n",
    "\n",
    "app = Dispatch(\"Illustrator.Application\")\n",
    "\n",
    "for in_file in Path(r\"F:\\BaiduNetdiskDownload\\0458\").rglob(\"*\"):\n",
    "    if in_file.suffix.lower() in [\".eps\"] and in_file.is_file():\n",
    "        print(in_file.as_posix())\n",
    "        ai_path = in_file.with_suffix(\".ai\")\n",
    "\n",
    "        doc = app.Open(in_file.as_posix())\n",
    "        doc.SaveAs(ai_path)\n",
    "        doc.Close(2)\n",
    "        in_file.unlink()\n",
    "\n",
    "# app.Quit()"
   ]
  }
 ],
 "metadata": {
  "kernelspec": {
   "display_name": "base",
   "language": "python",
   "name": "python3"
  },
  "language_info": {
   "codemirror_mode": {
    "name": "ipython",
    "version": 3
   },
   "file_extension": ".py",
   "mimetype": "text/x-python",
   "name": "python",
   "nbconvert_exporter": "python",
   "pygments_lexer": "ipython3",
   "version": "3.12.2"
  }
 },
 "nbformat": 4,
 "nbformat_minor": 2
}
