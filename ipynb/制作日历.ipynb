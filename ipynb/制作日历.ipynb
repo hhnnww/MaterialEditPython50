{
 "cells": [
  {
   "cell_type": "code",
   "execution_count": 42,
   "metadata": {},
   "outputs": [
    {
     "name": "stdout",
     "output_type": "stream",
     "text": [
      "F:\\小夕素材\\10000-20000\\10573\\10573\\小夕素材(01)\n",
      "F:\\小夕素材\\10000-20000\\10573\\10573\\小夕素材(02)\n",
      "F:\\小夕素材\\10000-20000\\10573\\10573\\小夕素材(03)\n",
      "F:\\小夕素材\\10000-20000\\10573\\10573\\小夕素材(04)\n",
      "F:\\小夕素材\\10000-20000\\10573\\10573\\小夕素材(05)\n",
      "F:\\小夕素材\\10000-20000\\10573\\10573\\小夕素材(06)\n",
      "F:\\小夕素材\\10000-20000\\10573\\10573\\小夕素材(07)\n",
      "F:\\小夕素材\\10000-20000\\10573\\10573\\小夕素材(08)\n",
      "F:\\小夕素材\\10000-20000\\10573\\10573\\小夕素材(09)\n",
      "F:\\小夕素材\\10000-20000\\10573\\10573\\小夕素材(10)\n",
      "F:\\小夕素材\\10000-20000\\10573\\10573\\小夕素材(11)\n",
      "F:\\小夕素材\\10000-20000\\10573\\10573\\小夕素材(12)\n",
      "F:\\小夕素材\\10000-20000\\10573\\10573\\小夕素材(13)\n",
      "F:\\小夕素材\\10000-20000\\10573\\10573\\小夕素材(14)\n",
      "F:\\小夕素材\\10000-20000\\10573\\10573\\小夕素材(15)\n",
      "F:\\小夕素材\\10000-20000\\10573\\10573\\小夕素材(16)\n",
      "F:\\小夕素材\\10000-20000\\10573\\10573\\小夕素材(17)\n",
      "F:\\小夕素材\\10000-20000\\10573\\10573\\小夕素材(18)\n",
      "F:\\小夕素材\\10000-20000\\10573\\10573\\小夕素材(19)\n",
      "F:\\小夕素材\\10000-20000\\10573\\10573\\小夕素材(20)\n",
      "F:\\小夕素材\\10000-20000\\10573\\10573\\小夕素材(21)\n"
     ]
    }
   ],
   "source": [
    "import re\n",
    "from pathlib import Path\n",
    "\n",
    "from PIL import Image\n",
    "\n",
    "from MaterialEdit.fun_图片编辑.fun_图片扩大粘贴 import fun_图片扩大粘贴\n",
    "from MaterialEdit.fun_图片编辑.fun_图片拼接.fun_图片横向拼接 import fun_图片横向拼接\n",
    "from MaterialEdit.fun_图片编辑.fun_图片拼接.fun_图片竖向拼接 import fun_图片竖向拼接\n",
    "\n",
    "\n",
    "def fun_查找数字(stem: str):\n",
    "    num = re.findall(r\"\\d+\", stem)\n",
    "    num_str = \"\".join(num)\n",
    "    return int(num_str)\n",
    "\n",
    "\n",
    "def fun_单个文件夹制作合并图(ma_path: Path):\n",
    "    # ma_path = Path(r\"F:\\小夕素材\\10000-20000\\10573\\10573\\小夕素材(01)\")\n",
    "    print(ma_path)\n",
    "    png_path = ma_path.parent / f\"{ma_path.stem}.png\"\n",
    "    if png_path.exists() is True:\n",
    "        return\n",
    "\n",
    "    pic_list = []\n",
    "    for in_file in ma_path.iterdir():\n",
    "        if in_file.is_file() and in_file.suffix.lower() in [\".png\", \".jpg\"]:\n",
    "            if (\n",
    "                \"面\" not in in_file.stem\n",
    "                and \"封\" not in in_file.stem\n",
    "                and \"小夕素材\" not in in_file.stem\n",
    "            ):\n",
    "                try:\n",
    "                    fun_查找数字(in_file.stem)\n",
    "                except:\n",
    "                    pass\n",
    "                else:\n",
    "                    pic_list.append(in_file)\n",
    "\n",
    "    if len(pic_list) == 0:\n",
    "        return\n",
    "\n",
    "    pic_list.sort(key=lambda k: fun_查找数字(k.stem))\n",
    "    pil_list = [Image.open(in_file.as_posix()) for in_file in pic_list]\n",
    "    for pil in pil_list:\n",
    "        pil.thumbnail((1200, 1200))\n",
    "\n",
    "    pil_list = [pil_list[x : x + 3] for x in range(0, len(pic_list), 3)]\n",
    "\n",
    "    pil_list = [\n",
    "        fun_图片横向拼接(\n",
    "            image_list=in_line,\n",
    "            spacing=20,\n",
    "            align_item=\"start\",\n",
    "            background_color=(255, 255, 255, 0),\n",
    "        )\n",
    "        for in_line in pil_list\n",
    "    ]\n",
    "\n",
    "    bg = fun_图片竖向拼接(\n",
    "        image_list=pil_list,\n",
    "        spacing=20,\n",
    "        align_item=\"start\",\n",
    "        background_color=(255, 255, 255, 0),\n",
    "    )\n",
    "\n",
    "    bg = fun_图片扩大粘贴(\n",
    "        im=bg,\n",
    "        width=bg.width + 40,\n",
    "        height=bg.height + 40,\n",
    "        left=\"center\",\n",
    "        top=\"center\",\n",
    "        background_color=(255, 255, 255, 0),\n",
    "    )\n",
    "\n",
    "    bg.save(png_path.as_posix())\n",
    "\n",
    "\n",
    "for in_path in Path(r\"F:\\小夕素材\\10000-20000\\10573\\10573\").iterdir():\n",
    "    if in_path.is_dir():\n",
    "        fun_单个文件夹制作合并图(ma_path=in_path)"
   ]
  },
  {
   "cell_type": "code",
   "execution_count": 27,
   "metadata": {},
   "outputs": [
    {
     "data": {
      "text/plain": [
       "1"
      ]
     },
     "execution_count": 27,
     "metadata": {},
     "output_type": "execute_result"
    }
   ],
   "source": []
  }
 ],
 "metadata": {
  "kernelspec": {
   "display_name": "base",
   "language": "python",
   "name": "python3"
  },
  "language_info": {
   "codemirror_mode": {
    "name": "ipython",
    "version": 3
   },
   "file_extension": ".py",
   "mimetype": "text/x-python",
   "name": "python",
   "nbconvert_exporter": "python",
   "pygments_lexer": "ipython3",
   "version": "3.12.2"
  }
 },
 "nbformat": 4,
 "nbformat_minor": 2
}
