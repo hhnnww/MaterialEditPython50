{
 "cells": [
  {
   "cell_type": "code",
   "execution_count": 8,
   "id": "d0a9cbba",
   "metadata": {},
   "outputs": [],
   "source": [
    "from pathlib import Path\n",
    "\n",
    "from PIL import Image\n",
    "\n",
    "from MaterialEdit.fun_图片编辑.fun_图片扩大粘贴 import fun_图片扩大粘贴\n",
    "from MaterialEdit.fun_图片编辑.fun_图片拼接.fun_图片横向拼接 import fun_图片横向拼接\n",
    "from MaterialEdit.fun_图片编辑.fun_图片拼接.fun_图片竖向拼接 import fun_图片竖向拼接\n",
    "from MaterialEdit.setting import IMAGE_SUFFIX\n",
    "\n",
    "\n",
    "def fun_单个文件夹制作预览图(sub_path: Path) -> Image.Image:\n",
    "    all_image = [\n",
    "        Image.open(infile)\n",
    "        for infile in sub_path.iterdir()\n",
    "        if infile.is_file() and infile.suffix.lower() in IMAGE_SUFFIX\n",
    "    ]\n",
    "    rows_count = 3\n",
    "    rows = [all_image[i : i + rows_count] for i in range(0, len(all_image), rows_count)]\n",
    "    lines = []\n",
    "\n",
    "    spacing = 60\n",
    "    bg_color = (0, 0, 0, 0)\n",
    "    for row in rows:\n",
    "        row_image = fun_图片横向拼接(\n",
    "            image_list=row,\n",
    "            spacing=spacing,\n",
    "            align_item=\"start\",\n",
    "            background_color=bg_color,\n",
    "        )\n",
    "        lines.append(row_image)\n",
    "\n",
    "    bg = fun_图片竖向拼接(\n",
    "        image_list=lines,\n",
    "        spacing=spacing,\n",
    "        align_item=\"start\",\n",
    "        background_color=bg_color,\n",
    "    )\n",
    "\n",
    "    return fun_图片扩大粘贴(\n",
    "        im=bg,\n",
    "        width=bg.width + (spacing * 2),\n",
    "        height=bg.height + (spacing * 2),\n",
    "        left=\"center\",\n",
    "        top=\"center\",\n",
    "        background_color=(235, 235, 235, 255),\n",
    "    )\n",
    "\n",
    "\n",
    "for sub_path in Path(r\"F:\\小夕素材\\11000-11999\\11207\\11207\").iterdir():\n",
    "    if sub_path.is_dir():\n",
    "        bg = fun_单个文件夹制作预览图(sub_path)\n",
    "        pic_path = sub_path.parent / f\"{sub_path.stem}.png\"\n",
    "        bg.save(pic_path.as_posix())\n",
    "        bg.close()"
   ]
  }
 ],
 "metadata": {
  "kernelspec": {
   "display_name": "base",
   "language": "python",
   "name": "python3"
  },
  "language_info": {
   "codemirror_mode": {
    "name": "ipython",
    "version": 3
   },
   "file_extension": ".py",
   "mimetype": "text/x-python",
   "name": "python",
   "nbconvert_exporter": "python",
   "pygments_lexer": "ipython3",
   "version": "3.12.2"
  }
 },
 "nbformat": 4,
 "nbformat_minor": 5
}
