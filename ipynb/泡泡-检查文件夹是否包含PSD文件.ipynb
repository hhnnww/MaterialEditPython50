{
 "cells": [
  {
   "cell_type": "code",
   "execution_count": 9,
   "metadata": {},
   "outputs": [
    {
     "name": "stdout",
     "output_type": "stream",
     "text": [
      "D:\\down\\泡泡\\E1821 文艺写真大头照 30 120\n",
      "D:\\down\\泡泡\\E1824 古风男童大头照 10 23\n",
      "D:\\down\\泡泡\\E1825 女童宫装大头照 16 48\n",
      "D:\\down\\泡泡\\E1831 情侣大头照 10 20\n",
      "D:\\down\\泡泡\\E1833 超人一家大头照 12 24\n",
      "D:\\down\\泡泡\\E1838 古风少年大头照 22 44\n",
      "D:\\down\\泡泡\\E1839 古风少女大头照 28 56\n",
      "D:\\down\\泡泡\\E1854 古风Q版大头照 24 48\n",
      "D:\\down\\泡泡\\E1891 创意大头照素材 21 43\n",
      "D:\\down\\泡泡\\E1913 全家福大头照 9 18\n",
      "D:\\down\\泡泡\\E1933 全家福大头照 8 16\n",
      "D:\\down\\泡泡\\G1454-爱你的100天满月模板12款---带字体 12 24\n",
      "D:\\down\\泡泡\\L006 快乐的时光 6 12\n",
      "D:\\down\\泡泡\\L137 亲子联动模板 27 35\n",
      "D:\\down\\泡泡\\Z304 全家福文字 17 24\n"
     ]
    }
   ],
   "source": [
    "from pathlib import Path\n",
    "\n",
    "from MaterialEdit.fun_文件夹操作.fun_遍历指定文件 import fun_遍历指定文件\n",
    "\n",
    "down_path = Path(r\"D:\\down\\泡泡\")\n",
    "\n",
    "for in_path in down_path.iterdir():\n",
    "    if in_path.is_dir():\n",
    "        psd_file = fun_遍历指定文件(in_path.as_posix(), suffix=[\".psd\", \".psb\"])\n",
    "        pic_file = fun_遍历指定文件(\n",
    "            in_path.as_posix(), suffix=[\".png\", \".jpg\", \".jpeg\"]\n",
    "        )\n",
    "        if len(psd_file) == 0 or len(pic_file) * 0.8 > len(psd_file):\n",
    "            print(in_path, len(psd_file), len(pic_file))"
   ]
  }
 ],
 "metadata": {
  "kernelspec": {
   "display_name": "base",
   "language": "python",
   "name": "python3"
  },
  "language_info": {
   "codemirror_mode": {
    "name": "ipython",
    "version": 3
   },
   "file_extension": ".py",
   "mimetype": "text/x-python",
   "name": "python",
   "nbconvert_exporter": "python",
   "pygments_lexer": "ipython3",
   "version": "3.12.2"
  }
 },
 "nbformat": 4,
 "nbformat_minor": 2
}
