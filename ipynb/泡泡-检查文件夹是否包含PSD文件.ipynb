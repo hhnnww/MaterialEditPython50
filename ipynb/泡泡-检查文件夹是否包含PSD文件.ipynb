{
 "cells": [
  {
   "cell_type": "code",
   "execution_count": 2,
   "metadata": {},
   "outputs": [
    {
     "name": "stdout",
     "output_type": "stream",
     "text": [
      "F:\\DOWN\\可制作\\泡泡\\XC-1234\\XC-1234\\N169潮童儿童四PSD+N8竖版40P\n",
      "F:\\DOWN\\可制作\\泡泡\\XC-190-杂志风个人写真 12 25\n",
      "F:\\DOWN\\可制作\\泡泡\\Y1233 梦幻敦煌风 6 8\n",
      "F:\\DOWN\\可制作\\泡泡\\Y1441 金属荷花 9 18\n"
     ]
    }
   ],
   "source": [
    "from pathlib import Path\n",
    "\n",
    "from MaterialEdit.fun_文件夹操作.fun_遍历指定文件 import fun_遍历指定文件\n",
    "\n",
    "down_path = Path(r\"F:\\DOWN\\可制作\\泡泡\")\n",
    "\n",
    "for in_path in down_path.iterdir():\n",
    "    if in_path.is_dir():\n",
    "        psd_file = fun_遍历指定文件(in_path.as_posix(), suffix=[\".psd\", \".psb\"])\n",
    "        pic_file = fun_遍历指定文件(\n",
    "            in_path.as_posix(), suffix=[\".png\", \".jpg\", \".jpeg\"]\n",
    "        )\n",
    "        if len(psd_file) == 0 or len(pic_file) * 0.8 > len(psd_file):\n",
    "            print(in_path, len(psd_file), len(pic_file))\n",
    "\n",
    "        for in_file in in_path.rglob(\"*\"):\n",
    "            if in_file.is_dir() and \"n8\" in in_file.stem.lower():\n",
    "                print(in_file)"
   ]
  }
 ],
 "metadata": {
  "kernelspec": {
   "display_name": "base",
   "language": "python",
   "name": "python3"
  },
  "language_info": {
   "codemirror_mode": {
    "name": "ipython",
    "version": 3
   },
   "file_extension": ".py",
   "mimetype": "text/x-python",
   "name": "python",
   "nbconvert_exporter": "python",
   "pygments_lexer": "ipython3",
   "version": "3.12.2"
  }
 },
 "nbformat": 4,
 "nbformat_minor": 2
}
