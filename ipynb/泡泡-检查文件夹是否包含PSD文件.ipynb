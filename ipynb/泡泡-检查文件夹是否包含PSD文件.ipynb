{
 "cells": [
  {
   "cell_type": "code",
   "execution_count": 1,
   "metadata": {},
   "outputs": [
    {
     "name": "stdout",
     "output_type": "stream",
     "text": [
      "D:\\down\\Y2296 生日气球 6 16\n"
     ]
    }
   ],
   "source": [
    "from pathlib import Path\n",
    "\n",
    "from MaterialEdit.fun_文件夹操作.fun_遍历指定文件 import fun_遍历指定文件\n",
    "\n",
    "down_path = Path(r\"D:\\down\")\n",
    "\n",
    "for in_path in down_path.iterdir():\n",
    "    if in_path.is_dir():\n",
    "        psd_file = fun_遍历指定文件(in_path.as_posix(), suffix=[\".psd\", \".psb\"])\n",
    "        pic_file = fun_遍历指定文件(\n",
    "            in_path.as_posix(), suffix=[\".png\", \".jpg\", \".jpeg\"]\n",
    "        )\n",
    "        if len(psd_file) == 0 or len(pic_file) * 0.8 > len(psd_file):\n",
    "            print(in_path, len(psd_file), len(pic_file))"
   ]
  }
 ],
 "metadata": {
  "kernelspec": {
   "display_name": "base",
   "language": "python",
   "name": "python3"
  },
  "language_info": {
   "codemirror_mode": {
    "name": "ipython",
    "version": 3
   },
   "file_extension": ".py",
   "mimetype": "text/x-python",
   "name": "python",
   "nbconvert_exporter": "python",
   "pygments_lexer": "ipython3",
   "version": "3.12.2"
  }
 },
 "nbformat": 4,
 "nbformat_minor": 2
}
