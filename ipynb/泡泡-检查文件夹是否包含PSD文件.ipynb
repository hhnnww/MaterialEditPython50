{
 "cells": [
  {
   "cell_type": "code",
   "execution_count": 2,
   "metadata": {},
   "outputs": [
    {
     "name": "stdout",
     "output_type": "stream",
     "text": [
      "F:\\DOWN\\可制作\\泡泡\\2555-儿童古风方版 \n",
      "psd文件: 60 \n",
      "pic文件: 121 \n",
      "\n",
      "\n",
      "F:\\DOWN\\可制作\\泡泡\\2555-儿童古风方版\\n8\n",
      "F:\\DOWN\\可制作\\泡泡\\6幅喜庆毛笔字画 \n",
      "psd文件: 6 \n",
      "pic文件: 10 \n",
      "\n",
      "\n",
      "F:\\DOWN\\可制作\\泡泡\\G1629-领导退休纪念册模板-方版-16P \n",
      "psd文件: 16 \n",
      "pic文件: 32 \n",
      "\n",
      "\n",
      "F:\\DOWN\\可制作\\泡泡\\MDJP-男童整体模板（105款） \n",
      "psd文件: 105 \n",
      "pic文件: 210 \n",
      "\n",
      "\n",
      "F:\\DOWN\\可制作\\泡泡\\发光蝴蝶18款 \n",
      "psd文件: 39 \n",
      "pic文件: 74 \n",
      "\n",
      "\n",
      "F:\\DOWN\\可制作\\泡泡\\梦幻蝴蝶星光素材 \n",
      "psd文件: 13 \n",
      "pic文件: 54 \n",
      "\n",
      "\n"
     ]
    }
   ],
   "source": [
    "from pathlib import Path\n",
    "\n",
    "from MaterialEdit.fun_文件夹操作.fun_遍历指定文件 import fun_遍历指定文件\n",
    "\n",
    "down_path = Path(r\"F:\\DOWN\\可制作\\泡泡\")\n",
    "\n",
    "for in_path in down_path.iterdir():\n",
    "    if in_path.is_dir():\n",
    "        psd_file = fun_遍历指定文件(in_path.as_posix(), suffix=[\".psd\", \".psb\"])\n",
    "        pic_file = fun_遍历指定文件(\n",
    "            in_path.as_posix(), suffix=[\".png\", \".jpg\", \".jpeg\"]\n",
    "        )\n",
    "        if len(psd_file) == 0 or len(pic_file) * 0.8 > len(psd_file):\n",
    "            print(\n",
    "                in_path,\n",
    "                \"\\npsd文件:\",\n",
    "                len(psd_file),\n",
    "                \"\\npic文件:\",\n",
    "                len(pic_file),\n",
    "                \"\\n\\n\",\n",
    "            )\n",
    "\n",
    "        for in_file in in_path.rglob(\"*\"):\n",
    "            if in_file.is_dir() and \"n8\" in in_file.stem.lower():\n",
    "                print(in_file)"
   ]
  }
 ],
 "metadata": {
  "kernelspec": {
   "display_name": "base",
   "language": "python",
   "name": "python3"
  },
  "language_info": {
   "codemirror_mode": {
    "name": "ipython",
    "version": 3
   },
   "file_extension": ".py",
   "mimetype": "text/x-python",
   "name": "python",
   "nbconvert_exporter": "python",
   "pygments_lexer": "ipython3",
   "version": "3.12.2"
  }
 },
 "nbformat": 4,
 "nbformat_minor": 2
}
