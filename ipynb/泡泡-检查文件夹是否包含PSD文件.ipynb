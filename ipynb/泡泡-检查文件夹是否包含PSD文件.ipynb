{
 "cells": [
  {
   "cell_type": "code",
   "execution_count": 8,
   "metadata": {},
   "outputs": [
    {
     "name": "stdout",
     "output_type": "stream",
     "text": [
      "F:\\DOWN\\可制作\\泡泡\\G1013-美味厨师宝宝模板5款 \tpsd文件: 5 \tpic文件: 10\n",
      "F:\\DOWN\\可制作\\泡泡\\G1256-黑悟空写真背景图-JPG格式 \tpsd文件: 8 \tpic文件: 150\n",
      "F:\\DOWN\\可制作\\泡泡\\G1625-新款婚礼展架模板4款 \tpsd文件: 4 \tpic文件: 8\n",
      "F:\\DOWN\\可制作\\泡泡\\G1726-领导退休纪念册模板-方版15P \tpsd文件: 15 \tpic文件: 30\n",
      "F:\\DOWN\\可制作\\泡泡\\Y1000 书童 \tpsd文件: 7 \tpic文件: 9\n",
      "F:\\DOWN\\可制作\\泡泡\\Y1278 米老鼠 \tpsd文件: 6 \tpic文件: 8\n",
      "F:\\DOWN\\可制作\\泡泡\\Y1296 黑色气球 \tpsd文件: 7 \tpic文件: 9\n",
      "F:\\DOWN\\可制作\\泡泡\\Y795 人鱼公主 \tpsd文件: 6 \tpic文件: 8\n",
      "F:\\DOWN\\可制作\\泡泡\\菁 S801 工笔画素材背景 \tpsd文件: 24 \tpic文件: 35\n"
     ]
    }
   ],
   "source": [
    "from pathlib import Path\n",
    "\n",
    "from MaterialEdit.fun_文件夹操作.fun_遍历指定文件 import fun_遍历指定文件\n",
    "\n",
    "down_path = Path(r\"F:\\DOWN\\可制作\\泡泡\")\n",
    "\n",
    "for in_path in down_path.iterdir():\n",
    "    if in_path.is_dir():\n",
    "        psd_file = fun_遍历指定文件(in_path.as_posix(), suffix=[\".psd\", \".psb\"])\n",
    "        pic_file = fun_遍历指定文件(\n",
    "            in_path.as_posix(), suffix=[\".png\", \".jpg\", \".jpeg\"]\n",
    "        )\n",
    "        if len(psd_file) == 0 or len(pic_file) * 0.8 > len(psd_file):\n",
    "            print(in_path, \"\\tpsd文件:\", len(psd_file), \"\\tpic文件:\", len(pic_file))\n",
    "\n",
    "        for in_file in in_path.rglob(\"*\"):\n",
    "            if in_file.is_dir() and \"n8\" in in_file.stem.lower():\n",
    "                print(in_file)"
   ]
  }
 ],
 "metadata": {
  "kernelspec": {
   "display_name": "base",
   "language": "python",
   "name": "python3"
  },
  "language_info": {
   "codemirror_mode": {
    "name": "ipython",
    "version": 3
   },
   "file_extension": ".py",
   "mimetype": "text/x-python",
   "name": "python",
   "nbconvert_exporter": "python",
   "pygments_lexer": "ipython3",
   "version": "3.12.2"
  }
 },
 "nbformat": 4,
 "nbformat_minor": 2
}
