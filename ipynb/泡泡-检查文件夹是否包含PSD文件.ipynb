{
 "cells": [
  {
   "cell_type": "code",
   "execution_count": 1,
   "metadata": {},
   "outputs": [
    {
     "name": "stdout",
     "output_type": "stream",
     "text": [
      "F:\\BaiduNetdiskDownload\\0-泡泡\\X344 小熊相册方版\\N8格式 无N8软件忽略此文件\n",
      "F:\\BaiduNetdiskDownload\\0-泡泡\\X347 圣诞相册方版\\N8格式 无N8软件忽略此文件\n",
      "F:\\BaiduNetdiskDownload\\0-泡泡\\X350 蛇年相册方版\\N8格式 无N8软件忽略此文件\n",
      "F:\\BaiduNetdiskDownload\\0-泡泡\\X352 新年相册方版\\N8格式 无N8软件忽略此文件\n",
      "F:\\BaiduNetdiskDownload\\0-泡泡\\XC-1910 \n",
      "psd文件: 35 \n",
      "pic文件: 95 \n",
      "\n",
      "\n",
      "F:\\BaiduNetdiskDownload\\0-泡泡\\XC-1910\\N8格式\n"
     ]
    }
   ],
   "source": [
    "from pathlib import Path\n",
    "\n",
    "from MaterialEdit.fun_文件夹操作.fun_遍历指定文件 import fun_遍历指定文件\n",
    "\n",
    "down_path = Path(r\"F:\\BaiduNetdiskDownload\\0-泡泡\")\n",
    "\n",
    "for in_path in down_path.iterdir():\n",
    "    if in_path.is_dir():\n",
    "        psd_file = fun_遍历指定文件(in_path.as_posix(), suffix=[\".psd\", \".psb\"])\n",
    "        pic_file = fun_遍历指定文件(\n",
    "            in_path.as_posix(), suffix=[\".png\", \".jpg\", \".jpeg\"]\n",
    "        )\n",
    "        if len(psd_file) == 0 or len(pic_file) * 0.8 > len(psd_file):\n",
    "            print(\n",
    "                in_path,\n",
    "                \"\\npsd文件:\",\n",
    "                len(psd_file),\n",
    "                \"\\npic文件:\",\n",
    "                len(pic_file),\n",
    "                \"\\n\\n\",\n",
    "            )\n",
    "\n",
    "        for in_file in in_path.rglob(\"*\"):\n",
    "            if in_file.is_dir() and \"n8\" in in_file.stem.lower():\n",
    "                print(in_file)"
   ]
  }
 ],
 "metadata": {
  "kernelspec": {
   "display_name": "base",
   "language": "python",
   "name": "python3"
  },
  "language_info": {
   "codemirror_mode": {
    "name": "ipython",
    "version": 3
   },
   "file_extension": ".py",
   "mimetype": "text/x-python",
   "name": "python",
   "nbconvert_exporter": "python",
   "pygments_lexer": "ipython3",
   "version": "3.12.2"
  }
 },
 "nbformat": 4,
 "nbformat_minor": 2
}
