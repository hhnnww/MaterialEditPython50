{
 "cells": [
  {
   "cell_type": "code",
   "execution_count": 6,
   "metadata": {},
   "outputs": [
    {
     "name": "stdout",
     "output_type": "stream",
     "text": [
      "F:\\小夕素材\\10000-20000\\10645\\效果图\\10001.webp\n",
      "F:\\小夕素材\\10000-20000\\10645\\效果图\\10002.webp\n",
      "F:\\小夕素材\\10000-20000\\10645\\效果图\\10003.webp\n",
      "F:\\小夕素材\\10000-20000\\10645\\效果图\\10004.webp\n",
      "F:\\小夕素材\\10000-20000\\10645\\效果图\\10005.webp\n",
      "F:\\小夕素材\\10000-20000\\10645\\效果图\\10006.webp\n",
      "F:\\小夕素材\\10000-20000\\10645\\效果图\\10007.webp\n",
      "F:\\小夕素材\\10000-20000\\10645\\效果图\\10008.webp\n"
     ]
    }
   ],
   "source": [
    "from pathlib import Path\n",
    "\n",
    "from PIL import Image\n",
    "\n",
    "for in_file in Path(r\"F:\\小夕素材\\10000-20000\\10645\\效果图\").iterdir():\n",
    "    if in_file.is_file() and in_file.suffix.lower() in [\".webp\"]:\n",
    "        print(in_file)\n",
    "        im = Image.open(in_file.as_posix())\n",
    "        if im.mode != \"RGBA\":\n",
    "            im = im.convert(\"RGBA\")\n",
    "\n",
    "        im.save(in_file.with_suffix(\".png\"))\n",
    "        in_file.unlink()"
   ]
  }
 ],
 "metadata": {
  "kernelspec": {
   "display_name": "base",
   "language": "python",
   "name": "python3"
  },
  "language_info": {
   "codemirror_mode": {
    "name": "ipython",
    "version": 3
   },
   "file_extension": ".py",
   "mimetype": "text/x-python",
   "name": "python",
   "nbconvert_exporter": "python",
   "pygments_lexer": "ipython3",
   "version": "3.12.2"
  }
 },
 "nbformat": 4,
 "nbformat_minor": 2
}
