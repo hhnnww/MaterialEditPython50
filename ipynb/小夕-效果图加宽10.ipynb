{
 "cells": [
  {
   "cell_type": "code",
   "execution_count": 2,
   "metadata": {},
   "outputs": [],
   "source": [
    "from pathlib import Path\n",
    "\n",
    "from PIL import Image\n",
    "\n",
    "from MaterialEdit.fun_图片编辑 import fun_图片扩大粘贴\n",
    "\n",
    "for in_file in Path(r\"F:\\小夕素材\\10000-20000\\10630\\效果图\").iterdir():\n",
    "    if in_file.is_file() and in_file.suffix.lower() == \".png\":\n",
    "        im = Image.open(in_file)\n",
    "        if im.mode.lower() != \"rgba\":\n",
    "            im = im.convert(\"RGBA\")\n",
    "\n",
    "        im = fun_图片扩大粘贴(\n",
    "            im,\n",
    "            width=int(im.width * 1.1),\n",
    "            height=int(im.height * 1.1),\n",
    "            left=\"center\",\n",
    "            top=\"center\",\n",
    "            background_color=(255, 255, 255, 255),\n",
    "        )\n",
    "\n",
    "        im.save(in_file.as_posix())"
   ]
  }
 ],
 "metadata": {
  "kernelspec": {
   "display_name": "base",
   "language": "python",
   "name": "python3"
  },
  "language_info": {
   "codemirror_mode": {
    "name": "ipython",
    "version": 3
   },
   "file_extension": ".py",
   "mimetype": "text/x-python",
   "name": "python",
   "nbconvert_exporter": "python",
   "pygments_lexer": "ipython3",
   "version": "3.12.2"
  }
 },
 "nbformat": 4,
 "nbformat_minor": 2
}
