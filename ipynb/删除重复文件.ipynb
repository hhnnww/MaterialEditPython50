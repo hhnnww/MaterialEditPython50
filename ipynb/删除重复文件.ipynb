{
 "cells": [
  {
   "cell_type": "code",
   "execution_count": 2,
   "metadata": {},
   "outputs": [],
   "source": [
    "from pathlib import Path\n",
    "\n",
    "for in_file in Path(r\"F:\\小夕素材\\10000-20000\\10720\\10720\").iterdir():\n",
    "    if in_file.is_file():\n",
    "        new_path = in_file.with_stem(in_file.stem.lower()).with_suffix(\n",
    "            in_file.suffix.lower()\n",
    "        )\n",
    "\n",
    "        in_file.rename(new_path)"
   ]
  }
 ],
 "metadata": {
  "kernelspec": {
   "display_name": "base",
   "language": "python",
   "name": "python3"
  },
  "language_info": {
   "codemirror_mode": {
    "name": "ipython",
    "version": 3
   },
   "file_extension": ".py",
   "mimetype": "text/x-python",
   "name": "python",
   "nbconvert_exporter": "python",
   "pygments_lexer": "ipython3",
   "version": "3.12.2"
  }
 },
 "nbformat": 4,
 "nbformat_minor": 2
}
