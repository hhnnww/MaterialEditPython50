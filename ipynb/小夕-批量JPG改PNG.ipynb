{
 "cells": [
  {
   "cell_type": "code",
   "execution_count": 4,
   "metadata": {},
   "outputs": [
    {
     "name": "stdout",
     "output_type": "stream",
     "text": [
      "F:\\小夕素材\\10000-20000\\10613\\效果图\\afbf5ead-9f0c-4e14-81a0-da4ac1d0cfcd.png\n"
     ]
    }
   ],
   "source": [
    "from pathlib import Path\n",
    "from uuid import uuid4\n",
    "\n",
    "for in_file in Path(r\"F:\\小夕素材\\10000-20000\\10613\\效果图\").iterdir():\n",
    "    if in_file.is_file() and in_file.suffix.lower() in [\".jpeg\", \".jpg\"]:\n",
    "        new_path = in_file.with_suffix(\".png\").with_stem(str(uuid4()))\n",
    "\n",
    "        try:\n",
    "            in_file.rename(new_path)\n",
    "        except PermissionError:\n",
    "            print(new_path)"
   ]
  }
 ],
 "metadata": {
  "kernelspec": {
   "display_name": "base",
   "language": "python",
   "name": "python3"
  },
  "language_info": {
   "codemirror_mode": {
    "name": "ipython",
    "version": 3
   },
   "file_extension": ".py",
   "mimetype": "text/x-python",
   "name": "python",
   "nbconvert_exporter": "python",
   "pygments_lexer": "ipython3",
   "version": "3.12.2"
  }
 },
 "nbformat": 4,
 "nbformat_minor": 2
}
