{
 "cells": [
  {
   "cell_type": "code",
   "execution_count": null,
   "id": "df51a45d",
   "metadata": {},
   "outputs": [
    {
     "ename": "ValueError",
     "evalue": "invalid literal for int() with base 10: 'u'",
     "output_type": "error",
     "traceback": [
      "\u001b[1;31m---------------------------------------------------------------------------\u001b[0m",
      "\u001b[1;31mValueError\u001b[0m                                Traceback (most recent call last)",
      "Cell \u001b[1;32mIn[11], line 41\u001b[0m\n\u001b[0;32m     39\u001b[0m \u001b[38;5;28;01mfor\u001b[39;00m sub_path \u001b[38;5;129;01min\u001b[39;00m Path(\u001b[38;5;124mr\u001b[39m\u001b[38;5;124m\"\u001b[39m\u001b[38;5;124mF:\u001b[39m\u001b[38;5;124m\\\u001b[39m\u001b[38;5;124m饭桶设计\u001b[39m\u001b[38;5;124m\\\u001b[39m\u001b[38;5;124m4000-4999\u001b[39m\u001b[38;5;124m\\\u001b[39m\u001b[38;5;124m4245\u001b[39m\u001b[38;5;124m\\\u001b[39m\u001b[38;5;124m效果图\u001b[39m\u001b[38;5;124m\"\u001b[39m)\u001b[38;5;241m.\u001b[39miterdir():\n\u001b[0;32m     40\u001b[0m     png_path \u001b[38;5;241m=\u001b[39m sub_path\u001b[38;5;241m.\u001b[39mparent \u001b[38;5;241m/\u001b[39m \u001b[38;5;124mf\u001b[39m\u001b[38;5;124m\"\u001b[39m\u001b[38;5;132;01m{\u001b[39;00msub_path\u001b[38;5;241m.\u001b[39mstem\u001b[38;5;132;01m}\u001b[39;00m\u001b[38;5;124m.png\u001b[39m\u001b[38;5;124m\"\u001b[39m\n\u001b[1;32m---> 41\u001b[0m     oneline_count \u001b[38;5;241m=\u001b[39m \u001b[38;5;28mint\u001b[39m(sub_path\u001b[38;5;241m.\u001b[39mstem[\u001b[38;5;241m2\u001b[39m])\n\u001b[0;32m     42\u001b[0m     \u001b[38;5;28;01mif\u001b[39;00m \u001b[38;5;28mlen\u001b[39m(\u001b[38;5;28mlist\u001b[39m(sub_path\u001b[38;5;241m.\u001b[39miterdir())) \u001b[38;5;241m>\u001b[39m \u001b[38;5;241m0\u001b[39m \u001b[38;5;129;01mand\u001b[39;00m png_path\u001b[38;5;241m.\u001b[39mexists() \u001b[38;5;129;01mis\u001b[39;00m \u001b[38;5;129;01mnot\u001b[39;00m \u001b[38;5;28;01mTrue\u001b[39;00m:\n\u001b[0;32m     43\u001b[0m         \u001b[38;5;28;01mwith\u001b[39;00m fun_处理单个文件夹(sub_path\u001b[38;5;241m=\u001b[39msub_path, oneline_count\u001b[38;5;241m=\u001b[39moneline_count) \u001b[38;5;28;01mas\u001b[39;00m bg:\n",
      "\u001b[1;31mValueError\u001b[0m: invalid literal for int() with base 10: 'u'"
     ]
    }
   ],
   "source": [
    "import math\n",
    "from pathlib import Path\n",
    "\n",
    "from PIL import Image\n",
    "\n",
    "from image_action.image_action import ImageAction\n",
    "from image_action.image_merge import ImageMerge\n",
    "\n",
    "\n",
    "def fun_处理单个文件夹(sub_path: Path, oneline_count: int) -> Image.Image:\n",
    "    pil_list = [\n",
    "        Image.open(infile)\n",
    "        for infile in sub_path.iterdir()\n",
    "        if infile.suffix.lower() in [\".png\", \".jpg\"] and \"thumb\" not in infile.stem\n",
    "    ]\n",
    "    ratio = sum([im.width / im.height for im in pil_list]) / len(pil_list)\n",
    "    xq_width = 1500\n",
    "\n",
    "    rows = [\n",
    "        ImageMerge(\n",
    "            [\n",
    "                ImageAction.fun_图片裁剪(\n",
    "                    im=pil,\n",
    "                    size=(math.ceil(xq_width / 2), math.ceil((xq_width / 2) / ratio)),\n",
    "                    align=\"center\",\n",
    "                )\n",
    "                for pil in pil_list\n",
    "            ][i : i + oneline_count],\n",
    "            direction=\"x\",\n",
    "            spacing=0,\n",
    "            align=\"start\",\n",
    "        ).main()\n",
    "        for i in range(0, len(pil_list), oneline_count)\n",
    "    ]\n",
    "\n",
    "    return ImageMerge(rows, direction=\"y\", spacing=0, align=\"start\").main()\n",
    "\n",
    "\n",
    "for sub_path in Path(r\"F:\\饭桶设计\\4000-4999\\4245\\效果图\").iterdir():\n",
    "    png_path = sub_path.parent / f\"{sub_path.stem}.png\"\n",
    "    oneline_count = int(sub_path.stem[2])\n",
    "    if len(list(sub_path.iterdir())) > 0 and png_path.exists() is not True:\n",
    "        with fun_处理单个文件夹(sub_path=sub_path, oneline_count=oneline_count) as bg:\n",
    "            bg.save(png_path)"
   ]
  }
 ],
 "metadata": {
  "kernelspec": {
   "display_name": "base",
   "language": "python",
   "name": "python3"
  },
  "language_info": {
   "codemirror_mode": {
    "name": "ipython",
    "version": 3
   },
   "file_extension": ".py",
   "mimetype": "text/x-python",
   "name": "python",
   "nbconvert_exporter": "python",
   "pygments_lexer": "ipython3",
   "version": "3.12.2"
  }
 },
 "nbformat": 4,
 "nbformat_minor": 5
}
