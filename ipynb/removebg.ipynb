{
 "cells": [
  {
   "cell_type": "code",
   "execution_count": 18,
   "id": "initial_id",
   "metadata": {
    "collapsed": true,
    "ExecuteTime": {
     "end_time": "2024-03-18T06:39:34.265609Z",
     "start_time": "2024-03-18T06:39:28.542779Z"
    }
   },
   "outputs": [],
   "source": [
    "from selenium.webdriver import Edge\n",
    "from selenium.webdriver.common.by import By\n",
    "import pyautogui\n",
    "import pyperclip\n",
    "from ipynb.fun_windows_窗口操作 import fun_窗口置顶\n",
    "\n",
    "driver = Edge()\n",
    "driver.get('https://remove.bg/zh/upload')"
   ]
  },
  {
   "cell_type": "code",
   "outputs": [],
   "source": [
    "fun_窗口置顶('Edge')\n",
    "\n",
    "elem = driver.find_element(By.CSS_SELECTOR,\n",
    "                           \"#page-content > div > div > div > div > div.max-w-md.m-auto > div > button\")\n",
    "\n",
    "elem.click()\n",
    "\n",
    "pyautogui.hotkey('f4')\n",
    "pyperclip.copy(r'C:\\Users\\wuweihua\\Desktop\\UPLOAD')\n",
    "pyautogui.hotkey('ctrl', 'a')\n",
    "pyautogui.hotkey('ctrl', 'v')\n",
    "pyautogui.hotkey('enter')"
   ],
   "metadata": {
    "collapsed": false,
    "ExecuteTime": {
     "end_time": "2024-03-18T06:39:43.339439Z",
     "start_time": "2024-03-18T06:39:42.763412Z"
    }
   },
   "id": "b4f2b182a0d0b00f",
   "execution_count": 19
  }
 ],
 "metadata": {
  "kernelspec": {
   "display_name": "Python 3",
   "language": "python",
   "name": "python3"
  },
  "language_info": {
   "codemirror_mode": {
    "name": "ipython",
    "version": 2
   },
   "file_extension": ".py",
   "mimetype": "text/x-python",
   "name": "python",
   "nbconvert_exporter": "python",
   "pygments_lexer": "ipython2",
   "version": "2.7.6"
  }
 },
 "nbformat": 4,
 "nbformat_minor": 5
}
