{
 "cells": [
  {
   "cell_type": "code",
   "execution_count": null,
   "id": "82500657",
   "metadata": {},
   "outputs": [],
   "source": [
    "from pathlib import Path\n",
    "\n",
    "from PIL import Image\n",
    "\n",
    "from image_action import ImageAction\n",
    "\n",
    "xgt_path = Path(r\"F:\\饭桶设计\\4000-4999\\4245\\设计图\")\n",
    "file_list = [\n",
    "    infile\n",
    "    for infile in xgt_path.iterdir()\n",
    "    if infile.is_file()\n",
    "    and infile.suffix.lower() in [\".png\", \".jpg\"]\n",
    "    and \"thumb\" not in infile.stem\n",
    "]\n",
    "\n",
    "\n",
    "def get_num(stem: str) -> int:\n",
    "    return int(\"\".join(filter(str.isdigit, stem)))\n",
    "\n",
    "\n",
    "file_list.sort(key=lambda k: get_num(k.stem))\n",
    "\n",
    "\n",
    "pil_list = [Image.open(infile) for infile in file_list]\n",
    "for pil in pil_list:\n",
    "    pil.thumbnail((750, 99999999), Image.Resampling.LANCZOS)\n",
    "\n",
    "bg = ImageAction.ImageMerge(\n",
    "    image_list=pil_list,\n",
    "    direction=\"y\",\n",
    "    spacing=0,\n",
    "    align=\"center\",\n",
    ").main()\n",
    "\n",
    "\n",
    "up_path = xgt_path / \"upload\"\n",
    "up_path.mkdir(exist_ok=True)\n",
    "\n",
    "height = 2000\n",
    "bg_width, bg_height = bg.size\n",
    "for i in range(0, bg_height, height):\n",
    "    box = (0, i, bg_width, min(i + height, bg_height))\n",
    "    cropped = bg.crop(box)\n",
    "    cropped_with_bg = Image.new(\"RGBA\", cropped.size, (0, 0, 0, 255))\n",
    "    cropped_with_bg.paste(cropped, (0, 0), cropped)\n",
    "    cropped = cropped_with_bg\n",
    "\n",
    "    cropped.save(\n",
    "        Path(r\"F:\\饭桶设计\\4000-4999\\4245\\设计图\")\n",
    "        / \"upload\"\n",
    "        / f\"cropped_{i // height + 1}.png\",\n",
    "    )"
   ]
  }
 ],
 "metadata": {
  "kernelspec": {
   "display_name": "base",
   "language": "python",
   "name": "python3"
  },
  "language_info": {
   "codemirror_mode": {
    "name": "ipython",
    "version": 3
   },
   "file_extension": ".py",
   "mimetype": "text/x-python",
   "name": "python",
   "nbconvert_exporter": "python",
   "pygments_lexer": "ipython3",
   "version": "3.12.2"
  }
 },
 "nbformat": 4,
 "nbformat_minor": 5
}
