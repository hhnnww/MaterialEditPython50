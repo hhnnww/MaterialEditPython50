{
 "cells": [
  {
   "cell_type": "code",
   "execution_count": 1,
   "id": "4dd6db8c",
   "metadata": {},
   "outputs": [],
   "source": [
    "from pathlib import Path\n",
    "\n",
    "for infile in Path(r\"F:\\饭桶设计\\4000-4999\\4245\\效果图\").iterdir():\n",
    "    if infile.is_file() and \"_thumb\" in infile.stem:\n",
    "        infile.unlink()"
   ]
  }
 ],
 "metadata": {
  "kernelspec": {
   "display_name": "base",
   "language": "python",
   "name": "python3"
  },
  "language_info": {
   "codemirror_mode": {
    "name": "ipython",
    "version": 3
   },
   "file_extension": ".py",
   "mimetype": "text/x-python",
   "name": "python",
   "nbconvert_exporter": "python",
   "pygments_lexer": "ipython3",
   "version": "3.12.2"
  }
 },
 "nbformat": 4,
 "nbformat_minor": 5
}
