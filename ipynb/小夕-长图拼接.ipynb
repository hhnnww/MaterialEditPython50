{
 "cells": [
  {
   "cell_type": "code",
   "execution_count": 3,
   "metadata": {},
   "outputs": [],
   "source": [
    "from pathlib import Path\n",
    "\n",
    "from PIL import Image\n",
    "\n",
    "image_list = [\n",
    "    Image.open(im_path.as_posix())\n",
    "    for im_path in Path(r\"F:\\小夕素材\\H000-H999\\H0659\\H0659\\小夕素材(7)\").iterdir()\n",
    "    if im_path.suffix.lower() in [\".png\"]\n",
    "]\n",
    "\n",
    "im_height = sum([im.height for im in image_list])\n",
    "im_width = max([im.width for im in image_list])\n",
    "\n",
    "bg = Image.new(\"RGBA\", (im_width, im_height), (255, 255, 255))\n",
    "\n",
    "left, top = 0, 0\n",
    "for im in image_list:\n",
    "    left = (im_width - im.width) // 2\n",
    "    bg.paste(im, (left, top), im)\n",
    "    top += im.height\n",
    "\n",
    "bg.save(r\"F:\\小夕素材\\H000-H999\\H0659\\H0659\\小夕素材(7).png\")"
   ]
  }
 ],
 "metadata": {
  "kernelspec": {
   "display_name": "base",
   "language": "python",
   "name": "python3"
  },
  "language_info": {
   "codemirror_mode": {
    "name": "ipython",
    "version": 3
   },
   "file_extension": ".py",
   "mimetype": "text/x-python",
   "name": "python",
   "nbconvert_exporter": "python",
   "pygments_lexer": "ipython3",
   "version": "3.12.2"
  }
 },
 "nbformat": 4,
 "nbformat_minor": 2
}
