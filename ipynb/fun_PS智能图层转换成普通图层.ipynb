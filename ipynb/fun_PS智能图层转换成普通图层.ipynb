{
 "cells": [
  {
   "cell_type": "code",
   "execution_count": 19,
   "metadata": {},
   "outputs": [
    {
     "name": "stdout",
     "output_type": "stream",
     "text": [
      "\n",
      "idrasterizeLayer=app.stringIDToTypeID(\"rasterizeLayer\")\n",
      "desc300=Dispatch(\"Photoshop.ActionDescriptor\")()\n",
      "idnull=charIDToTypeID(\"null\")\n",
      "ref10=newActionReference()\n",
      "idLyr=charIDToTypeID(\"Lyr\")\n",
      "idOrdn=charIDToTypeID(\"Ordn\")\n",
      "idTrgt=charIDToTypeID(\"Trgt\")\n",
      "ref10.putEnumerated(idLyr,idOrdn,idTrgt)\n",
      "desc300.putReference(idnull,ref10)\n",
      "executeAction(idrasterizeLayer,desc300,DialogModes.NO)\n",
      "\n"
     ]
    },
    {
     "name": "stderr",
     "output_type": "stream",
     "text": [
      "<>:20: SyntaxWarning: invalid escape sequence '\\s'\n",
      "<>:20: SyntaxWarning: invalid escape sequence '\\s'\n",
      "C:\\Users\\wuweihua\\AppData\\Local\\Temp\\ipykernel_16580\\1013398820.py:20: SyntaxWarning: invalid escape sequence '\\s'\n",
      "  inline = re.sub(\"\\s\", \"\", inline)\n"
     ]
    }
   ],
   "source": [
    "import re\n",
    "\n",
    "text = \"\"\"\n",
    "var idrasterizeLayer = stringIDToTypeID( \"rasterizeLayer\" );\n",
    "    var desc300 = new ActionDescriptor();\n",
    "    var idnull = charIDToTypeID( \"null\" );\n",
    "        var ref10 = new ActionReference();\n",
    "        var idLyr = charIDToTypeID( \"Lyr \" );\n",
    "        var idOrdn = charIDToTypeID( \"Ordn\" );\n",
    "        var idTrgt = charIDToTypeID( \"Trgt\" );\n",
    "        ref10.putEnumerated( idLyr, idOrdn, idTrgt );\n",
    "    desc300.putReference( idnull, ref10 );\n",
    "executeAction( idrasterizeLayer, desc300, DialogModes.NO );\n",
    "\"\"\"\n",
    "\n",
    "\n",
    "for inline in text.split(\"\\n\"):\n",
    "    inline = inline.replace(\"var \", \"\")\n",
    "    inline = inline.replace(\";\", \"\")\n",
    "    inline = re.sub(\"\\s\", \"\", inline)\n",
    "\n",
    "    inline = inline.replace(\"stringIDToTypeID\", \"app.stringIDToTypeID\")\n",
    "    inline = inline.replace(\n",
    "        \"newActionDescriptor\", 'Dispatch(\"Photoshop.ActionDescriptor\")'\n",
    "    )\n",
    "    inline = inline.replace(\"newActionReference\", \"\")\n",
    "    print(inline)"
   ]
  },
  {
   "cell_type": "code",
   "execution_count": 42,
   "metadata": {},
   "outputs": [
    {
     "name": "stdout",
     "output_type": "stream",
     "text": [
      "17\n"
     ]
    },
    {
     "data": {
      "text/plain": [
       "<comtypes.client.lazybind.Dispatch at 0x1e0623e2630>"
      ]
     },
     "execution_count": 42,
     "metadata": {},
     "output_type": "execute_result"
    }
   ],
   "source": []
  }
 ],
 "metadata": {
  "kernelspec": {
   "display_name": "base",
   "language": "python",
   "name": "python3"
  },
  "language_info": {
   "codemirror_mode": {
    "name": "ipython",
    "version": 3
   },
   "file_extension": ".py",
   "mimetype": "text/x-python",
   "name": "python",
   "nbconvert_exporter": "python",
   "pygments_lexer": "ipython3",
   "version": "3.12.2"
  }
 },
 "nbformat": 4,
 "nbformat_minor": 2
}
