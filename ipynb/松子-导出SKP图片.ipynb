{
 "cells": [
  {
   "cell_type": "code",
   "execution_count": 13,
   "metadata": {},
   "outputs": [],
   "source": [
    "from pathlib import Path\n",
    "\n",
    "import pyperclip\n",
    "\n",
    "from MaterialEdit.fun_文件夹操作.fun_遍历指定文件 import fun_遍历指定文件\n",
    "\n",
    "\n",
    "def fun_生成SKP批量导出脚本(in_path: Path):\n",
    "    cmd_path = Path.home() / \"Desktop\" / \"auto_export_png.rb\"\n",
    "\n",
    "    start_args = \"\"\"def save_view_to_png(file_path, img_path)\n",
    "  Sketchup.open_file(file_path)\n",
    "  model = Sketchup.active_model\n",
    "  model.rendering_options[\"DisplayWatermarks\"]= false\n",
    "  view = model.active_view\n",
    "  view.write_image(\n",
    "    filename: img_path,\n",
    "    width: 2000,\n",
    "    height: 1500,\n",
    "    antialias: true,\n",
    "    transparent: false\n",
    "  )\n",
    "  model.close(ignore_changes=true)\n",
    "end\\n\\n\"\"\"\n",
    "\n",
    "    all_file = fun_遍历指定文件(folder=in_path.as_posix(), suffix=[\".skp\"])\n",
    "    for in_file in all_file:\n",
    "        png_path = in_file.with_suffix(\".png\")\n",
    "        if png_path.exists() is False:\n",
    "            file_args = (\n",
    "                f\"save_view_to_png '{in_file.as_posix()}','{png_path.as_posix()}'\\n\"\n",
    "            )\n",
    "            start_args += file_args\n",
    "\n",
    "    start_args += '\\n\\nUI.messagebox(\"图片已经全部导出完成!~\")'\n",
    "\n",
    "    cmd_path.write_text(start_args, encoding=\"utf-8\")\n",
    "\n",
    "    pyperclip.copy(f\"load '{cmd_path.as_posix()}'\")\n",
    "\n",
    "\n",
    "fun_生成SKP批量导出脚本(Path(r\"F:\\BaiduNetdiskDownload\\0-松子素材\\SU模型\\SU模型\"))"
   ]
  },
  {
   "cell_type": "code",
   "execution_count": null,
   "metadata": {},
   "outputs": [],
   "source": []
  }
 ],
 "metadata": {
  "kernelspec": {
   "display_name": "base",
   "language": "python",
   "name": "python3"
  },
  "language_info": {
   "codemirror_mode": {
    "name": "ipython",
    "version": 3
   },
   "file_extension": ".py",
   "mimetype": "text/x-python",
   "name": "python",
   "nbconvert_exporter": "python",
   "pygments_lexer": "ipython3",
   "version": "3.12.2"
  }
 },
 "nbformat": 4,
 "nbformat_minor": 2
}
