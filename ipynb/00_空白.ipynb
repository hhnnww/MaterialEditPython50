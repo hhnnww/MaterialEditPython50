{
 "cells": [
  {
   "cell_type": "code",
   "execution_count": 42,
   "id": "03bd3535",
   "metadata": {},
   "outputs": [],
   "source": [
    "import importlib\n",
    "\n",
    "from PIL import Image, ImageFilter\n",
    "\n",
    "from image_action.image_action import ImageAction\n",
    "import image_action.image_funs\n",
    "\n",
    "importlib.reload(image_action.image_funs)\n",
    "from image_action.image_funs import Align, ImageFuns\n",
    "\n",
    "im = Image.open(r\"F:\\饭桶设计\\4000-4999\\4258\\效果图\\1.jpg\").convert(\"RGBA\")\n",
    "im = ImageAction.fun_图片添加圆角(im, 10)\n",
    "# Create a shadow by adding a black border and applying a Gaussian blur\n",
    "shadow = Image.new(\n",
    "    \"RGBA\",\n",
    "    im.size,\n",
    "    (120, 120, 120, 255),\n",
    ")\n",
    "shadow = ImageFuns.fun_图片扩大(\n",
    "    shadow,\n",
    "    (shadow.width + 20, shadow.height + 20),\n",
    "    Align.CENTER,\n",
    "    Align.CENTER,\n",
    ")\n",
    "shadow = shadow.filter(ImageFilter.GaussianBlur(5))\n",
    "shadow.paste(im, (0, 0), im)\n",
    "shadow = ImageFuns.fun_图片添加背景(shadow, (255, 255, 255, 255))\n",
    "shadow.show()"
   ]
  }
 ],
 "metadata": {
  "kernelspec": {
   "display_name": "base",
   "language": "python",
   "name": "python3"
  },
  "language_info": {
   "codemirror_mode": {
    "name": "ipython",
    "version": 3
   },
   "file_extension": ".py",
   "mimetype": "text/x-python",
   "name": "python",
   "nbconvert_exporter": "python",
   "pygments_lexer": "ipython3",
   "version": "3.12.2"
  }
 },
 "nbformat": 4,
 "nbformat_minor": 5
}
