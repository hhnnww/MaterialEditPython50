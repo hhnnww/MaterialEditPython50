{
 "cells": [
  {
   "cell_type": "code",
   "execution_count": 1,
   "id": "6826aebe",
   "metadata": {},
   "outputs": [],
   "source": [
    "from win32com.client import Dispatch\n",
    "\n",
    "ps_app = Dispatch(\"Photoshop.Application\")\n",
    "ps_app.displayDialogs = 3\n",
    "ps_app.Open(r\"F:\\小夕素材\\4000-4999\\4921\\4921\\小夕素材(12).png\")\n",
    "doc = ps_app.activeDocument"
   ]
  },
  {
   "cell_type": "code",
   "execution_count": 2,
   "id": "e2842b27",
   "metadata": {},
   "outputs": [],
   "source": [
    "options = Dispatch(\"Photoshop.ExportOptionsSaveForWeb\")\n",
    "options.Format = 6  # 6 corresponds to JPEG format\n",
    "options.Quality = 60  # Set the quality to 60\n",
    "\n",
    "output_path = r\"F:\\小夕素材\\4000-4999\\4921\\4921\\小夕素材(12).jpg\"\n",
    "doc.Export(ExportIn=output_path, ExportAs=2, Options=options)"
   ]
  }
 ],
 "metadata": {
  "kernelspec": {
   "display_name": "base",
   "language": "python",
   "name": "python3"
  },
  "language_info": {
   "codemirror_mode": {
    "name": "ipython",
    "version": 3
   },
   "file_extension": ".py",
   "mimetype": "text/x-python",
   "name": "python",
   "nbconvert_exporter": "python",
   "pygments_lexer": "ipython3",
   "version": "3.12.2"
  }
 },
 "nbformat": 4,
 "nbformat_minor": 5
}
