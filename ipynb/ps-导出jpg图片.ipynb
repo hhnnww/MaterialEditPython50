{
 "cells": [
  {
   "cell_type": "code",
   "execution_count": 12,
   "id": "6826aebe",
   "metadata": {},
   "outputs": [
    {
     "name": "stdout",
     "output_type": "stream",
     "text": [
      "F:\\饭桶设计\\4000-4999\\4356\\4356\\饭桶设计(1).psd\n",
      "F:\\饭桶设计\\4000-4999\\4356\\4356\\饭桶设计(10).psd\n",
      "F:\\饭桶设计\\4000-4999\\4356\\4356\\饭桶设计(11).psd\n",
      "F:\\饭桶设计\\4000-4999\\4356\\4356\\饭桶设计(12).psd\n",
      "F:\\饭桶设计\\4000-4999\\4356\\4356\\饭桶设计(13).psd\n",
      "F:\\饭桶设计\\4000-4999\\4356\\4356\\饭桶设计(14).psd\n",
      "F:\\饭桶设计\\4000-4999\\4356\\4356\\饭桶设计(15).psd\n",
      "F:\\饭桶设计\\4000-4999\\4356\\4356\\饭桶设计(16).psd\n",
      "F:\\饭桶设计\\4000-4999\\4356\\4356\\饭桶设计(17).psd\n",
      "F:\\饭桶设计\\4000-4999\\4356\\4356\\饭桶设计(2).psd\n",
      "F:\\饭桶设计\\4000-4999\\4356\\4356\\饭桶设计(3).psd\n",
      "F:\\饭桶设计\\4000-4999\\4356\\4356\\饭桶设计(4).psd\n",
      "F:\\饭桶设计\\4000-4999\\4356\\4356\\饭桶设计(5).psd\n",
      "F:\\饭桶设计\\4000-4999\\4356\\4356\\饭桶设计(6).psd\n",
      "F:\\饭桶设计\\4000-4999\\4356\\4356\\饭桶设计(7).psd\n",
      "F:\\饭桶设计\\4000-4999\\4356\\4356\\饭桶设计(8).psd\n",
      "F:\\饭桶设计\\4000-4999\\4356\\4356\\饭桶设计(9).psd\n"
     ]
    }
   ],
   "source": [
    "from pathlib import Path\n",
    "\n",
    "from win32com.client import Dispatch\n",
    "\n",
    "\n",
    "def fun_导出JPG(psd_file: Path) -> None:\n",
    "    ps_app = Dispatch(\"Photoshop.Application\")\n",
    "    ps_app.displayDialogs = 3\n",
    "    doc = ps_app.Open(psd_file.as_posix())\n",
    "    for layer in doc.Layers:\n",
    "        if layer.Name in [\"Resources info (Hide me)\"]:\n",
    "            layer.Visible = False\n",
    "\n",
    "    options = Dispatch(\"Photoshop.ExportOptionsSaveForWeb\")\n",
    "    options.Format = 6\n",
    "    options.Quality = 60\n",
    "\n",
    "    jpg_path = psd_file.with_suffix(\".jpg\")\n",
    "    doc.Export(ExportIn=jpg_path, ExportAs=2, Options=options)\n",
    "    doc.Close(2)\n",
    "\n",
    "\n",
    "for infile in Path(input(\"material path\")).rglob(\"*\"):\n",
    "    if infile.suffix.lower() in [\".psd\", \".psb\"]:\n",
    "        image_state = False\n",
    "        for image_path_suffix in [\".jpg\", \".png\"]:\n",
    "            if infile.with_suffix(image_path_suffix).exists():\n",
    "                image_state = True\n",
    "                break\n",
    "\n",
    "        if image_state is False:\n",
    "            fun_导出JPG(infile)"
   ]
  }
 ],
 "metadata": {
  "kernelspec": {
   "display_name": ".venv",
   "language": "python",
   "name": "python3"
  },
  "language_info": {
   "codemirror_mode": {
    "name": "ipython",
    "version": 3
   },
   "file_extension": ".py",
   "mimetype": "text/x-python",
   "name": "python",
   "nbconvert_exporter": "python",
   "pygments_lexer": "ipython3",
   "version": "3.12.10"
  }
 },
 "nbformat": 4,
 "nbformat_minor": 5
}
