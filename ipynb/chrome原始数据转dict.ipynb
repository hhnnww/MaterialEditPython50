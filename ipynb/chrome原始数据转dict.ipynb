{
 "cells": [
  {
   "cell_type": "code",
   "execution_count": 3,
   "metadata": {},
   "outputs": [],
   "source": [
    "import pyperclip"
   ]
  },
  {
   "cell_type": "code",
   "execution_count": 10,
   "metadata": {},
   "outputs": [
    {
     "name": "stdout",
     "output_type": "stream",
     "text": [
      "'Accept':'application/json, text/plain, */*',\n",
      "'Accept-Encoding':'gzip, deflate, br, zstd',\n",
      "'Accept-Language':'zh-CN,zh;q=0.9,en;q=0.8,en-GB;q=0.7,en-US;q=0.6',\n",
      "'Connection':'keep-alive',\n",
      "'Content-Length':'98',\n",
      "'Content-Type':'application/x-www-form-urlencoded',\n",
      "'Cookie':'PANWEB=1; BIDUPSID=AD7C185360DF7161E2F9A633B11CDDDE; PSTM=1693662186; ZFY=SE8d6iJAEw0RplWClwwyUNjtdqQUVicD8AkqLdNHZjs:C; BAIDUID=AD7C185360DF7161E2F9A633B11CDDDE:SL=0:NR=10:FG=1; BAIDUID_BFESS=AD7C185360DF7161E2F9A633B11CDDDE:SL=0:NR=10:FG=1; Hm_lvt_fa0277816200010a74ab7d2895df481b=1699071411; Hm_lvt_0ba7bcf57b5e55fbfbab9a2750acdf3e=1704076593; H_WISE_SIDS=283702_284830_287047_110085_282466_283016_287627_280167_288271_287981_281879_284816_289236_288153_289948_282929_290204_271560_290394_290448_290358_290555_290560_290562_282805_291049_290976_291154_287174_291189_287238_286864; H_WISE_SIDS_BFESS=283702_284830_287047_110085_282466_283016_287627_280167_288271_287981_281879_284816_289236_288153_289948_282929_290204_271560_290394_290448_290358_290555_290560_290562_282805_291049_290976_291154_287174_291189_287238_286864; __bid_n=18cfbc4a30a5072f92495a; H_PS_PSSID=40373_40369_40416_40446_40302_40465_40459_40506_40514_40398_60024_60038_60047_40511_60087; BDCLND=tAgZtCb%2BQB2IGPpbz%2F7js6him1rkJJoSdeSO5fr2ids%3D; Hm_lvt_7a3960b6f067eb0085b7f96ff5e660b0=1712555480,1712657911,1714108532,1714455171; newlogin=1; MCITY=-218%3A; csrfToken=nAFx6X0C_5jgeKD3XxMJCCFq; BDUSS=FYYTMzTk93cmxvTDVNUXFiOVpUU1RkeFNLbXdLUzB0bGlvSTFVdVVSWnpzbVptSVFBQUFBJCQAAAAAAQAAAAEAAAC~QM1QZmFudG9uZ2Rlc2lnbgAAAAAAAAAAAAAAAAAAAAAAAAAAAAAAAAAAAAAAAAAAAAAAAAAAAAAAAAAAAAAAAAAAAHMlP2ZzJT9md2; BDUSS_BFESS=FYYTMzTk93cmxvTDVNUXFiOVpUU1RkeFNLbXdLUzB0bGlvSTFVdVVSWnpzbVptSVFBQUFBJCQAAAAAAQAAAAEAAAC~QM1QZmFudG9uZ2Rlc2lnbgAAAAAAAAAAAAAAAAAAAAAAAAAAAAAAAAAAAAAAAAAAAAAAAAAAAAAAAAAAAAAAAAAAAHMlP2ZzJT9md2; STOKEN=cdf45542469cb73f2a8a95131454ad1dd94d6f9b8f568b6addd1e2c0d65d7c0d; ndut_fmt=04B77F2BA03CBE2C20F5BBF32622CC97EF23828A9384744DA61A95C83F9113ED; ab_sr=1.0.1_NWE0NTRhNjgwYzgwMDQ0M2M1N2I0NmQ4MzA0ZDliNTcyZjAzNGZhZjAyMGJmNGNjZTYwMGU5NDhmZjk1NGVlN2E3ZGQ3MzRhYmFkMDdjYjIzMzllNjcxOTc1NzZlZDc0NThkYWJhNzhhZjMzYTYwOTVlNGFhZjM5NDYyYzg1YWFlNzQzNGFiZGU1OTk2YWM4MTIxNzE3MGQzZDBmZGQ1MmVkZGFmOGU3NDNiNTZhY2Y0YTI0NzhlOWIxNDI0ZWEy; PANPSC=13766072339688348156%3AyizKXNe5LYZQRVFTFGGk21cS2d9ns3O5g0mIZdLHpdQGbqupDlB1gqkqJyniV4j%2Bw3o3rCiWMDTmrJaLp1%2B7S21xB75uDARpMLJhA7AAwEBbyl%2BAzDab%2BhRxQTwB420xYzQxFe2ZxZUSyGyWV2EYsCxFdnPXuJ3M%2B5UJpSqjLqhAH17euEyegdfN3qzlLMWikUupkE6xG%2B8kqtDb6%2BO1Uw%3D%3D',\n",
      "'Host':'pan.baidu.com',\n",
      "'Origin':'https://pan.baidu.com',\n",
      "'Referer':'https://pan.baidu.com/disk/main?_at_=1715414389255',\n",
      "'Sec-Fetch-Dest':'empty',\n",
      "'Sec-Fetch-Mode':'cors',\n",
      "'Sec-Fetch-Site':'same-origin',\n",
      "'User-Agent':'Mozilla/5.0 (Windows NT 10.0; Win64; x64) AppleWebKit/537.36 (KHTML, like Gecko) Chrome/125.0.0.0 Safari/537.36 Edg/125.0.0.0',\n",
      "'X-Requested-With':'XMLHttpRequest',\n",
      "'sec-ch-ua':'\"Microsoft Edge\";v=\"125\", \"Chromium\";v=\"125\", \"Not.A/Brand\";v=\"24\"',\n",
      "'sec-ch-ua-mobile':'?0',\n",
      "'sec-ch-ua-platform':'\"Windows\"',\n"
     ]
    }
   ],
   "source": [
    "for line in pyperclip.paste().split(\"\\n\"):\n",
    "    if \":\" in line:\n",
    "        line_split = line.split(\": \")\n",
    "        print(f\"'{line_split[0].strip()}':'{line_split[1].strip()}',\")"
   ]
  }
 ],
 "metadata": {
  "kernelspec": {
   "display_name": "base",
   "language": "python",
   "name": "python3"
  },
  "language_info": {
   "codemirror_mode": {
    "name": "ipython",
    "version": 3
   },
   "file_extension": ".py",
   "mimetype": "text/x-python",
   "name": "python",
   "nbconvert_exporter": "python",
   "pygments_lexer": "ipython3",
   "version": "3.12.2"
  }
 },
 "nbformat": 4,
 "nbformat_minor": 2
}
