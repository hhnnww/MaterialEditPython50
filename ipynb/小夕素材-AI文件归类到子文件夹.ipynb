{
 "cells": [
  {
   "cell_type": "code",
   "execution_count": 2,
   "metadata": {},
   "outputs": [],
   "source": [
    "from pathlib import Path\n",
    "\n",
    "stem_list = []\n",
    "\n",
    "ma_path = Path(r\"F:\\小夕素材\\10000-20000\\10751\\10751\")\n",
    "for in_file in ma_path.iterdir():\n",
    "    if (\n",
    "        in_file.is_file()\n",
    "        and in_file.stem.lower() not in stem_list\n",
    "        and in_file.suffix.lower() == \".ai\"\n",
    "    ):\n",
    "        sub_path = ma_path / in_file.stem.lower()\n",
    "        sub_path.mkdir()\n",
    "\n",
    "        ai_file_new_path = sub_path / in_file.name\n",
    "        in_file.rename(ai_file_new_path)"
   ]
  }
 ],
 "metadata": {
  "kernelspec": {
   "display_name": "base",
   "language": "python",
   "name": "python3"
  },
  "language_info": {
   "codemirror_mode": {
    "name": "ipython",
    "version": 3
   },
   "file_extension": ".py",
   "mimetype": "text/x-python",
   "name": "python",
   "nbconvert_exporter": "python",
   "pygments_lexer": "ipython3",
   "version": "3.12.2"
  }
 },
 "nbformat": 4,
 "nbformat_minor": 2
}
