{
 "cells": [
  {
   "cell_type": "code",
   "execution_count": 14,
   "metadata": {},
   "outputs": [],
   "source": [
    "import uuid\n",
    "from pathlib import Path\n",
    "\n",
    "ma_path = Path(r\"F:\\小夕素材\\10000-20000\\10779\\10779\")\n",
    "\n",
    "for in_file in ma_path.rglob(\"*\"):\n",
    "    if in_file.is_file() and in_file.suffix.lower() in [\".psd\", \"psb\"]:\n",
    "        new_path = in_file.with_stem(uuid.uuid4().hex)\n",
    "        in_file.rename(new_path)"
   ]
  }
 ],
 "metadata": {
  "kernelspec": {
   "display_name": "base",
   "language": "python",
   "name": "python3"
  },
  "language_info": {
   "codemirror_mode": {
    "name": "ipython",
    "version": 3
   },
   "file_extension": ".py",
   "mimetype": "text/x-python",
   "name": "python",
   "nbconvert_exporter": "python",
   "pygments_lexer": "ipython3",
   "version": "3.12.2"
  }
 },
 "nbformat": 4,
 "nbformat_minor": 2
}
