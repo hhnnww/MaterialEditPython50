{
 "cells": [
  {
   "cell_type": "code",
   "execution_count": 1,
   "metadata": {},
   "outputs": [],
   "source": [
    "from pathlib import Path\n",
    "\n",
    "ma_path = Path(r\"F:\\小夕素材\\H000-H999\\H0711\\H0711\")\n",
    "\n",
    "\n",
    "for in_file in ma_path.iterdir():\n",
    "    if in_file.is_file() and in_file.suffix.lower() in [\".psd\", \".psb\", \".ai\"]:\n",
    "        new_path = ma_path / in_file.stem / in_file.name\n",
    "        if new_path.parent.exists() is False:\n",
    "            new_path.parent.mkdir(parents=True)\n",
    "\n",
    "        in_file.rename(new_path)\n"
   ]
  }
 ],
 "metadata": {
  "kernelspec": {
   "display_name": "base",
   "language": "python",
   "name": "python3"
  },
  "language_info": {
   "codemirror_mode": {
    "name": "ipython",
    "version": 3
   },
   "file_extension": ".py",
   "mimetype": "text/x-python",
   "name": "python",
   "nbconvert_exporter": "python",
   "pygments_lexer": "ipython3",
   "version": "3.12.2"
  }
 },
 "nbformat": 4,
 "nbformat_minor": 2
}
