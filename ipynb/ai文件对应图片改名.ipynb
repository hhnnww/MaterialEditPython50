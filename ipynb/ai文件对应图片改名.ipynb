{
 "cells": [
  {
   "cell_type": "code",
   "execution_count": 7,
   "id": "initial_id",
   "metadata": {
    "ExecuteTime": {
     "end_time": "2024-03-13T08:33:56.591622400Z",
     "start_time": "2024-03-13T08:33:56.555750600Z"
    },
    "collapsed": true
   },
   "outputs": [],
   "source": [
    "from pathlib import Path\n",
    "\n",
    "material_folder = r\"E:\\DOWN\\可制作\\合并10278\\合并10278\"\n",
    "\n",
    "for in_path in Path(material_folder).iterdir():\n",
    "    if in_path.is_dir():\n",
    "\n",
    "        for in_file in in_path.iterdir():\n",
    "            if in_file.is_file() and in_file.suffix.lower() in [\n",
    "                \".jpg\",\n",
    "                \".jpeg\",\n",
    "                \".png\",\n",
    "            ]:\n",
    "                if in_path.stem not in in_file.stem:\n",
    "                    new_path = in_file.with_stem(in_path.name).with_suffix(\".png\")\n",
    "                    in_file.rename(new_path)"
   ]
  }
 ],
 "metadata": {
  "kernelspec": {
   "display_name": "Python 3",
   "language": "python",
   "name": "python3"
  },
  "language_info": {
   "codemirror_mode": {
    "name": "ipython",
    "version": 2
   },
   "file_extension": ".py",
   "mimetype": "text/x-python",
   "name": "python",
   "nbconvert_exporter": "python",
   "pygments_lexer": "ipython2",
   "version": "2.7.6"
  }
 },
 "nbformat": 4,
 "nbformat_minor": 5
}
