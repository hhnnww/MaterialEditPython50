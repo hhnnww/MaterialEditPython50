{
 "cells": [
  {
   "cell_type": "code",
   "execution_count": 9,
   "metadata": {},
   "outputs": [
    {
     "data": {
      "text/plain": [
       "CompletedProcess(args=['C:\\\\Users\\\\aimlo\\\\AppData\\\\Roaming\\\\baidu\\\\BaiduNetdisk\\\\BaiduNetdisk.exe', 'F:\\\\小夕素材\\\\10000-20000\\\\10958\\\\10958'], returncode=1)"
      ]
     },
     "execution_count": 9,
     "metadata": {},
     "output_type": "execute_result"
    }
   ],
   "source": [
    "import subprocess\n",
    "\n",
    "subprocess.run(\n",
    "    args=[\n",
    "        r\"C:\\Users\\aimlo\\AppData\\Roaming\\baidu\\BaiduNetdisk\\BaiduNetdisk.exe\",\n",
    "        r\"F:\\小夕素材\\10000-20000\\10958\\10958\",\n",
    "    ]\n",
    ")"
   ]
  }
 ],
 "metadata": {
  "kernelspec": {
   "display_name": "base",
   "language": "python",
   "name": "python3"
  },
  "language_info": {
   "codemirror_mode": {
    "name": "ipython",
    "version": 3
   },
   "file_extension": ".py",
   "mimetype": "text/x-python",
   "name": "python",
   "nbconvert_exporter": "python",
   "pygments_lexer": "ipython3",
   "version": "3.12.2"
  }
 },
 "nbformat": 4,
 "nbformat_minor": 2
}
