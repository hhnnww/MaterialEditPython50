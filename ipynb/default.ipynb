{
 "cells": [
  {
   "cell_type": "code",
   "execution_count": 22,
   "metadata": {},
   "outputs": [
    {
     "name": "stderr",
     "output_type": "stream",
     "text": [
      "INFO:root:Logging is configured.\n",
      "2025-01-06 12:59:53,827 - root - INFO - Logging is configured.\n",
      "2025-01-06 12:59:53,827 - root - INFO - Logging is configured.\n",
      "2025-01-06 12:59:53,827 - root - INFO - Logging is configured.\n",
      "2025-01-06 12:59:53,827 - root - INFO - Logging is configured.\n",
      "2025-01-06 12:59:53,827 - root - INFO - Logging is configured.\n",
      "2025-01-06 12:59:53,827 - root - INFO - Logging is configured.\n",
      "2025-01-06 12:59:53,827 - root - INFO - Logging is configured.\n",
      "2025-01-06 12:59:53,827 - root - INFO - Logging is configured.\n"
     ]
    }
   ],
   "source": [
    "import logging\n",
    "\n",
    "logging.basicConfig(level=logging.INFO)\n",
    "logging.info(\"Logging is configured.\")"
   ]
  },
  {
   "cell_type": "code",
   "execution_count": null,
   "metadata": {},
   "outputs": [],
   "source": []
  }
 ],
 "metadata": {
  "kernelspec": {
   "display_name": "base",
   "language": "python",
   "name": "python3"
  },
  "language_info": {
   "codemirror_mode": {
    "name": "ipython",
    "version": 3
   },
   "file_extension": ".py",
   "mimetype": "text/x-python",
   "name": "python",
   "nbconvert_exporter": "python",
   "pygments_lexer": "ipython3",
   "version": "3.12.2"
  }
 },
 "nbformat": 4,
 "nbformat_minor": 2
}
