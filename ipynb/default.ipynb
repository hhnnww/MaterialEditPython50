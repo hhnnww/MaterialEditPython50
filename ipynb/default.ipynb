{
 "cells": [
  {
   "cell_type": "code",
   "execution_count": 3,
   "metadata": {},
   "outputs": [],
   "source": [
    "import pyperclip"
   ]
  },
  {
   "cell_type": "code",
   "execution_count": 4,
   "metadata": {},
   "outputs": [],
   "source": [
    "content = '''3034    \"链接: https://pan.baidu.com/s/1Br29kNRhYBGF6JkSKKxolA?pwd=8888\"\n",
    "3000    \"链接: https://pan.baidu.com/s/1xwrx_vOuTkKWTqe6kz-uNg?pwd=8888\"\n",
    "3006    \"链接: https://pan.baidu.com/s/1pKp4oUfu1gEqH-cuuZyv9Q?pwd=8888\"\n",
    "3014    \"链接: https://pan.baidu.com/s/1E2zM5zFAzAyChXUmB54NWg?pwd=8888\"\n",
    "3017    \"链接: https://pan.baidu.com/s/1C2vwyDABMs9HD7CGFigLBA?pwd=8888\"\n",
    "3020    \"链接: https://pan.baidu.com/s/1ZF00HGLU0EjEVxIWGQeBPQ?pwd=8888\"\n",
    "3023    \"链接: https://pan.baidu.com/s/1uZlofxtOi17tJhT5uKrgwg?pwd=8888\"\n",
    "3027    \"链接: https://pan.baidu.com/s/1gA-J8ioSTZ5FsdOoGjUBwQ?pwd=8888\"\n",
    "3004    \"链接: https://pan.baidu.com/s/1QyoxNkNcIwjeUcbu5Sdcrw?pwd=8888\"\n",
    "3036    \"链接: https://pan.baidu.com/s/1aiTBWMnju-n6AxfTXHRtRA?pwd=8888\"\n",
    "3005    \"链接: https://pan.baidu.com/s/1ozgNRKADybqfoBGxmzvjtQ?pwd=8888\"\n",
    "3030    \"链接: https://pan.baidu.com/s/1NSrw2t6AB3xy6eSp8bNh9A?pwd=8888\"\n",
    "3011    \"链接: https://pan.baidu.com/s/1FfwLUUl17dtfj5UCvypttg?pwd=8888\"\n",
    "3015    \"链接: https://pan.baidu.com/s/1ZpvQgapLSimVjB8iLGWdiw?pwd=8888\"\n",
    "3018    \"链接: https://pan.baidu.com/s/1tiu8xTTPLb0UUFJ_CFt-Cw?pwd=8888\"\n",
    "3021    \"链接: https://pan.baidu.com/s/1m4_Ne-okZrUs5veiRy2XaA?pwd=8888\"\n",
    "3031    \"链接: https://pan.baidu.com/s/1I2WDR1ZLSGROyoUPKDoVmQ?pwd=8888\"\n",
    "3010    \"链接: https://pan.baidu.com/s/1g6EMLxfaOOUaGt8IEMXibA?pwd=8888\"\n",
    "3026    \"链接: https://pan.baidu.com/s/1KxAGFI-2ntd0AYfCLjydIQ?pwd=8888\"\n",
    "3024    \"链接: https://pan.baidu.com/s/1BQA6-V0_b89HBTf_nN_mjA?pwd=8888\"\n",
    "3003    \"链接: https://pan.baidu.com/s/1XDHZ05-TRkKuWknpDmrIgQ?pwd=8888\"\n",
    "3007    \"链接: https://pan.baidu.com/s/15GCwM8FclOlEe-yyzFLAQQ?pwd=8888\"\n",
    "3008    \"链接: https://pan.baidu.com/s/1_tkougSC5M77VUsygLmsgg?pwd=8888\"\n",
    "3012    \"链接: https://pan.baidu.com/s/164GwsDFaq_d8P1J3U0dBAQ?pwd=8888\"\n",
    "3013    \"链接: https://pan.baidu.com/s/1A2dE5bu1BH3skawPmTUN-A?pwd=8888\"\n",
    "3016    \"链接: https://pan.baidu.com/s/16mjCeiRcoYH2WSjpp8ufMA?pwd=8888\"\n",
    "3028    \"链接: https://pan.baidu.com/s/1mZKLXMMqp9e4bZVsDIE_Ww?pwd=8888\"\n",
    "3029    \"链接: https://pan.baidu.com/s/15eM6-MYQ9tPV41K7owMXyA?pwd=8888\"\n",
    "3032    \"链接: https://pan.baidu.com/s/19JFsyjGhOzL-Va24-dl50A?pwd=8888\"\n",
    "3033    \"链接: https://pan.baidu.com/s/1aWq-gvOjTFC3W9bshEz1lw?pwd=8888\"\n",
    "3001    \"链接: https://pan.baidu.com/s/1WoEbVcn5NoTW-e78zGNDvA?pwd=8888\"\n",
    "3025    \"链接: https://pan.baidu.com/s/1o36vv9AembuACbJuhYfJ-g?pwd=8888\"\n",
    "3009    \"链接: https://pan.baidu.com/s/1qDBiDvYKv2fz4zMO7EF68w?pwd=8888\"\n",
    "3019    \"链接: https://pan.baidu.com/s/1lpor24rcbnQr-aFr1GCE0Q?pwd=8888\"\n",
    "3022    \"链接: https://pan.baidu.com/s/1J5_B7aj7-TE_jJeafsgCVg?pwd=8888\"\n",
    "3035    \"链接: https://pan.baidu.com/s/1mua2RJbFePocyEdI7OqVTQ?pwd=8888\"'''"
   ]
  },
  {
   "cell_type": "code",
   "execution_count": 7,
   "metadata": {},
   "outputs": [],
   "source": [
    "content_list = []\n",
    "\n",
    "for line in content.split(\"\\n\"):\n",
    "    line_split = line.split(\"    \")\n",
    "    line_text = f\"{line_split[0]}\\t{line_split[1]}\"\n",
    "    content_list.append(line_text)\n",
    "\n",
    "pyperclip.copy(\"\\n\\n\".join(content_list))"
   ]
  }
 ],
 "metadata": {
  "kernelspec": {
   "display_name": "base",
   "language": "python",
   "name": "python3"
  },
  "language_info": {
   "codemirror_mode": {
    "name": "ipython",
    "version": 3
   },
   "file_extension": ".py",
   "mimetype": "text/x-python",
   "name": "python",
   "nbconvert_exporter": "python",
   "pygments_lexer": "ipython3",
   "version": "3.12.2"
  }
 },
 "nbformat": 4,
 "nbformat_minor": 2
}
