{
 "cells": [
  {
   "cell_type": "code",
   "execution_count": 2,
   "metadata": {},
   "outputs": [],
   "source": [
    "from pathlib import Path\n",
    "import os"
   ]
  },
  {
   "cell_type": "code",
   "execution_count": 4,
   "metadata": {},
   "outputs": [],
   "source": [
    "material_path = r\"E:\\\\小夕素材\\\\10000-20000\\\\10327\\\\10327\"\n",
    "\n",
    "\n",
    "def fun_has_image(in_path: Path):\n",
    "    for in_file in in_path.rglob(\"*\"):\n",
    "        if in_file.is_file() and in_file.suffix.lower() in [\".jpg\", \".png\", \".jpeg\"]:\n",
    "            return True\n",
    "\n",
    "    return False\n",
    "\n",
    "\n",
    "for in_path in Path(material_path).iterdir():\n",
    "    if in_path.is_dir() and fun_has_image(in_path=in_path) is True:\n",
    "        os.startfile(in_path.as_posix())"
   ]
  }
 ],
 "metadata": {
  "kernelspec": {
   "display_name": "base",
   "language": "python",
   "name": "python3"
  },
  "language_info": {
   "codemirror_mode": {
    "name": "ipython",
    "version": 3
   },
   "file_extension": ".py",
   "mimetype": "text/x-python",
   "name": "python",
   "nbconvert_exporter": "python",
   "pygments_lexer": "ipython3",
   "version": "3.10.9"
  }
 },
 "nbformat": 4,
 "nbformat_minor": 2
}
