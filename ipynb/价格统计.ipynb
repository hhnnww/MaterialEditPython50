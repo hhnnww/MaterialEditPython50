{
 "cells": [
  {
   "cell_type": "code",
   "execution_count": 2,
   "id": "216b1d2b",
   "metadata": {},
   "outputs": [
    {
     "name": "stdout",
     "output_type": "stream",
     "text": [
      "总价: 11359.55 元\n"
     ]
    }
   ],
   "source": [
    "import re\n",
    "\n",
    "txt = './价格统计.txt'\n",
    "with open(txt, 'r', encoding='utf-8') as f:\n",
    "    f.seek(0)\n",
    "    numbers = re.findall(r'\\d+(?:\\.\\d+)?', f.read())\n",
    "    total = sum(map(float, numbers))\n",
    "    print(f'总价: {total:.2f} 元')"
   ]
  }
 ],
 "metadata": {
  "kernelspec": {
   "display_name": "MaterialEditPython50",
   "language": "python",
   "name": "python3"
  },
  "language_info": {
   "codemirror_mode": {
    "name": "ipython",
    "version": 3
   },
   "file_extension": ".py",
   "mimetype": "text/x-python",
   "name": "python",
   "nbconvert_exporter": "python",
   "pygments_lexer": "ipython3",
   "version": "3.12.10"
  }
 },
 "nbformat": 4,
 "nbformat_minor": 5
}
