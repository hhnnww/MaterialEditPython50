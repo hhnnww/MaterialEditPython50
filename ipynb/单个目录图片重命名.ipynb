{
 "cells": [
  {
   "cell_type": "code",
   "execution_count": null,
   "id": "465e657e",
   "metadata": {},
   "outputs": [],
   "source": [
    "from pathlib import Path\n",
    "from uuid import uuid4\n",
    "\n",
    "parent_path = Path(r\"F:\\小夕素材\\11000-11999\\11207\\11207\\小夕素材(68)\")\n",
    "\n",
    "for infile in list(parent_path.iterdir()):\n",
    "    if infile.is_file() and infile.suffix.lower() in [\".png\"]:\n",
    "        new_path = infile.with_stem(str(uuid4()))\n",
    "        infile.rename(new_path)\n",
    "\n",
    "for num, infile in enumerate(list(parent_path.iterdir())):\n",
    "    if infile.is_file() and infile.suffix.lower() in [\".png\"]:\n",
    "        new_stem = f\"{parent_path.stem}\" if num == 0 else f\"{parent_path.stem}_{num}\"\n",
    "        infile.rename(infile.with_stem(new_stem))"
   ]
  }
 ],
 "metadata": {
  "kernelspec": {
   "display_name": "base",
   "language": "python",
   "name": "python3"
  },
  "language_info": {
   "codemirror_mode": {
    "name": "ipython",
    "version": 3
   },
   "file_extension": ".py",
   "mimetype": "text/x-python",
   "name": "python",
   "nbconvert_exporter": "python",
   "pygments_lexer": "ipython3",
   "version": "3.12.2"
  }
 },
 "nbformat": 4,
 "nbformat_minor": 5
}
