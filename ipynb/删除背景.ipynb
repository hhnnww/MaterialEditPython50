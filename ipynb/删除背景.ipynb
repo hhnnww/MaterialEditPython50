{
 "cells": [
  {
   "cell_type": "code",
   "execution_count": null,
   "id": "initial_id",
   "metadata": {
    "ExecuteTime": {
     "end_time": "2024-03-15T12:58:45.579618900Z",
     "start_time": "2024-03-15T12:57:53.674711Z"
    },
    "collapsed": true
   },
   "outputs": [],
   "source": [
    "from pathlib import Path\n",
    "\n",
    "import requests\n",
    "\n",
    "img_path = input(\"输入图片地址:\")\n",
    "img_path = Path(img_path)\n",
    "\n",
    "for in_file in img_path.iterdir():\n",
    "    if in_file.is_file() and in_file.suffix.lower() in [\n",
    "        \".jpg\",\n",
    "        \".png\",\n",
    "        \".jpeg\",\n",
    "    ]:\n",
    "        response = requests.post(\n",
    "            \"https://api.remove.bg/v1.0/removebg\",\n",
    "            files={\"image_file\": open(in_file.as_posix(), \"rb\")},\n",
    "            data={\"size\": \"auto\"},\n",
    "            headers={\"X-Api-Key\": \"WwJTQfrKo5Jg7yaPenUTHhQX\"},\n",
    "        )\n",
    "        if response.status_code == requests.codes.ok:\n",
    "            with open(rf\"E:\\已扣\\dst\\{in_file.stem}.png\", \"wb\") as out:\n",
    "                out.write(response.content)\n",
    "        else:\n",
    "            print(\"Error:\", response.status_code, response.text)"
   ]
  },
  {
   "cell_type": "code",
   "execution_count": null,
   "id": "e4d3ff2b478e33c7",
   "metadata": {
    "ExecuteTime": {
     "end_time": "2024-03-15T12:57:42.363873700Z",
     "start_time": "2024-03-15T12:57:39.827986600Z"
    },
    "collapsed": false
   },
   "outputs": [],
   "source": [
    "from PIL import Image, ImageFilter\n",
    "from pathlib import Path\n",
    "\n",
    "for in_file in Path(r\"E:\\已扣\\dst\").iterdir():\n",
    "    im = Image.open(in_file.as_posix())\n",
    "    im = im.filter(ImageFilter.GaussianBlur(10))\n",
    "    im.save(in_file.as_posix())"
   ]
  }
 ],
 "metadata": {
  "kernelspec": {
   "display_name": "Python 3",
   "language": "python",
   "name": "python3"
  },
  "language_info": {
   "codemirror_mode": {
    "name": "ipython",
    "version": 2
   },
   "file_extension": ".py",
   "mimetype": "text/x-python",
   "name": "python",
   "nbconvert_exporter": "python",
   "pygments_lexer": "ipython2",
   "version": "3.10.9"
  }
 },
 "nbformat": 4,
 "nbformat_minor": 5
}
