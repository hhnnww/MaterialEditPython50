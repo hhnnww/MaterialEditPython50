{
 "cells": [
  {
   "cell_type": "code",
   "execution_count": 2,
   "metadata": {},
   "outputs": [
    {
     "name": "stderr",
     "output_type": "stream",
     "text": [
      "画册: 100%|███████████████████████████████████████████████████████████████████████████████████████████████████████████████████████████████████████████████████████████| 494/494 [03:16<00:00,  2.51it/s]\n"
     ]
    }
   ],
   "source": [
    "import math\n",
    "from pathlib import Path\n",
    "\n",
    "from PIL import Image, ImageFilter\n",
    "from tqdm import tqdm\n",
    "\n",
    "from MaterialEdit.fun_图片编辑.fun_图片扩大粘贴 import fun_图片扩大粘贴\n",
    "from MaterialEdit.setting import IMAGE_SUFFIX\n",
    "\n",
    "yy = Image.open(\"ipynb/IMG/折页阴影.png\")\n",
    "\n",
    "\n",
    "def fun_自动画册贴图(img_path: str, col: int) -> Image.Image:\n",
    "    \"\"\"画册添加阴影.\"\"\"\n",
    "    im = Image.open(img_path)\n",
    "    if im.mode.lower() != \"rgba\":\n",
    "        im = im.convert(\"RGBA\")\n",
    "\n",
    "    bg = Image.new(\"RGBA\", im.size, (255, 255, 255, 255))\n",
    "    bg.paste(im, (0, 0), im)\n",
    "\n",
    "    yy.thumbnail(im.size, resample=Image.Resampling.LANCZOS)\n",
    "\n",
    "    small_width = math.floor(im.width / col)\n",
    "\n",
    "    if col in (3, 2):\n",
    "        left_list = [0, small_width, small_width + small_width]\n",
    "\n",
    "    top = 0\n",
    "    r, g, b, a = yy.split()\n",
    "    for left in left_list:\n",
    "        while top < im.height:\n",
    "            bg.paste(yy, (left, top), a)\n",
    "            top += yy.height\n",
    "\n",
    "        top = 0\n",
    "    return bg\n",
    "\n",
    "\n",
    "def fun_图片添加阴影(im: Image.Image) -> Image.Image:\n",
    "    \"\"\"单个图片添加阴影.\"\"\"\n",
    "    mask = Image.new(\"RGBA\", im.size, (160, 160, 160, 255))\n",
    "    out = math.ceil(im.width * 0.1)\n",
    "    mask = fun_图片扩大粘贴(\n",
    "        im=mask,\n",
    "        width=im.width + out,\n",
    "        height=im.height + out,\n",
    "        left=\"center\",\n",
    "        top=\"center\",\n",
    "        background_color=(255, 255, 255, 255),\n",
    "    )\n",
    "    mask = mask.filter(ImageFilter.GaussianBlur(radius=10))\n",
    "\n",
    "    left = math.floor(((mask.width - im.width) / 2) - (im.width * 0.003))\n",
    "    top = math.floor(((mask.height - im.height) / 2) - (im.height * 0.003))\n",
    "    mask.paste(im, (left, top), im)\n",
    "\n",
    "    return mask\n",
    "\n",
    "\n",
    "for in_file in tqdm(\n",
    "    list(Path(r\"F:\\小夕素材\\10000-20000\\10968\\预览图\").rglob(\"*\")),\n",
    "    desc=\"画册\",\n",
    "    ncols=200,\n",
    "):\n",
    "    if in_file.is_file() and in_file.suffix.lower() in IMAGE_SUFFIX and \"thumb\" not in in_file.stem:\n",
    "        im = fun_自动画册贴图(img_path=in_file.as_posix(), col=2)\n",
    "        im = fun_图片添加阴影(im=im)\n",
    "\n",
    "        if in_file.suffix.lower() in [\".jpg\", \".jpeg\"]:\n",
    "            im = im.convert(\"RGB\")\n",
    "            im.save(in_file.as_posix(), quitly=80)\n",
    "        else:\n",
    "            im.save(in_file.as_posix())\n",
    "\n",
    "        im.close()\n"
   ]
  }
 ],
 "metadata": {
  "kernelspec": {
   "display_name": "base",
   "language": "python",
   "name": "python3"
  },
  "language_info": {
   "codemirror_mode": {
    "name": "ipython",
    "version": 3
   },
   "file_extension": ".py",
   "mimetype": "text/x-python",
   "name": "python",
   "nbconvert_exporter": "python",
   "pygments_lexer": "ipython3",
   "version": "3.12.2"
  }
 },
 "nbformat": 4,
 "nbformat_minor": 2
}
