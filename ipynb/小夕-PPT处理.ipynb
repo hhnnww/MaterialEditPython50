{
 "cells": [
  {
   "cell_type": "code",
   "execution_count": 34,
   "metadata": {},
   "outputs": [],
   "source": [
    "from pathlib import Path\n",
    "\n",
    "from pptx import Presentation\n",
    "\n",
    "\n",
    "def fun_删除所有备注(ppt_file: str):\n",
    "    prs = Presentation(pptx=ppt_file)\n",
    "\n",
    "    for slide in prs.slides:\n",
    "        # 删除所有备注\n",
    "        if slide.has_notes_slide:\n",
    "            if slide.notes_slide.notes_text_frame:\n",
    "                slide.notes_slide.notes_text_frame.clear()\n",
    "\n",
    "    prs.save(file=ppt_file)\n",
    "\n",
    "\n",
    "for in_file in Path(r\"F:\\小夕素材\\10000-20000\\10805\\10805\").iterdir():\n",
    "    if in_file.is_file() and in_file.suffix.lower() in [\".ppt\", \".pptx\"]:\n",
    "        fun_删除所有备注(ppt_file=in_file.as_posix())"
   ]
  }
 ],
 "metadata": {
  "kernelspec": {
   "display_name": "base",
   "language": "python",
   "name": "python3"
  },
  "language_info": {
   "codemirror_mode": {
    "name": "ipython",
    "version": 3
   },
   "file_extension": ".py",
   "mimetype": "text/x-python",
   "name": "python",
   "nbconvert_exporter": "python",
   "pygments_lexer": "ipython3",
   "version": "3.12.2"
  }
 },
 "nbformat": 4,
 "nbformat_minor": 2
}
