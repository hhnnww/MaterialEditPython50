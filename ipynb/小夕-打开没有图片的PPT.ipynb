{
 "cells": [
  {
   "cell_type": "code",
   "execution_count": 2,
   "metadata": {},
   "outputs": [],
   "source": [
    "import os\n",
    "from pathlib import Path\n",
    "\n",
    "ma_path = Path(r\"F:\\小夕素材\\10000-20000\\10890\\10890\")\n",
    "\n",
    "for in_file in ma_path.iterdir():\n",
    "    if in_file.is_file() and in_file.suffix.lower() in [\".pptx\"]:\n",
    "        png_path = in_file.with_suffix(\".png\")\n",
    "        if png_path.exists() is not True:\n",
    "            os.startfile(in_file.as_posix())"
   ]
  }
 ],
 "metadata": {
  "kernelspec": {
   "display_name": "base",
   "language": "python",
   "name": "python3"
  },
  "language_info": {
   "codemirror_mode": {
    "name": "ipython",
    "version": 3
   },
   "file_extension": ".py",
   "mimetype": "text/x-python",
   "name": "python",
   "nbconvert_exporter": "python",
   "pygments_lexer": "ipython3",
   "version": "3.12.2"
  }
 },
 "nbformat": 4,
 "nbformat_minor": 2
}
