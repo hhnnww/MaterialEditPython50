{
 "cells": [
  {
   "cell_type": "code",
   "execution_count": null,
   "metadata": {},
   "outputs": [],
   "source": [
    "import json\n",
    "\n",
    "import pyperclip\n",
    "\n",
    "from MaterialEdit.fun_素材下载.fun_插入素材 import fun_插入素材\n",
    "from MaterialEdit.fun_素材下载.model_素材格式 import MaterialModel\n",
    "\n",
    "text = pyperclip.paste()\n",
    "\n",
    "for obj in json.loads(text).get(\"data\").get(\"data\"):\n",
    "    obj_model = MaterialModel(url=obj.get(\"itemUrl\"), img=obj.get(\"image\"), state=False)\n",
    "    fun_插入素材(shop_name=\"松子素材\", material_site=\"三老爹\", material_model=obj_model)\n"
   ]
  }
 ],
 "metadata": {
  "kernelspec": {
   "display_name": "base",
   "language": "python",
   "name": "python3"
  },
  "language_info": {
   "codemirror_mode": {
    "name": "ipython",
    "version": 3
   },
   "file_extension": ".py",
   "mimetype": "text/x-python",
   "name": "python",
   "nbconvert_exporter": "python",
   "pygments_lexer": "ipython3",
   "version": "3.12.2"
  }
 },
 "nbformat": 4,
 "nbformat_minor": 2
}
