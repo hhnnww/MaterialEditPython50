{
 "cells": [
  {
   "cell_type": "code",
   "execution_count": 2,
   "metadata": {},
   "outputs": [
    {
     "name": "stdout",
     "output_type": "stream",
     "text": [
      "{'Accept': 'text/html,application/xhtml+xml,application/xml;q=0.9,image/avif,image/webp,image/apng,*/*;q=0.8,application/signed-exchange;v=b3;q=0.7',\n",
      " 'Accept-Encoding': 'gzip, deflate, br, zstd',\n",
      " 'Accept-Language': 'zh-CN,zh;q=0.9,en;q=0.8,en-GB;q=0.7,en-US;q=0.6',\n",
      " 'Cache-Control': 'max-age=0',\n",
      " 'Connection': 'keep-alive',\n",
      " 'Cookie': 'XFT=9Jb4+JIOxPRXLBExmGzEcXajlFxbd4/ptfoeDjXcumc=; '\n",
      "           'XFI=88a8b4cf-34d7-ee48-502e-ddd8c0b3eb48; '\n",
      "           'XFCS=6404BBF6519C7B22FC1FFBCD72EF2493CF09C8BE63C486EB3B5D5586D611994A; '\n",
      "           'PANWEB=1; BIDUPSID=AD7C185360DF7161E2F9A633B11CDDDE; '\n",
      "           'PSTM=1693662186; '\n",
      "           'ZFY=SE8d6iJAEw0RplWClwwyUNjtdqQUVicD8AkqLdNHZjs:C; '\n",
      "           'BAIDUID=AD7C185360DF7161E2F9A633B11CDDDE:SL=0:NR=10:FG=1; '\n",
      "           'BAIDUID_BFESS=AD7C185360DF7161E2F9A633B11CDDDE:SL=0:NR=10:FG=1; '\n",
      "           'Hm_lvt_fa0277816200010a74ab7d2895df481b=1699071411; '\n",
      "           'Hm_lvt_0ba7bcf57b5e55fbfbab9a2750acdf3e=1704076593; '\n",
      "           'H_WISE_SIDS=283702_284830_287047_110085_282466_283016_287627_280167_288271_287981_281879_284816_289236_288153_289948_282929_290204_271560_290394_290448_290358_290555_290560_290562_282805_291049_290976_291154_287174_291189_287238_286864; '\n",
      "           'H_WISE_SIDS_BFESS=283702_284830_287047_110085_282466_283016_287627_280167_288271_287981_281879_284816_289236_288153_289948_282929_290204_271560_290394_290448_290358_290555_290560_290562_282805_291049_290976_291154_287174_291189_287238_286864; '\n",
      "           '__bid_n=18cfbc4a30a5072f92495a; '\n",
      "           'H_PS_PSSID=40373_40369_40416_40446_40302_40465_40459_40506_40514_40398_60024_60038_60047_40511_60087; '\n",
      "           'newlogin=1; MCITY=-218%3A; csrfToken=nAFx6X0C_5jgeKD3XxMJCCFq; '\n",
      "           'BDUSS=FYYTMzTk93cmxvTDVNUXFiOVpUU1RkeFNLbXdLUzB0bGlvSTFVdVVSWnpzbVptSVFBQUFBJCQAAAAAAQAAAAEAAAC~QM1QZmFudG9uZ2Rlc2lnbgAAAAAAAAAAAAAAAAAAAAAAAAAAAAAAAAAAAAAAAAAAAAAAAAAAAAAAAAAAAAAAAAAAAHMlP2ZzJT9md2; '\n",
      "           'BDUSS_BFESS=FYYTMzTk93cmxvTDVNUXFiOVpUU1RkeFNLbXdLUzB0bGlvSTFVdVVSWnpzbVptSVFBQUFBJCQAAAAAAQAAAAEAAAC~QM1QZmFudG9uZ2Rlc2lnbgAAAAAAAAAAAAAAAAAAAAAAAAAAAAAAAAAAAAAAAAAAAAAAAAAAAAAAAAAAAAAAAAAAAHMlP2ZzJT9md2; '\n",
      "           'STOKEN=cdf45542469cb73f2a8a95131454ad1dd94d6f9b8f568b6addd1e2c0d65d7c0d; '\n",
      "           'BDCLND=Ore5X9xAbEzlLzRsAfqk7ow1sYW5eSnL9MzaqZFafGY%3D; '\n",
      "           'Hm_lvt_7a3960b6f067eb0085b7f96ff5e660b0=1714108532,1714455171,1715417797; '\n",
      "           'Hm_lpvt_7a3960b6f067eb0085b7f96ff5e660b0=1715417797; '\n",
      "           'PANPSC=9059463329333912957%3AKkwrx6t0uHDKfgmf682LanvP0pOnVAlon%2BtqYDeyhjJ8JqFDQduLuN5LPjxnqCQmmldUB8t5cduKRHLHd3c487%2FiiUOqky53LvxjdeGWe17jGnhAWNtUtRFMp0gunMk1Y8uG8AM%2BY0Ih6uZoP3DwQ7BnXFvU9LYk9FYxwFKTFsIXfUNNyqjRAzCo8bcT1HMK; '\n",
      "           'ndut_fmt=3EE4E3AC9F60BD9831A95822883A23B5AA2F94D1521419D327D31A63CADC6E53; '\n",
      "           'ab_sr=1.0.1_OWU1MmJlYzZlMTg4ZWVlYmNkM2NiNTAxOWIzZmNiNjczZDllZjM2Yzg1NTU4YzI5YzVmN2JhNGMyN2I2NzM3MTkzMDRhMTk5ZjdkZWMwNTg0MTViOWYyOWY3NDhkMjFiMDJhODdkMjE5NTBkYjgzNGNkNzM5ZDViMTZlOTYxZTU2ZmVkNGQxMDFmN2I5NWQ3N2U2Y2M3ZmY3MWI4ZmY5YTQ4NmY2MTFhMzJmZmIxMWJiMTNjNzEyYmUyNTFlMzk5',\n",
      " 'Host': 'pan.baidu.com',\n",
      " 'Sec-Fetch-Dest': 'document',\n",
      " 'Sec-Fetch-Mode': 'navigate',\n",
      " 'Sec-Fetch-Site': 'same-origin',\n",
      " 'Sec-Fetch-User': '?1',\n",
      " 'Upgrade-Insecure-Requests': '1',\n",
      " 'User-Agent': 'Mozilla/5.0 (Windows NT 10.0; Win64; x64) AppleWebKit/537.36 '\n",
      "               '(KHTML, like Gecko) Chrome/125.0.0.0 Safari/537.36 '\n",
      "               'Edg/125.0.0.0',\n",
      " 'sec-ch-ua': '\"Microsoft Edge\";v=\"125\", \"Chromium\";v=\"125\", '\n",
      "              '\"Not.A/Brand\";v=\"24\"',\n",
      " 'sec-ch-ua-mobile': '?0',\n",
      " 'sec-ch-ua-platform': '\"Windows\"'}\n"
     ]
    }
   ],
   "source": [
    "from pprint import pprint\n",
    "\n",
    "content = \"\"\"\n",
    "GET /disk/main HTTP/1.1\n",
    "Accept: text/html,application/xhtml+xml,application/xml;q=0.9,image/avif,image/webp,image/apng,*/*;q=0.8,application/signed-exchange;v=b3;q=0.7\n",
    "Accept-Encoding: gzip, deflate, br, zstd\n",
    "Accept-Language: zh-CN,zh;q=0.9,en;q=0.8,en-GB;q=0.7,en-US;q=0.6\n",
    "Cache-Control: max-age=0\n",
    "Connection: keep-alive\n",
    "Cookie: XFT=9Jb4+JIOxPRXLBExmGzEcXajlFxbd4/ptfoeDjXcumc=; XFI=88a8b4cf-34d7-ee48-502e-ddd8c0b3eb48; XFCS=6404BBF6519C7B22FC1FFBCD72EF2493CF09C8BE63C486EB3B5D5586D611994A; PANWEB=1; BIDUPSID=AD7C185360DF7161E2F9A633B11CDDDE; PSTM=1693662186; ZFY=SE8d6iJAEw0RplWClwwyUNjtdqQUVicD8AkqLdNHZjs:C; BAIDUID=AD7C185360DF7161E2F9A633B11CDDDE:SL=0:NR=10:FG=1; BAIDUID_BFESS=AD7C185360DF7161E2F9A633B11CDDDE:SL=0:NR=10:FG=1; Hm_lvt_fa0277816200010a74ab7d2895df481b=1699071411; Hm_lvt_0ba7bcf57b5e55fbfbab9a2750acdf3e=1704076593; H_WISE_SIDS=283702_284830_287047_110085_282466_283016_287627_280167_288271_287981_281879_284816_289236_288153_289948_282929_290204_271560_290394_290448_290358_290555_290560_290562_282805_291049_290976_291154_287174_291189_287238_286864; H_WISE_SIDS_BFESS=283702_284830_287047_110085_282466_283016_287627_280167_288271_287981_281879_284816_289236_288153_289948_282929_290204_271560_290394_290448_290358_290555_290560_290562_282805_291049_290976_291154_287174_291189_287238_286864; __bid_n=18cfbc4a30a5072f92495a; H_PS_PSSID=40373_40369_40416_40446_40302_40465_40459_40506_40514_40398_60024_60038_60047_40511_60087; newlogin=1; MCITY=-218%3A; csrfToken=nAFx6X0C_5jgeKD3XxMJCCFq; BDUSS=FYYTMzTk93cmxvTDVNUXFiOVpUU1RkeFNLbXdLUzB0bGlvSTFVdVVSWnpzbVptSVFBQUFBJCQAAAAAAQAAAAEAAAC~QM1QZmFudG9uZ2Rlc2lnbgAAAAAAAAAAAAAAAAAAAAAAAAAAAAAAAAAAAAAAAAAAAAAAAAAAAAAAAAAAAAAAAAAAAHMlP2ZzJT9md2; BDUSS_BFESS=FYYTMzTk93cmxvTDVNUXFiOVpUU1RkeFNLbXdLUzB0bGlvSTFVdVVSWnpzbVptSVFBQUFBJCQAAAAAAQAAAAEAAAC~QM1QZmFudG9uZ2Rlc2lnbgAAAAAAAAAAAAAAAAAAAAAAAAAAAAAAAAAAAAAAAAAAAAAAAAAAAAAAAAAAAAAAAAAAAHMlP2ZzJT9md2; STOKEN=cdf45542469cb73f2a8a95131454ad1dd94d6f9b8f568b6addd1e2c0d65d7c0d; BDCLND=Ore5X9xAbEzlLzRsAfqk7ow1sYW5eSnL9MzaqZFafGY%3D; Hm_lvt_7a3960b6f067eb0085b7f96ff5e660b0=1714108532,1714455171,1715417797; Hm_lpvt_7a3960b6f067eb0085b7f96ff5e660b0=1715417797; PANPSC=9059463329333912957%3AKkwrx6t0uHDKfgmf682LanvP0pOnVAlon%2BtqYDeyhjJ8JqFDQduLuN5LPjxnqCQmmldUB8t5cduKRHLHd3c487%2FiiUOqky53LvxjdeGWe17jGnhAWNtUtRFMp0gunMk1Y8uG8AM%2BY0Ih6uZoP3DwQ7BnXFvU9LYk9FYxwFKTFsIXfUNNyqjRAzCo8bcT1HMK; ndut_fmt=3EE4E3AC9F60BD9831A95822883A23B5AA2F94D1521419D327D31A63CADC6E53; ab_sr=1.0.1_OWU1MmJlYzZlMTg4ZWVlYmNkM2NiNTAxOWIzZmNiNjczZDllZjM2Yzg1NTU4YzI5YzVmN2JhNGMyN2I2NzM3MTkzMDRhMTk5ZjdkZWMwNTg0MTViOWYyOWY3NDhkMjFiMDJhODdkMjE5NTBkYjgzNGNkNzM5ZDViMTZlOTYxZTU2ZmVkNGQxMDFmN2I5NWQ3N2U2Y2M3ZmY3MWI4ZmY5YTQ4NmY2MTFhMzJmZmIxMWJiMTNjNzEyYmUyNTFlMzk5\n",
    "Host: pan.baidu.com\n",
    "Sec-Fetch-Dest: document\n",
    "Sec-Fetch-Mode: navigate\n",
    "Sec-Fetch-Site: same-origin\n",
    "Sec-Fetch-User: ?1\n",
    "Upgrade-Insecure-Requests: 1\n",
    "User-Agent: Mozilla/5.0 (Windows NT 10.0; Win64; x64) AppleWebKit/537.36 (KHTML, like Gecko) Chrome/125.0.0.0 Safari/537.36 Edg/125.0.0.0\n",
    "sec-ch-ua: \"Microsoft Edge\";v=\"125\", \"Chromium\";v=\"125\", \"Not.A/Brand\";v=\"24\"\n",
    "sec-ch-ua-mobile: ?0\n",
    "sec-ch-ua-platform: \"Windows\"\n",
    "\"\"\"\n",
    "\n",
    "\n",
    "header = {}\n",
    "for line in content.split(\"\\n\"):\n",
    "    if \": \" in line:\n",
    "        line_split = line.split(\": \")\n",
    "        header[line_split[0]] = line_split[1]\n",
    "\n",
    "pprint(header)"
   ]
  }
 ],
 "metadata": {
  "kernelspec": {
   "display_name": "base",
   "language": "python",
   "name": "python3"
  },
  "language_info": {
   "codemirror_mode": {
    "name": "ipython",
    "version": 3
   },
   "file_extension": ".py",
   "mimetype": "text/x-python",
   "name": "python",
   "nbconvert_exporter": "python",
   "pygments_lexer": "ipython3",
   "version": "3.12.2"
  }
 },
 "nbformat": 4,
 "nbformat_minor": 2
}
