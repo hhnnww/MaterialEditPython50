{
 "cells": [
  {
   "cell_type": "code",
   "execution_count": 8,
   "metadata": {},
   "outputs": [
    {
     "name": "stdout",
     "output_type": "stream",
     "text": [
      "[\"10377\", \"10376\", \"10375\", \"10374\", \"10372\", \"10371\", \"10370\", \"10369\", \"10368\", \"10367\", \"10366\", \"10365\", \"10364\", \"10363\", \"10362\", \"10361\", \"10360\", \"10359\", \"10358\", \"10357\"]\n"
     ]
    }
   ],
   "source": [
    "import pyperclip\n",
    "import re\n",
    "import json\n",
    "\n",
    "content = pyperclip.paste()\n",
    "\n",
    "ma_list = json.dumps(re.findall(\"编码:(.*?)\\r\", content))\n",
    "print(ma_list)\n",
    "\n",
    "ll = [\n",
    "    \"10377\",\n",
    "    \"10376\",\n",
    "    \"10375\",\n",
    "    \"10374\",\n",
    "    \"10372\",\n",
    "    \"10371\",\n",
    "    \"10370\",\n",
    "    \"10369\",\n",
    "    \"10368\",\n",
    "    \"10367\",\n",
    "    \"10366\",\n",
    "    \"10365\",\n",
    "    \"10364\",\n",
    "    \"10363\",\n",
    "    \"10362\",\n",
    "    \"10361\",\n",
    "    \"10360\",\n",
    "    \"10359\",\n",
    "    \"10358\",\n",
    "    \"10357\",\n",
    "]"
   ]
  }
 ],
 "metadata": {
  "kernelspec": {
   "display_name": "base",
   "language": "python",
   "name": "python3"
  },
  "language_info": {
   "codemirror_mode": {
    "name": "ipython",
    "version": 3
   },
   "file_extension": ".py",
   "mimetype": "text/x-python",
   "name": "python",
   "nbconvert_exporter": "python",
   "pygments_lexer": "ipython3",
   "version": "3.12.2"
  }
 },
 "nbformat": 4,
 "nbformat_minor": 2
}
