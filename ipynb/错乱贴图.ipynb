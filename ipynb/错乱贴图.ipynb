{
 "cells": [
  {
   "cell_type": "code",
   "execution_count": 28,
   "metadata": {},
   "outputs": [],
   "source": [
    "from pathlib import Path\n",
    "from PIL import Image\n",
    "\n",
    "im = Image.open(r\"C:\\Users\\wuweihua\\Desktop\\UPLOAD\\1.png\")\n",
    "shadow_im = Image.open(\n",
    "    r\"C:\\Users\\wuweihua\\codeProject\\MaterialEditPython5.0\\MaterialEdit\\fun_制作首图\\layout_错乱排列\\5-2-item.png\"\n",
    ")\n",
    "line_col = 6\n",
    "line_row = 3\n",
    "\n",
    "small_width = 300\n",
    "small_height = 650\n",
    "\n",
    "left = int(small_width / 2) - 50\n",
    "top = 20\n",
    "\n",
    "num = 0\n",
    "while True:\n",
    "    im.paste(shadow_im, (left, top), shadow_im)\n",
    "    left += small_width * 2\n",
    "\n",
    "    if left >= im.width:\n",
    "        top += small_height\n",
    "        if num % 2 == 0:\n",
    "            left = int(small_width / 2) - 50 - small_width\n",
    "        else:\n",
    "            left = int(small_width / 2) - 50\n",
    "        num += 1\n",
    "\n",
    "    if top >= im.height:\n",
    "        break\n",
    "\n",
    "im.show()"
   ]
  }
 ],
 "metadata": {
  "kernelspec": {
   "display_name": "base",
   "language": "python",
   "name": "python3"
  },
  "language_info": {
   "codemirror_mode": {
    "name": "ipython",
    "version": 3
   },
   "file_extension": ".py",
   "mimetype": "text/x-python",
   "name": "python",
   "nbconvert_exporter": "python",
   "pygments_lexer": "ipython3",
   "version": "3.10.9"
  }
 },
 "nbformat": 4,
 "nbformat_minor": 2
}
