{
 "cells": [
  {
   "cell_type": "code",
   "execution_count": 1,
   "metadata": {},
   "outputs": [],
   "source": [
    "from pathlib import Path\n",
    "from typing import Literal\n",
    "\n",
    "from PIL import Image\n",
    "\n",
    "\n",
    "def fun_透明图片添加底色(ma_path: str, bg_color_name: Literal[\"white\", \"black\"]):\n",
    "    if bg_color_name == \"white\":\n",
    "        bg_color = (255, 255, 255, 255)\n",
    "    elif bg_color_name == \"black\":\n",
    "        bg_color = (0, 0, 0, 255)\n",
    "    else:\n",
    "        bg_color = (0, 0, 0, 255)\n",
    "\n",
    "    for in_file in Path(ma_path).iterdir():\n",
    "        if in_file.is_file() and in_file.suffix.lower() in [\".png\"]:\n",
    "            with Image.open(in_file.as_posix()) as im:\n",
    "                bg = Image.new(\"RGBA\", im.size, bg_color)\n",
    "                bg.paste(im, (0, 0), im)\n",
    "                bg.save(in_file.as_posix())\n",
    "\n",
    "\n",
    "fun_透明图片添加底色(r\"F:\\泡泡素材\\2000-2999\\2486\\预览图\", bg_color_name=\"black\")"
   ]
  }
 ],
 "metadata": {
  "kernelspec": {
   "display_name": "base",
   "language": "python",
   "name": "python3"
  },
  "language_info": {
   "codemirror_mode": {
    "name": "ipython",
    "version": 3
   },
   "file_extension": ".py",
   "mimetype": "text/x-python",
   "name": "python",
   "nbconvert_exporter": "python",
   "pygments_lexer": "ipython3",
   "version": "3.12.2"
  }
 },
 "nbformat": 4,
 "nbformat_minor": 2
}
