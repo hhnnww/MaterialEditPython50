{
 "cells": [
  {
   "cell_type": "code",
   "execution_count": 5,
   "metadata": {},
   "outputs": [],
   "source": [
    "from pathlib import Path\n",
    "from uuid import uuid4\n",
    "\n",
    "\n",
    "def fun_单个文件夹改名(ma_path: Path):\n",
    "    for in_file in ma_path.iterdir():\n",
    "        if in_file.is_file() and in_file.suffix.lower() in [\".psd\", \".psb\"]:\n",
    "            in_file.rename(in_file.with_stem(str(uuid4())))\n",
    "\n",
    "    ps_file_list = []\n",
    "    for in_file in ma_path.iterdir():\n",
    "        if in_file.is_file() and in_file.suffix.lower() in [\".psd\", \".psb\"]:\n",
    "            ps_file_list.append(in_file)\n",
    "\n",
    "    for num, in_file in enumerate(ps_file_list):\n",
    "        in_file: Path\n",
    "        if num == 0:\n",
    "            new_path = in_file.with_stem(f\"{in_file.parent.stem}\")\n",
    "        else:\n",
    "            new_path = in_file.with_stem(f\"{in_file.parent.stem}-{num}\")\n",
    "\n",
    "        in_file.rename(new_path)\n",
    "\n",
    "\n",
    "for in_path in Path(r\"F:\\小夕素材\\10000-20000\\10587\\10587\").iterdir():\n",
    "    if in_path.is_dir():\n",
    "        fun_单个文件夹改名(ma_path=in_path)"
   ]
  }
 ],
 "metadata": {
  "kernelspec": {
   "display_name": "base",
   "language": "python",
   "name": "python3"
  },
  "language_info": {
   "codemirror_mode": {
    "name": "ipython",
    "version": 3
   },
   "file_extension": ".py",
   "mimetype": "text/x-python",
   "name": "python",
   "nbconvert_exporter": "python",
   "pygments_lexer": "ipython3",
   "version": "3.12.2"
  }
 },
 "nbformat": 4,
 "nbformat_minor": 2
}
