{
 "cells": [
  {
   "cell_type": "code",
   "execution_count": 15,
   "metadata": {},
   "outputs": [],
   "source": [
    "import json\n",
    "\n",
    "import pyperclip\n",
    "\n",
    "from MaterialEdit.fun_素材下载.fun_插入素材 import fun_插入素材\n",
    "from MaterialEdit.fun_素材下载.model_素材格式 import MaterialModel\n",
    "\n",
    "data_text = pyperclip.paste()\n",
    "\n",
    "data_json = json.loads(data_text)\n"
   ]
  },
  {
   "cell_type": "code",
   "execution_count": 16,
   "metadata": {},
   "outputs": [
    {
     "name": "stdout",
     "output_type": "stream",
     "text": [
      "{'image': 'https://gw.alicdn.com/imgextra/O1CN01PklJXc1Qu4yf4GFAJ_!!2212790142035.jpg', 'itemId': 828119190358, 'title': '薇拉高定白色婚纱照情侣高清JPG花朵场景背景后期写照拍照素材', 'itemUrl': 'https://item.taobao.com/item.htm?id=828119190358', 'discountPrice': '2.99', 'priceEncoded': False, 'vitalItem': False, 'benefitPointData': [], 'vagueSold365': '59'}\n",
      "素材已经存在\n",
      "{'image': 'https://gw.alicdn.com/imgextra/O1CN01qc7gRY1Qu4yeQtyoL_!!2212790142035.jpg', 'itemId': 828118272569, 'title': '中秋节工笔汉服桂花女神儿童宝宝汉服写真主题照psd设计素材模板', 'itemUrl': 'https://item.taobao.com/item.htm?id=828118272569', 'discountPrice': '2.88', 'priceEncoded': False, 'vitalItem': False, 'benefitPointData': [], 'vagueSold365': '26'}\n",
      "素材已经存在\n",
      "{'image': 'https://gw.alicdn.com/imgextra/O1CN01jIL99V1Qu4yhfXUFN_!!2212790142035.jpg', 'itemId': 827279347344, 'title': '中秋节新中式书法灯笼儿童宝宝汉服写真主题照psd设计素材模板', 'itemUrl': 'https://item.taobao.com/item.htm?id=827279347344', 'discountPrice': '2.88', 'priceEncoded': False, 'vitalItem': False, 'benefitPointData': [], 'vagueSold365': '63'}\n",
      "素材已经存在\n",
      "{'image': 'https://gw.alicdn.com/imgextra/O1CN01vA26431Qu4yiERu9i_!!2212790142035.jpg', 'itemId': 827451366267, 'title': '中秋节水墨工笔汉服桂花儿童宝宝汉服写真主题照psd设计素材模板', 'itemUrl': 'https://item.taobao.com/item.htm?id=827451366267', 'discountPrice': '2.96', 'priceEncoded': False, 'vitalItem': False, 'benefitPointData': [], 'vagueSold365': '43'}\n",
      "素材已经存在\n",
      "{'image': 'https://gw.alicdn.com/imgextra/O1CN01YFpvx71Qu4yetwXFi_!!2212790142035.jpg', 'itemId': 827278291054, 'title': '中秋节新中式竹影摇曳儿童宝宝汉服写真主题照psd设计素材模板', 'itemUrl': 'https://item.taobao.com/item.htm?id=827278291054', 'discountPrice': '2.89', 'priceEncoded': False, 'vitalItem': False, 'benefitPointData': [], 'vagueSold365': '58'}\n",
      "素材已经存在\n",
      "{'image': 'https://gw.alicdn.com/imgextra/O1CN010I7aIX1Qu4ydXE13P_!!2212790142035.jpg', 'itemId': 827499372421, 'title': '薇拉高定花朵白色婚纱照情侣高清JPG场景背景后期写照拍照素材', 'itemUrl': 'https://item.taobao.com/item.htm?id=827499372421', 'discountPrice': '2.59', 'priceEncoded': False, 'vitalItem': False, 'benefitPointData': [], 'vagueSold365': '79'}\n",
      "素材已经存在\n",
      "{'image': 'https://gw.alicdn.com/imgextra/O1CN01ualkeM1Qu4ybAtvMp_!!2212790142035.jpg', 'itemId': 826966687062, 'title': '薇拉帷幔薄纱白色婚纱照情侣高清JPG场景背景后期写照拍照素材', 'itemUrl': 'https://item.taobao.com/item.htm?id=826966687062', 'discountPrice': '2.88', 'priceEncoded': False, 'vitalItem': False, 'benefitPointData': [], 'vagueSold365': '54'}\n",
      "素材已经存在\n",
      "{'image': 'https://gw.alicdn.com/imgextra/O1CN01r3Dv9d1Qu4ydWqvEF_!!2212790142035.jpg', 'itemId': 827357197904, 'title': '薇拉白色婚纱照情侣高清JPG罗马柱羽毛场景背景后期写照拍照素材', 'itemUrl': 'https://item.taobao.com/item.htm?id=827357197904', 'discountPrice': '2.79', 'priceEncoded': False, 'vitalItem': False, 'benefitPointData': [], 'vagueSold365': '48'}\n",
      "素材已经存在\n",
      "{'image': 'https://gw.alicdn.com/imgextra/O1CN01BJ3yBc1Qu4ybAEm0x_!!2212790142035.jpg', 'itemId': 827135598364, 'title': '糖果色多巴胺小苹果涂鸦风儿童宝宝相册写真照psd设计素材模板', 'itemUrl': 'https://item.taobao.com/item.htm?id=827135598364', 'discountPrice': '2.89', 'priceEncoded': False, 'vitalItem': False, 'benefitPointData': [], 'vagueSold365': '64'}\n",
      "素材已经存在\n",
      "{'image': 'https://gw.alicdn.com/imgextra/O1CN01td3i7r1Qu4ybvKeJE_!!2212790142035.jpg', 'itemId': 827355897650, 'title': '中秋节银色月亮桂花倒影水波光儿童宝宝相册写真psd设计素材模板', 'itemUrl': 'https://item.taobao.com/item.htm?id=827355897650', 'discountPrice': '2.99', 'priceEncoded': False, 'vitalItem': False, 'benefitPointData': [], 'vagueSold365': '37'}\n",
      "素材已经存在\n",
      "{'image': 'https://gw.alicdn.com/imgextra/O1CN01IGURwV1Qu4ygPscWj_!!2212790142035.jpg', 'itemId': 826687507958, 'title': '汉服中秋节桂花屋顶月亮玉兔儿童宝宝写真照片PSD设计素材模板', 'itemUrl': 'https://item.taobao.com/item.htm?id=826687507958', 'discountPrice': '2.99', 'priceEncoded': False, 'vitalItem': False, 'benefitPointData': [], 'vagueSold365': '300+'}\n",
      "素材已经存在\n",
      "{'image': 'https://gw.alicdn.com/imgextra/O1CN01pkShpo1Qu4ycWGsqM_!!2212790142035.jpg', 'itemId': 827219432038, 'title': '生日聚会party涂鸦风主题照儿童宝宝摄影写真相册照片PSD素材模板', 'itemUrl': 'https://item.taobao.com/item.htm?id=827219432038', 'discountPrice': '2.79', 'priceEncoded': False, 'vitalItem': False, 'benefitPointData': [], 'vagueSold365': '20'}\n",
      "素材已经存在\n",
      "{'image': 'https://gw.alicdn.com/imgextra/O1CN01PJrJjc1Qu4ydA4x9g_!!2212790142035.jpg', 'itemId': 827077189844, 'title': '悟空战神大圣儿童宝宝相册战场火光山河写真照Psd设计素材模板', 'itemUrl': 'https://item.taobao.com/item.htm?id=827077189844', 'discountPrice': '2.79', 'priceEncoded': False, 'vitalItem': False, 'benefitPointData': [], 'vagueSold365': '200+'}\n",
      "素材已经存在\n",
      "{'image': 'https://gw.alicdn.com/imgextra/O1CN01TU8BlO1Qu4yeYYOsO_!!2212790142035.jpg', 'itemId': 826524586977, 'title': '红色爱心蝴蝶结手绘涂鸦风儿童宝宝相册写真照psd设计素材模板', 'itemUrl': 'https://item.taobao.com/item.htm?id=826524586977', 'discountPrice': '2.89', 'priceEncoded': False, 'vitalItem': False, 'benefitPointData': [], 'vagueSold365': '89'}\n",
      "素材已经存在\n",
      "{'image': 'https://gw.alicdn.com/imgextra/O1CN01PkTeBq1Qu4yZVeT2Y_!!2212790142035.jpg', 'itemId': 826879824559, 'title': '卡通可爱迪士尼米老鼠涂鸦主题单片摄影写真相册照片PS模板素材', 'itemUrl': 'https://item.taobao.com/item.htm?id=826879824559', 'discountPrice': '2.89', 'priceEncoded': False, 'vitalItem': False, 'benefitPointData': [], 'vagueSold365': '45'}\n",
      "素材已经存在\n",
      "{'image': 'https://gw.alicdn.com/imgextra/O1CN01yCZOnS1Qu4ydzicTi_!!2212790142035.jpg', 'itemId': 826740285203, 'title': '国潮中秋节月亮桂花嫦娥玉兔儿童宝宝写真照片PSD设计素材模板', 'itemUrl': 'https://item.taobao.com/item.htm?id=826740285203', 'discountPrice': '2.89', 'priceEncoded': False, 'vitalItem': False, 'benefitPointData': [], 'vagueSold365': '62'}\n",
      "素材已经存在\n",
      "{'image': 'https://gw.alicdn.com/imgextra/O1CN01D2IYYq1Qu4yaxhn1y_!!2212790142035.jpg', 'itemId': 826307062035, 'title': '可爱毛绒泰迪玩偶玩具小熊涂鸦儿童宝宝写真照PSD设计素材模板', 'itemUrl': 'https://item.taobao.com/item.htm?id=826307062035', 'discountPrice': '2.79', 'priceEncoded': False, 'vitalItem': False, 'benefitPointData': [], 'vagueSold365': '200+'}\n",
      "素材已经存在\n",
      "{'image': 'https://gw.alicdn.com/imgextra/O1CN01k0CJEB1Qu4yanGrWk_!!2212790142035.jpg', 'itemId': 826135319609, 'title': '全家福创意文字写真照全家福亲子宝宝照相册排版psd设计素材模板', 'itemUrl': 'https://item.taobao.com/item.htm?id=826135319609', 'discountPrice': '2.88', 'priceEncoded': False, 'vitalItem': False, 'benefitPointData': [], 'vagueSold365': '22'}\n",
      "素材已经存在\n",
      "{'image': 'https://gw.alicdn.com/imgextra/O1CN01gujwEN1Qu4ybhKlao_!!2212790142035.jpg', 'itemId': 826135015171, 'title': '新中式创意园林情侣婚纱相册照儿童宝宝写真照PSD设计素材模板', 'itemUrl': 'https://item.taobao.com/item.htm?id=826135015171', 'discountPrice': '2.99', 'priceEncoded': False, 'vitalItem': False, 'benefitPointData': [], 'vagueSold365': '60'}\n",
      "素材已经存在\n",
      "{'image': 'https://gw.alicdn.com/imgextra/O1CN01qJDMV31Qu4yTP0JAk_!!2212790142035.jpg', 'itemId': 826520845683, 'title': '中国古风国潮工笔画中秋节儿童宝宝相册写真照psd设计素材模板', 'itemUrl': 'https://item.taobao.com/item.htm?id=826520845683', 'discountPrice': '2.89', 'priceEncoded': False, 'vitalItem': False, 'benefitPointData': [], 'vagueSold365': '25'}\n",
      "素材已经存在\n",
      "{'image': 'https://gw.alicdn.com/imgextra/O1CN01yKd8nm1Qu4yaVz5G9_!!2212790142035.jpg', 'itemId': 825818055252, 'title': '韩系女团小卡写真公式照证件照儿童相册写真照psd设计素材模板', 'itemUrl': 'https://item.taobao.com/item.htm?id=825818055252', 'discountPrice': '2.99', 'priceEncoded': False, 'vitalItem': False, 'benefitPointData': [], 'vagueSold365': '200+'}\n",
      "素材已经存在\n",
      "{'image': 'https://gw.alicdn.com/imgextra/O1CN01xCt7fs1Qu4yaxDGRV_!!2212790142035.jpg', 'itemId': 825932353407, 'title': '毛绒玩具玩偶复古黄油小熊涂鸦儿童宝宝写真照PSD设计素材模板', 'itemUrl': 'https://item.taobao.com/item.htm?id=825932353407', 'discountPrice': '2.59', 'priceEncoded': False, 'vitalItem': False, 'benefitPointData': [], 'vagueSold365': '31'}\n",
      "素材已经存在\n",
      "{'image': 'https://gw.alicdn.com/imgextra/O1CN01o8gGTu1Qu4yWswKf3_!!2212790142035.jpg', 'itemId': 825232015775, 'title': '古风泉州蟳埔女簪花百天宝宝儿童写真照横版相册psd设计素材模板', 'itemUrl': 'https://item.taobao.com/item.htm?id=825232015775', 'discountPrice': '2.99', 'priceEncoded': False, 'vitalItem': False, 'benefitPointData': [], 'vagueSold365': '17'}\n",
      "素材已经存在\n",
      "{'image': 'https://gw.alicdn.com/imgextra/O1CN01OmiRaL1Qu4yYiMPX2_!!2212790142035.jpg', 'itemId': 825608701092, 'title': '夏日快乐清新绿色气球花儿童宝宝相册写真照片模板psd设计素材', 'itemUrl': 'https://item.taobao.com/item.htm?id=825608701092', 'discountPrice': '2.88', 'priceEncoded': False, 'vitalItem': False, 'benefitPointData': [], 'vagueSold365': '11'}\n",
      "素材已经存在\n",
      "{'image': 'https://gw.alicdn.com/imgextra/O1CN01zeJuKo1Qu4yZh0LYN_!!2212790142035.jpg', 'itemId': 825399458254, 'title': '粉黑色周岁气球生日照涂鸦儿童宝宝相册写真照psd设计素材模板', 'itemUrl': 'https://item.taobao.com/item.htm?id=825399458254', 'discountPrice': '2.89', 'priceEncoded': False, 'vitalItem': False, 'benefitPointData': [], 'vagueSold365': '36'}\n",
      "素材已经存在\n",
      "{'image': 'https://gw.alicdn.com/imgextra/O1CN01TFhPMV1Qu4yOFGjiu_!!2212790142035.jpg', 'itemId': 825224529897, 'title': '清汉刘洋女中式国风室内场景儿童宝宝相册写真照psd设计素材模板', 'itemUrl': 'https://item.taobao.com/item.htm?id=825224529897', 'discountPrice': '2.88', 'priceEncoded': False, 'vitalItem': False, 'benefitPointData': [], 'vagueSold365': '43'}\n",
      "素材已经存在\n",
      "{'image': 'https://gw.alicdn.com/imgextra/O1CN01aTZkvc1Qu4yVrdWyn_!!2212790142035.jpg', 'itemId': 825361052852, 'title': '薇拉光影彩色梦幻蝴蝶情侣婚纱相册写真照高清psd设计素材模板', 'itemUrl': 'https://item.taobao.com/item.htm?id=825361052852', 'discountPrice': '2.99', 'priceEncoded': False, 'vitalItem': False, 'benefitPointData': [], 'vagueSold365': '45'}\n",
      "素材已经存在\n",
      "{'image': 'https://gw.alicdn.com/imgextra/O1CN01e2h8Dv1Qu4yOEIaIC_!!2212790142035.jpg', 'itemId': 825221673501, 'title': '梦幻光影丝带儿童宝包后期相册写真高清JPG背景图设计素材模板', 'itemUrl': 'https://item.taobao.com/item.htm?id=825221673501', 'discountPrice': '1.99', 'priceEncoded': False, 'vitalItem': False, 'benefitPointData': [], 'vagueSold365': '50'}\n",
      "素材已经存在\n",
      "{'image': 'https://gw.alicdn.com/imgextra/O1CN01a81n2L1Qu4yWmFCjd_!!2212790142035.jpg', 'itemId': 824557747286, 'title': '薇拉摄影棚高端时尚情侣人物婚纱相册写真照高清psd设计素材模板', 'itemUrl': 'https://item.taobao.com/item.htm?id=824557747286', 'discountPrice': '2.89', 'priceEncoded': False, 'vitalItem': False, 'benefitPointData': [], 'vagueSold365': '17'}\n",
      "素材已经存在\n",
      "{'image': 'https://gw.alicdn.com/imgextra/O1CN019n137k1Qu4yVGubiv_!!2212790142035.jpg', 'itemId': 824543731290, 'title': '薇拉光影水晶梦幻蝴蝶情侣婚纱相册写真照高清psd设计素材模板', 'itemUrl': 'https://item.taobao.com/item.htm?id=824543731290', 'discountPrice': '2.99', 'priceEncoded': False, 'vitalItem': False, 'benefitPointData': [], 'vagueSold365': '73'}\n",
      "素材已经存在\n"
     ]
    }
   ],
   "source": [
    "objs = data_json.get(\"data\").get(\"data\")\n",
    "\n",
    "for obj in objs:\n",
    "    print(obj)\n",
    "    mod = MaterialModel(url=obj.get(\"itemUrl\"), img=obj.get(\"image\"), state=False)\n",
    "    fun_插入素材(shop_name=\"泡泡素材\", material_site=\"加油鸭素材铺\", material_model=mod)\n"
   ]
  }
 ],
 "metadata": {
  "kernelspec": {
   "display_name": "base",
   "language": "python",
   "name": "python3"
  },
  "language_info": {
   "codemirror_mode": {
    "name": "ipython",
    "version": 3
   },
   "file_extension": ".py",
   "mimetype": "text/x-python",
   "name": "python",
   "nbconvert_exporter": "python",
   "pygments_lexer": "ipython3",
   "version": "3.12.2"
  }
 },
 "nbformat": 4,
 "nbformat_minor": 2
}
