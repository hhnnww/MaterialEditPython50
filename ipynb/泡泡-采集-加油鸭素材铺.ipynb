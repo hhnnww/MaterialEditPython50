{
 "cells": [
  {
   "cell_type": "code",
   "execution_count": 47,
   "metadata": {},
   "outputs": [],
   "source": [
    "import json\n",
    "\n",
    "import pyperclip\n",
    "\n",
    "from MaterialEdit.fun_素材下载.fun_插入素材 import fun_插入素材\n",
    "from MaterialEdit.fun_素材下载.model_素材格式 import MaterialModel\n",
    "\n",
    "data_text = pyperclip.paste()\n",
    "\n",
    "data_json = json.loads(data_text)\n"
   ]
  },
  {
   "cell_type": "code",
   "execution_count": 48,
   "metadata": {},
   "outputs": [
    {
     "name": "stdout",
     "output_type": "stream",
     "text": [
      "{'image': 'https://gw.alicdn.com/imgextra/O1CN01w3KmxQ1Qu4ig77gO9_!!2212790142035.jpg', 'itemId': 663123279995, 'title': '可爱卡通宝宝百天满岁手绘涂鸦万圣节摄影写真背景PSD模板素材', 'itemUrl': 'https://item.taobao.com/item.htm?id=663123279995', 'discountPrice': '2.89', 'priceEncoded': False, 'vitalItem': False, 'benefitPointData': [], 'vagueSold365': '16'}\n",
      "插入到数据库：6712563f39ec73de3cc9f7e4\n",
      "{'image': 'https://gw.alicdn.com/imgextra/O1CN01idBbEh1Qu4qr2LTWz_!!2212790142035.jpg', 'itemId': 727907817770, 'title': '夏日彩虹七色活力多巴胺儿童宝宝相册照片写真psd设计素材模板', 'itemUrl': 'https://item.taobao.com/item.htm?id=727907817770', 'discountPrice': '1.98', 'priceEncoded': False, 'vitalItem': False, 'benefitPointData': [], 'vagueSold365': '100+'}\n",
      "插入到数据库：6712563f39ec73de3cc9f7e5\n",
      "{'image': 'https://gw.alicdn.com/imgextra/O1CN011xJcS01Qu4o8jXfDo_!!2212790142035.jpg', 'itemId': 703051857776, 'title': '春季花漾鲜花雏菊绿叶郁金香儿童宝宝相册写真照PSD设计素材模板', 'itemUrl': 'https://item.taobao.com/item.htm?id=703051857776', 'discountPrice': '3', 'priceEncoded': False, 'vitalItem': False, 'benefitPointData': [], 'vagueSold365': '100+'}\n",
      "插入到数据库：6712563f39ec73de3cc9f7e6\n",
      "{'image': 'https://gw.alicdn.com/imgextra/O1CN01zIL7fV1Qu4vsePEth_!!2212790142035.jpg', 'itemId': 776022241285, 'title': '海底世界水泡水母小龙女水花儿童宝宝相册写真照psd设计素材模板', 'itemUrl': 'https://item.taobao.com/item.htm?id=776022241285', 'discountPrice': '2.99', 'priceEncoded': False, 'vitalItem': False, 'benefitPointData': [], 'vagueSold365': '200+'}\n",
      "插入到数据库：6712563f39ec73de3cc9f7e7\n",
      "{'image': 'https://gw.alicdn.com/imgextra/O1CN01RcgcvH1Qu4mool5Fw_!!2212790142035.jpg', 'itemId': 691859252153, 'title': '圣诞节卡通手绘涂鸦风儿童宝宝情侣写真psd相册照片模板PSD素材', 'itemUrl': 'https://item.taobao.com/item.htm?id=691859252153', 'discountPrice': '3.65', 'priceEncoded': False, 'vitalItem': False, 'benefitPointData': [], 'vagueSold365': '100+'}\n",
      "插入到数据库：6712563f39ec73de3cc9f7e8\n",
      "{'image': 'https://gw.alicdn.com/imgextra/O1CN01aGCKSq1Qu4ljXpjWz_!!2212790142035.jpg', 'itemId': 681882611930, 'title': '抱抱熊猫手绘卡通主题照儿童宝宝摄影写真相册照片PSD素材模板', 'itemUrl': 'https://item.taobao.com/item.htm?id=681882611930', 'discountPrice': '3.65', 'priceEncoded': False, 'vitalItem': False, 'benefitPointData': [], 'vagueSold365': '100+'}\n",
      "插入到数据库：6712563f39ec73de3cc9f7e9\n",
      "{'image': 'https://gw.alicdn.com/imgextra/O1CN01eEy8zU1Qu4kpcb01b_!!2212790142035.jpg', 'itemId': 675373136886, 'title': '柿子主题谐音成语工笔画儿童宝宝水果摄影写真相册排版PSD素材', 'itemUrl': 'https://item.taobao.com/item.htm?id=675373136886', 'discountPrice': '3.66', 'priceEncoded': False, 'vitalItem': False, 'benefitPointData': [], 'vagueSold365': '45'}\n",
      "插入到数据库：6712563f39ec73de3cc9f7ea\n",
      "{'image': 'https://gw.alicdn.com/imgextra/O1CN015Wj8UF1Qu4kx8lBkL_!!2212790142035.jpg', 'itemId': 676665824721, 'title': '原创哆啦A梦小叮当卡通儿童宝宝相册主题照片个人写真PSD素材模板', 'itemUrl': 'https://item.taobao.com/item.htm?id=676665824721', 'discountPrice': '3.65', 'priceEncoded': False, 'vitalItem': False, 'benefitPointData': [], 'vagueSold365': '57'}\n",
      "插入到数据库：6712563f39ec73de3cc9f7eb\n",
      "{'image': 'https://gw.alicdn.com/imgextra/O1CN01LMQSpO1Qu4iaJR55n_!!2212790142035.jpg', 'itemId': 662459157604, 'title': '潮流杂志风旅拍卡通可爱儿童亲子摄影写真字体排版PSD相册模板', 'itemUrl': 'https://item.taobao.com/item.htm?id=662459157604', 'discountPrice': '3.69', 'priceEncoded': False, 'vitalItem': False, 'benefitPointData': [], 'vagueSold365': '53'}\n",
      "插入到数据库：6712564039ec73de3cc9f7ec\n",
      "{'image': 'https://gw.alicdn.com/imgextra/O1CN01jayKb21Qu4ktR2yE1_!!2212790142035.jpg', 'itemId': 676272764116, 'title': '情侣婚纱浪漫旅拍手写文艺艺术字体摄影写真相册照片PSD素材模板', 'itemUrl': 'https://item.taobao.com/item.htm?id=676272764116', 'discountPrice': '6.99', 'priceEncoded': False, 'vitalItem': False, 'benefitPointData': [], 'vagueSold365': '100+'}\n",
      "插入到数据库：6712564039ec73de3cc9f7ed\n",
      "{'image': 'https://gw.alicdn.com/imgextra/O1CN01wzRyuZ1Qu4rP9TyUl_!!2212790142035.jpg', 'itemId': 733139901199, 'title': '赛车小汽车世界主题照儿童宝宝相册写真照片PSD影楼设计素材模板', 'itemUrl': 'https://item.taobao.com/item.htm?id=733139901199', 'discountPrice': '2.49', 'priceEncoded': False, 'vitalItem': False, 'benefitPointData': [], 'vagueSold365': '100+'}\n",
      "插入到数据库：6712564039ec73de3cc9f7ee\n",
      "{'image': 'https://gw.alicdn.com/imgextra/O1CN01tc0Wow1Qu4ltvDoY5_!!2212790142035.jpg', 'itemId': 683336909466, 'title': '古典复古油画风向日葵植物欧式边框儿童宝宝相册照片PSD素材模板', 'itemUrl': 'https://item.taobao.com/item.htm?id=683336909466', 'discountPrice': '3.65', 'priceEncoded': False, 'vitalItem': False, 'benefitPointData': [], 'vagueSold365': '100+'}\n",
      "插入到数据库：6712564039ec73de3cc9f7ef\n",
      "{'image': 'https://gw.alicdn.com/imgextra/O1CN01HIyZkU1Qu4jKA2KP6_!!2212790142035.jpg', 'itemId': 666609608766, 'title': '原创春季儿童宝宝写真茁壮成长手绘涂鸦花朵照片排版模板PS素材', 'itemUrl': 'https://item.taobao.com/item.htm?id=666609608766', 'discountPrice': '5.99', 'priceEncoded': False, 'vitalItem': False, 'benefitPointData': [], 'vagueSold365': '24'}\n",
      "插入到数据库：6712564039ec73de3cc9f7f0\n",
      "{'image': 'https://gw.alicdn.com/imgextra/O1CN01BfUw7a1Qu4mPpS3Ey_!!2212790142035.jpg', 'itemId': 686737663137, 'title': '万圣节哈利波特蝙蝠蜘蛛南瓜捣蛋鬼儿童宝宝相册照片模板PSD水彩', 'itemUrl': 'https://item.taobao.com/item.htm?id=686737663137', 'discountPrice': '3.65', 'priceEncoded': False, 'vitalItem': False, 'benefitPointData': [], 'vagueSold365': '77'}\n",
      "插入到数据库：6712564039ec73de3cc9f7f1\n",
      "{'image': 'https://gw.alicdn.com/imgextra/O1CN01taE6t41Qu4un82inY_!!2212790142035.jpg', 'itemId': 765114170436, 'title': '爱丽丝小茶壶女孩手绘涂鸦儿童宝宝玩偶拍照写真psd设计素材模板', 'itemUrl': 'https://item.taobao.com/item.htm?id=765114170436', 'discountPrice': '2.89', 'priceEncoded': False, 'vitalItem': False, 'benefitPointData': [], 'vagueSold365': '200+'}\n",
      "插入到数据库：6712564039ec73de3cc9f7f2\n",
      "{'image': 'https://gw.alicdn.com/imgextra/O1CN01GOnv4g1Qu4mIzYSPF_!!2212790142035.jpg', 'itemId': 686617338951, 'title': '古风汉服中国风潮禅意竹影书法儿童宝宝相册写真照片模板PSD素材', 'itemUrl': 'https://item.taobao.com/item.htm?id=686617338951', 'discountPrice': '3.65', 'priceEncoded': False, 'vitalItem': False, 'benefitPointData': [], 'vagueSold365': '77'}\n",
      "插入到数据库：6712564039ec73de3cc9f7f3\n",
      "{'image': 'https://gw.alicdn.com/imgextra/O1CN01hogcER1Qu4xiVQUqx_!!2212790142035.jpg', 'itemId': 811664241981, 'title': '卡通可爱毛绒玩偶涂鸦草莓熊儿童宝宝相册写真照psd设计素材模板', 'itemUrl': 'https://item.taobao.com/item.htm?id=811664241981', 'discountPrice': '2.99', 'priceEncoded': False, 'vitalItem': False, 'benefitPointData': [], 'vagueSold365': '88'}\n",
      "插入到数据库：6712564039ec73de3cc9f7f4\n",
      "{'image': 'https://gw.alicdn.com/imgextra/O1CN01ZEHYpa1Qu4kQrCRjQ_!!2212790142035.jpg', 'itemId': 674123513279, 'title': '卡通手绘涂鸦儿童宝宝摄影写真照片中英文字体排版模板PSD素材', 'itemUrl': 'https://item.taobao.com/item.htm?id=674123513279', 'discountPrice': '3.78', 'priceEncoded': False, 'vitalItem': False, 'benefitPointData': [], 'vagueSold365': '87'}\n",
      "插入到数据库：6712564039ec73de3cc9f7f5\n",
      "{'image': 'https://gw.alicdn.com/imgextra/O1CN01QRTSqP1Qu4iIywJCG_!!2212790142035.jpg', 'itemId': 661090694821, 'title': '2022新儿童溶图相册模版psd方版影楼排版潮童版面设计素材', 'itemUrl': 'https://item.taobao.com/item.htm?id=661090694821', 'discountPrice': '2.69', 'priceEncoded': False, 'vitalItem': False, 'benefitPointData': [], 'vagueSold365': '42'}\n",
      "插入到数据库：6712564039ec73de3cc9f7f6\n",
      "{'image': 'https://gw.alicdn.com/imgextra/O1CN010yKnzn1Qu4iqbJ3HT_!!2212790142035.jpg', 'itemId': 663884769889, 'title': '韩式日系情侣旅拍婚礼婚纱相册摄影照片英文字体排版PSD模板素材', 'itemUrl': 'https://item.taobao.com/item.htm?id=663884769889', 'discountPrice': '2.69', 'priceEncoded': False, 'vitalItem': False, 'benefitPointData': [], 'vagueSold365': '18'}\n",
      "插入到数据库：6712564039ec73de3cc9f7f7\n",
      "{'image': 'https://gw.alicdn.com/imgextra/O1CN017fPP6o1Qu4xFPyp9Z_!!2212790142035.jpg', 'itemId': 801212605727, 'title': '卡通手绘零食冰糕饮品涂鸦风儿童宝宝相册写真照psd设计素材模板', 'itemUrl': 'https://item.taobao.com/item.htm?id=801212605727', 'discountPrice': '2.89', 'priceEncoded': False, 'vitalItem': False, 'benefitPointData': [], 'vagueSold365': '45'}\n",
      "插入到数据库：6712564039ec73de3cc9f7f8\n",
      "{'image': 'https://gw.alicdn.com/imgextra/O1CN01XZv14g1Qu4zdWkRrx_!!2212790142035.jpg', 'itemId': 843593389387, 'title': '生日主题卡通手绘涂鸦风手写字儿童宝宝写真照psd设计素材模板', 'itemUrl': 'https://item.taobao.com/item.htm?id=843593389387', 'discountPrice': '2.99', 'priceEncoded': False, 'vitalItem': False, 'benefitPointData': [], 'vagueSold365': '11'}\n",
      "插入到数据库：6712564039ec73de3cc9f7f9\n",
      "{'image': 'https://gw.alicdn.com/imgextra/O1CN01oJhATa1Qu4yI68KNU_!!2212790142035.jpg', 'itemId': 821904861147, 'title': '儿童宝宝父母全家福亲子照手绘涂鸦风排版写真psd设计素材模板', 'itemUrl': 'https://item.taobao.com/item.htm?id=821904861147', 'discountPrice': '2.89', 'priceEncoded': False, 'vitalItem': False, 'benefitPointData': [], 'vagueSold365': '38'}\n",
      "插入到数据库：6712564039ec73de3cc9f7fa\n",
      "{'image': 'https://gw.alicdn.com/imgextra/O1CN01IoRrrn1Qu4o1N8wUP_!!2212790142035.jpg', 'itemId': 701324082849, 'title': '春日花朵小清新雏菊植物花卉涂鸦儿童宝宝相册照PSD设计素材模板', 'itemUrl': 'https://item.taobao.com/item.htm?id=701324082849', 'discountPrice': '3.65', 'priceEncoded': False, 'vitalItem': False, 'benefitPointData': [], 'vagueSold365': '100+'}\n",
      "插入到数据库：6712564039ec73de3cc9f7fb\n",
      "{'image': 'https://gw.alicdn.com/imgextra/O1CN01kGRdRh1Qu4rwbEDeA_!!2212790142035.jpg', 'itemId': 738335146637, 'title': '美式复古学院风焦糖色橄榄球儿童宝宝相册写真照psd设计素材模板', 'itemUrl': 'https://item.taobao.com/item.htm?id=738335146637', 'discountPrice': '3.42', 'priceEncoded': False, 'vitalItem': False, 'benefitPointData': [], 'vagueSold365': '100+'}\n",
      "插入到数据库：6712564039ec73de3cc9f7fc\n",
      "{'image': 'https://gw.alicdn.com/imgextra/O1CN01kMMEht1Qu4n0ybw5B_!!2212790142035.jpg', 'itemId': 693717628716, 'title': '2024龙年新年抓周满月礼儿童宝宝相册照片影楼后期模板PSD上传', 'itemUrl': 'https://item.taobao.com/item.htm?id=693717628716', 'discountPrice': '3.65', 'priceEncoded': False, 'vitalItem': False, 'benefitPointData': [], 'vagueSold365': '88'}\n",
      "插入到数据库：6712564039ec73de3cc9f7fd\n",
      "{'image': 'https://gw.alicdn.com/imgextra/O1CN01U3QaaZ1Qu4oAxnGAr_!!2212790142035.jpg', 'itemId': 703285903597, 'title': '篮球运动比赛手绘涂鸦百天照儿童宝宝相册写真PSD设计素材模板', 'itemUrl': 'https://item.taobao.com/item.htm?id=703285903597', 'discountPrice': '3', 'priceEncoded': False, 'vitalItem': False, 'benefitPointData': [], 'vagueSold365': '100+'}\n",
      "插入到数据库：6712564039ec73de3cc9f7fe\n",
      "{'image': 'https://gw.alicdn.com/imgextra/O1CN01Y7GUVE1Qu4tVRinXX_!!2212790142035.jpg', 'itemId': 750006760034, 'title': '2024新年春节龙年涂鸦风儿童宝宝手绘相册写真照psd设计素材模板', 'itemUrl': 'https://item.taobao.com/item.htm?id=750006760034', 'discountPrice': '2.59', 'priceEncoded': False, 'vitalItem': False, 'benefitPointData': [], 'vagueSold365': '200+'}\n",
      "插入到数据库：6712564039ec73de3cc9f7ff\n",
      "{'image': 'https://gw.alicdn.com/imgextra/O1CN011v4Em61Qu4oQdkViQ_!!2212790142035.jpg', 'itemId': 706494701833, 'title': '小小画家艺术家色盘调色涂鸦儿童宝宝相册写真照片PSD素材模板', 'itemUrl': 'https://item.taobao.com/item.htm?id=706494701833', 'discountPrice': '3', 'priceEncoded': False, 'vitalItem': False, 'benefitPointData': [], 'vagueSold365': '74'}\n",
      "插入到数据库：6712564039ec73de3cc9f800\n",
      "{'image': 'https://gw.alicdn.com/imgextra/O1CN01gbZQHu1Qu4sG1ta0Y_!!2212790142035.jpg', 'itemId': 740362355070, 'title': '复古国潮工笔画风景湖边小船水流情侣婚纱写真照PSD设计素材模板', 'itemUrl': 'https://item.taobao.com/item.htm?id=740362355070', 'discountPrice': '2.59', 'priceEncoded': False, 'vitalItem': False, 'benefitPointData': [], 'vagueSold365': '80'}\n",
      "插入到数据库：6712564039ec73de3cc9f801\n"
     ]
    }
   ],
   "source": [
    "objs = data_json.get(\"data\").get(\"data\")\n",
    "\n",
    "for obj in objs:\n",
    "    print(obj)\n",
    "    mod = MaterialModel(url=obj.get(\"itemUrl\"), img=obj.get(\"image\"), state=False)\n",
    "    fun_插入素材(shop_name=\"泡泡素材\", material_site=\"加油鸭素材铺\", material_model=mod)\n"
   ]
  }
 ],
 "metadata": {
  "kernelspec": {
   "display_name": "base",
   "language": "python",
   "name": "python3"
  },
  "language_info": {
   "codemirror_mode": {
    "name": "ipython",
    "version": 3
   },
   "file_extension": ".py",
   "mimetype": "text/x-python",
   "name": "python",
   "nbconvert_exporter": "python",
   "pygments_lexer": "ipython3",
   "version": "3.12.2"
  }
 },
 "nbformat": 4,
 "nbformat_minor": 2
}
