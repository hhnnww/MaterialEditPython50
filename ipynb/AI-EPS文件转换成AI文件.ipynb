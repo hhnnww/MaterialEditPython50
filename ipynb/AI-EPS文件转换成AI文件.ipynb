{
 "cells": [
  {
   "cell_type": "code",
   "execution_count": 1,
   "metadata": {},
   "outputs": [],
   "source": [
    "from pathlib import Path\n",
    "\n",
    "from win32com.client import Dispatch\n",
    "\n",
    "app = Dispatch(\"Illustrator.Application\")\n",
    "\n",
    "for in_file in Path(r\"F:\\小夕素材\\5000-5999\\5279\\5279\").iterdir():\n",
    "    if in_file.suffix.lower() == \".eps\":\n",
    "        ai_path = in_file.with_suffix(\".ai\")\n",
    "\n",
    "        doc = app.Open(in_file.as_posix())\n",
    "        doc.SaveAs(ai_path)\n",
    "\n",
    "        in_file.unlink()\n"
   ]
  }
 ],
 "metadata": {
  "kernelspec": {
   "display_name": "base",
   "language": "python",
   "name": "python3"
  },
  "language_info": {
   "codemirror_mode": {
    "name": "ipython",
    "version": 3
   },
   "file_extension": ".py",
   "mimetype": "text/x-python",
   "name": "python",
   "nbconvert_exporter": "python",
   "pygments_lexer": "ipython3",
   "version": "3.12.2"
  }
 },
 "nbformat": 4,
 "nbformat_minor": 2
}
