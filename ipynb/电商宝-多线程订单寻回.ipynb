{
 "cells": [
  {
   "cell_type": "code",
   "execution_count": 1,
   "metadata": {},
   "outputs": [
    {
     "name": "stdout",
     "output_type": "stream",
     "text": [
      "开始采集第1页\n",
      "插入数据：671364949dbc769e608ea268\n",
      "wechat:°\n",
      "插入数据：671364949dbc769e608ea269\n",
      "wechat:微信用户\n",
      "插入数据：671364949dbc769e608ea26a\n",
      "wechat:我是小毛\n",
      "插入数据：671364949dbc769e608ea26b\n",
      "wechat:Judy\n",
      "插入数据：671364959dbc769e608ea26c\n",
      "wechat:。\n",
      "插入数据：671364959dbc769e608ea26d\n",
      "wechat:蕾 Flora\n",
      "插入数据：671364959dbc769e608ea26e\n",
      "wechat:琦美君\n",
      "数据存在\n"
     ]
    }
   ],
   "source": [
    "\"\"\"\n",
    "直接去电商宝复制请求标头\n",
    "然后开始自动采集订单\n",
    "\"\"\"\n",
    "\n",
    "import re\n",
    "\n",
    "import pyperclip\n",
    "from pymongo.mongo_client import MongoClient\n",
    "from pymongo.server_api import ServerApi\n",
    "from requests_html import HTMLSession\n",
    "\n",
    "session = HTMLSession()\n",
    "\n",
    "# 构建数据库\n",
    "uri = \"mongodb://192.168.0.110:27017/\"\n",
    "client = MongoClient(uri, server_api=ServerApi(\"1\"))\n",
    "database = client[\"电商宝返款订单\"]\n",
    "collect = database[\"订单列表\"]\n",
    "\n",
    "# 获取请求标头\n",
    "req_header = pyperclip.paste().strip()\n",
    "\n",
    "# 构建所有url列表\n",
    "req_split = req_header.split(\"\\n\")\n",
    "url: str = \"https://appscrm.ecbao.cn\" + re.findall(r\"\\s(.*?)\\s\", req_split[0])[0]\n",
    "all_url = []\n",
    "for x in range(1, 10000):\n",
    "    all_url.append(url.replace(\"page=1\", f\"page={x}\"))\n",
    "\n",
    "# 构建请求标头\n",
    "header_dict = {}\n",
    "for req_line in req_split[1:]:\n",
    "    req_line = req_line.strip()\n",
    "    line_split = req_line.split(\": \")\n",
    "    header_dict.update({line_split[0]: line_split[1]})\n",
    "\n",
    "for num, url in enumerate(all_url):\n",
    "    print(f\"开始采集第{num+1}页\")\n",
    "\n",
    "    with session.post(url, headers=header_dict) as res:\n",
    "        objs = res.json().get(\"data\").get(\"data\")\n",
    "\n",
    "        for obj in objs:\n",
    "            order_sn = obj.get(\"order_sn\")\n",
    "            count = collect.count_documents(filter={\"order_sn\": obj.get(\"order_sn\")})\n",
    "            if count == 0:\n",
    "                insert_res = collect.insert_one(obj)\n",
    "                print(\n",
    "                    f'插入数据：{insert_res.inserted_id}\\nwechat:{obj.get(\"wechat_nick\")}'\n",
    "                )\n",
    "\n",
    "            else:\n",
    "                print(\"数据存在\")\n",
    "                break\n",
    "\n",
    "    break"
   ]
  }
 ],
 "metadata": {
  "kernelspec": {
   "display_name": "base",
   "language": "python",
   "name": "python3"
  },
  "language_info": {
   "codemirror_mode": {
    "name": "ipython",
    "version": 3
   },
   "file_extension": ".py",
   "mimetype": "text/x-python",
   "name": "python",
   "nbconvert_exporter": "python",
   "pygments_lexer": "ipython3",
   "version": "3.12.2"
  }
 },
 "nbformat": 4,
 "nbformat_minor": 2
}
