{
 "cells": [
  {
   "cell_type": "code",
   "execution_count": 1,
   "metadata": {},
   "outputs": [
    {
     "name": "stdout",
     "output_type": "stream",
     "text": [
      "F:\\小夕素材\\10000-20000\\10667\\10667\\猪大叔 (20)\\20 (1).psd\n",
      "F:\\小夕素材\\10000-20000\\10667\\10667\\猪大叔 (20)\\20 (2).psd\n",
      "F:\\小夕素材\\10000-20000\\10667\\10667\\猪大叔 (20)\\20 (3).psd\n",
      "F:\\小夕素材\\10000-20000\\10667\\10667\\猪大叔 (20)\\样机替换教程（请先看视频）.lnk\n"
     ]
    }
   ],
   "source": [
    "from pathlib import Path\n",
    "\n",
    "for in_file in Path(r\"F:\\小夕素材\\10000-20000\\10667\\10667\\猪大叔 (20)\").iterdir():\n",
    "    print(in_file)"
   ]
  }
 ],
 "metadata": {
  "kernelspec": {
   "display_name": "base",
   "language": "python",
   "name": "python3"
  },
  "language_info": {
   "codemirror_mode": {
    "name": "ipython",
    "version": 3
   },
   "file_extension": ".py",
   "mimetype": "text/x-python",
   "name": "python",
   "nbconvert_exporter": "python",
   "pygments_lexer": "ipython3",
   "version": "3.12.2"
  }
 },
 "nbformat": 4,
 "nbformat_minor": 2
}
