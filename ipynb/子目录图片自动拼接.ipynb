{
 "cells": [
  {
   "cell_type": "code",
   "execution_count": 10,
   "metadata": {},
   "outputs": [],
   "source": [
    "from pathlib import Path\n",
    "\n",
    "from PIL import Image\n",
    "\n",
    "from MaterialEdit.fun_图片编辑.fun_图片拼接.fun_图片竖向拼接 import fun_图片竖向拼接\n",
    "from MaterialEdit.fun_文件夹操作.fun_遍历指定文件 import fun_遍历指定文件\n",
    "\n",
    "ma_path = r\"F:\\小夕素材\\10000-20000\\10596\\10596\\1 (12)\"\n",
    "all_pic = fun_遍历指定文件(folder=ma_path, suffix=[\".png\"])\n",
    "\n",
    "all_pil = []\n",
    "for in_file in all_pic:\n",
    "    im = Image.open(in_file)\n",
    "    im = im.convert(\"RGBA\")\n",
    "    im.thumbnail((800, 99999))\n",
    "    all_pil.append(im)\n",
    "\n",
    "bg = fun_图片竖向拼接(\n",
    "    image_list=all_pil,\n",
    "    spacing=0,\n",
    "    align_item=\"center\",\n",
    "    background_color=(255, 255, 255, 255),\n",
    ")\n",
    "\n",
    "bg.save(f\"{Path(ma_path).parent}/{Path(ma_path).stem}.png\")"
   ]
  }
 ],
 "metadata": {
  "kernelspec": {
   "display_name": "base",
   "language": "python",
   "name": "python3"
  },
  "language_info": {
   "codemirror_mode": {
    "name": "ipython",
    "version": 3
   },
   "file_extension": ".py",
   "mimetype": "text/x-python",
   "name": "python",
   "nbconvert_exporter": "python",
   "pygments_lexer": "ipython3",
   "version": "3.12.2"
  }
 },
 "nbformat": 4,
 "nbformat_minor": 2
}
