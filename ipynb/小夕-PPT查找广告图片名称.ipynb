{
 "cells": [
  {
   "cell_type": "code",
   "execution_count": null,
   "metadata": {},
   "outputs": [],
   "source": [
    "from pptx import Presentation\n",
    "\n",
    "ad_pic_name_list = [f\"{y}-({x})\" for x in range(1, 9) for y in range(1, 9)]\n",
    "\n",
    "\n",
    "ppt_file = r\"F:\\小夕素材\\10000-20000\\10852\\10852\\小夕素材(9).pptx\"\n",
    "\n",
    "prs = Presentation(pptx=ppt_file)\n",
    "save_state = False\n",
    "for slide in prs.slides:\n",
    "    for shape in slide.shapes:\n",
    "        if shape.shape_type:\n",
    "            if shape.shape_type.name == \"PICTURE\":\n",
    "                if \"descr=\" in shape.element.xml:\n",
    "                    print(shape.element.xml)\n",
    "\n",
    "                # for ad_name in ad_pic_name_list:\n",
    "                #     if f'descr=\"{ad_name}\"' in shape.element.xml:\n",
    "                #         slide.shapes._spTree.remove(shape._element)\n",
    "                #         print(\"删除广告图片\")\n",
    "                #         save_state = True\n",
    "\n",
    "# if save_state is True:\n",
    "#     prs.save(ppt_file)\n"
   ]
  },
  {
   "cell_type": "code",
   "execution_count": 8,
   "metadata": {},
   "outputs": [],
   "source": [
    "slide_last = prs.slides[-1]\n",
    "for shape in slide_last.shapes:\n",
    "    shape_name = shape.shape_type.name\n",
    "    if shape_name == \"MEDIA\":\n",
    "        print(shape.name)\n",
    "\n",
    "        slide.shapes._spTree.remove(shape._element)\n",
    "\n",
    "prs.save(ppt_file)\n"
   ]
  }
 ],
 "metadata": {
  "kernelspec": {
   "display_name": "base",
   "language": "python",
   "name": "python3"
  },
  "language_info": {
   "codemirror_mode": {
    "name": "ipython",
    "version": 3
   },
   "file_extension": ".py",
   "mimetype": "text/x-python",
   "name": "python",
   "nbconvert_exporter": "python",
   "pygments_lexer": "ipython3",
   "version": "3.12.2"
  }
 },
 "nbformat": 4,
 "nbformat_minor": 2
}
