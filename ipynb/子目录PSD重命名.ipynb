{
 "cells": [
  {
   "cell_type": "code",
   "execution_count": 3,
   "metadata": {},
   "outputs": [
    {
     "name": "stdout",
     "output_type": "stream",
     "text": [
      "[WindowsPath('F:/小夕素材/10000-20000/10461/10461/小夕素材(03)/猪大叔 (13).psd')]\n",
      "F:\\小夕素材\\10000-20000\\10461\\10461\\小夕素材(03)\\小夕素材(03).psd\n",
      "[WindowsPath('F:/小夕素材/10000-20000/10461/10461/小夕素材(04)/猪大叔 (14).psd')]\n",
      "F:\\小夕素材\\10000-20000\\10461\\10461\\小夕素材(04)\\小夕素材(04).psd\n",
      "[WindowsPath('F:/小夕素材/10000-20000/10461/10461/小夕素材(05)/猪大叔 (15).psd')]\n",
      "F:\\小夕素材\\10000-20000\\10461\\10461\\小夕素材(05)\\小夕素材(05).psd\n",
      "[WindowsPath('F:/小夕素材/10000-20000/10461/10461/小夕素材(06)/猪大叔 (2).psd')]\n",
      "F:\\小夕素材\\10000-20000\\10461\\10461\\小夕素材(06)\\小夕素材(06).psd\n",
      "[WindowsPath('F:/小夕素材/10000-20000/10461/10461/小夕素材(10)/猪大叔 (6).psd')]\n",
      "F:\\小夕素材\\10000-20000\\10461\\10461\\小夕素材(10)\\小夕素材(10).psd\n",
      "[WindowsPath('F:/小夕素材/10000-20000/10461/10461/小夕素材(11)/猪大叔 (7).psd')]\n",
      "F:\\小夕素材\\10000-20000\\10461\\10461\\小夕素材(11)\\小夕素材(11).psd\n",
      "[WindowsPath('F:/小夕素材/10000-20000/10461/10461/小夕素材(12)/猪大叔 (8).psd')]\n",
      "F:\\小夕素材\\10000-20000\\10461\\10461\\小夕素材(12)\\小夕素材(12).psd\n",
      "[WindowsPath('F:/小夕素材/10000-20000/10461/10461/小夕素材(13)/猪大叔 (9).psd')]\n",
      "F:\\小夕素材\\10000-20000\\10461\\10461\\小夕素材(13)\\小夕素材(13).psd\n"
     ]
    }
   ],
   "source": [
    "from pathlib import Path\n",
    "\n",
    "ma_path = Path(r\"F:\\小夕素材\\10000-20000\\10461\\10461\")\n",
    "\n",
    "for in_path in ma_path.iterdir():\n",
    "    if in_path.is_dir():\n",
    "        all_file = [\n",
    "            in_file\n",
    "            for in_file in in_path.iterdir()\n",
    "            if in_file.is_file() and in_file.suffix.lower() in [\".psd\"]\n",
    "        ]\n",
    "\n",
    "        if len(all_file) == 1:\n",
    "            print(all_file)\n",
    "\n",
    "            ps_file = all_file[0]\n",
    "\n",
    "            new_path = ps_file.with_stem(in_path.stem)\n",
    "\n",
    "            print(new_path)\n",
    "\n",
    "            ps_file.rename(new_path)"
   ]
  }
 ],
 "metadata": {
  "kernelspec": {
   "display_name": "base",
   "language": "python",
   "name": "python3"
  },
  "language_info": {
   "codemirror_mode": {
    "name": "ipython",
    "version": 3
   },
   "file_extension": ".py",
   "mimetype": "text/x-python",
   "name": "python",
   "nbconvert_exporter": "python",
   "pygments_lexer": "ipython3",
   "version": "3.12.2"
  }
 },
 "nbformat": 4,
 "nbformat_minor": 2
}
