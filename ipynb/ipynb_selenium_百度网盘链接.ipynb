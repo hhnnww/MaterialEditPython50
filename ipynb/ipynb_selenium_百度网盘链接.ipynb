{
 "cells": [
  {
   "cell_type": "code",
   "execution_count": 20,
   "metadata": {},
   "outputs": [],
   "source": [
    "import re\n",
    "import shutil\n",
    "import time\n",
    "from pathlib import Path\n",
    "\n",
    "from selenium.webdriver import Edge, EdgeOptions\n",
    "from selenium.webdriver.common.by import By\n",
    "from selenium.webdriver import Keys, ActionChains\n",
    "from selenium.webdriver.support import expected_conditions\n",
    "from selenium.webdriver.support.ui import WebDriverWait"
   ]
  },
  {
   "cell_type": "code",
   "execution_count": 21,
   "metadata": {},
   "outputs": [],
   "source": [
    "driver = Edge()\n",
    "driver.set_window_rect(x=1274, y=0, width=1292, height=1398)\n",
    "driver.get(\"https://pan.baidu.com\")"
   ]
  },
  {
   "cell_type": "code",
   "execution_count": 22,
   "metadata": {},
   "outputs": [],
   "source": [
    "ActionChains(driver).click(\n",
    "    driver.find_element(\n",
    "        By.CSS_SELECTOR,\n",
    "        \"body > section > main > div > section > main > div > div.bd-login-content > div.bd-login-button.bd-login-content__login > button\",\n",
    "    )\n",
    ").perform()"
   ]
  },
  {
   "cell_type": "code",
   "execution_count": 24,
   "metadata": {},
   "outputs": [],
   "source": [
    "ActionChains(driver).click(\n",
    "    driver.find_element(By.CSS_SELECTOR, \"#TANGRAM__PSP_11__userName\")\n",
    ").send_keys(\"13078875725\").perform()"
   ]
  },
  {
   "cell_type": "code",
   "execution_count": 30,
   "metadata": {},
   "outputs": [],
   "source": [
    "key = input(\"密码\")\n",
    "ActionChains(driver).click(\n",
    "    driver.find_element(By.CSS_SELECTOR, \"#TANGRAM__PSP_11__password\")\n",
    ").send_keys(key).perform()"
   ]
  },
  {
   "cell_type": "code",
   "execution_count": 32,
   "metadata": {},
   "outputs": [],
   "source": [
    "ActionChains(driver).click(\n",
    "    driver.find_element(By.CSS_SELECTOR, \"#TANGRAM__PSP_11__isAgree\")\n",
    ").perform()"
   ]
  },
  {
   "cell_type": "code",
   "execution_count": 33,
   "metadata": {},
   "outputs": [],
   "source": [
    "ActionChains(driver).click(\n",
    "    driver.find_element(By.CSS_SELECTOR, \"#TANGRAM__PSP_11__submit\")\n",
    ").perform()"
   ]
  },
  {
   "cell_type": "code",
   "execution_count": 34,
   "metadata": {},
   "outputs": [],
   "source": [
    "ActionChains(driver).click(\n",
    "    driver.find_element(By.CSS_SELECTOR, \"#goToVerify\")\n",
    ").perform()"
   ]
  },
  {
   "cell_type": "code",
   "execution_count": 36,
   "metadata": {},
   "outputs": [],
   "source": [
    "key = input(\"验证码\")\n",
    "ActionChains(driver).click(\n",
    "    driver.find_element(By.CSS_SELECTOR, \"#passAuthVcode\")\n",
    ").send_keys(key).perform()"
   ]
  },
  {
   "cell_type": "code",
   "execution_count": 37,
   "metadata": {},
   "outputs": [],
   "source": [
    "ActionChains(driver).click(\n",
    "    driver.find_element(By.CSS_SELECTOR, \"#passAuthSubmitCode\")\n",
    ").perform()"
   ]
  },
  {
   "cell_type": "code",
   "execution_count": 38,
   "metadata": {},
   "outputs": [],
   "source": [
    "ActionChains(driver).click(\n",
    "    driver.find_element(\n",
    "        By.CSS_SELECTOR,\n",
    "        \"body > div.nd-main-layout.aichat-width.show-out-sug > div.nd-operate-guidance > div.nd-operate-guidance__body > img.nd-operate-guidance__close\",\n",
    "    )\n",
    ").perform()"
   ]
  },
  {
   "cell_type": "code",
   "execution_count": null,
   "metadata": {},
   "outputs": [],
   "source": []
  }
 ],
 "metadata": {
  "kernelspec": {
   "display_name": "base",
   "language": "python",
   "name": "python3"
  },
  "language_info": {
   "codemirror_mode": {
    "name": "ipython",
    "version": 3
   },
   "file_extension": ".py",
   "mimetype": "text/x-python",
   "name": "python",
   "nbconvert_exporter": "python",
   "pygments_lexer": "ipython3",
   "version": "3.12.2"
  }
 },
 "nbformat": 4,
 "nbformat_minor": 2
}
