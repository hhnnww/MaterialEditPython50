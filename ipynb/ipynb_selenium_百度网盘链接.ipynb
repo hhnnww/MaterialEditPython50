{
 "cells": [
  {
   "cell_type": "code",
   "execution_count": 69,
   "metadata": {},
   "outputs": [],
   "source": [
    "import re\n",
    "import shutil\n",
    "import time\n",
    "from pathlib import Path\n",
    "from tqdm import tqdm\n",
    "from selenium.webdriver import Edge, EdgeOptions\n",
    "from selenium.webdriver.common.by import By\n",
    "from selenium.webdriver import Keys, ActionChains\n",
    "from selenium.webdriver.support import expected_conditions\n",
    "from selenium.webdriver.support.ui import WebDriverWait"
   ]
  },
  {
   "cell_type": "code",
   "execution_count": 13,
   "metadata": {},
   "outputs": [],
   "source": [
    "class BadiuAction:\n",
    "    driver = Edge()\n",
    "    driver.set_window_rect(x=1274, y=0, width=1292, height=1398)\n",
    "\n",
    "    def fun_web_wait(self):\n",
    "        return WebDriverWait(driver=self.driver, timeout=120)\n",
    "\n",
    "    def fun_action_click(self, selecotr: str):\n",
    "        ActionChains(self.driver).click(\n",
    "            self.driver.find_element(By.CSS_SELECTOR, selecotr)\n",
    "        ).perform()\n",
    "\n",
    "    def fun_action_sendkey(self, selector: str, key: str):\n",
    "        ActionChains(self.driver).send_keys_to_element(\n",
    "            self.driver.find_element(By.CSS_SELECTOR, selector), key\n",
    "        ).perform()"
   ]
  },
  {
   "cell_type": "code",
   "execution_count": 14,
   "metadata": {},
   "outputs": [
    {
     "data": {
      "text/plain": [
       "True"
      ]
     },
     "execution_count": 14,
     "metadata": {},
     "output_type": "execute_result"
    }
   ],
   "source": [
    "ba = BadiuAction()\n",
    "ba.driver.get(\"https://pan.baidu.com\")\n",
    "ba.fun_web_wait().until(expected_conditions.title_is(\"百度网盘\"))"
   ]
  },
  {
   "cell_type": "code",
   "execution_count": 70,
   "metadata": {},
   "outputs": [
    {
     "name": "stderr",
     "output_type": "stream",
     "text": [
      "删除网盘链接:   0%|                                                          | 0/20 [00:00<?, ?it/s]"
     ]
    },
    {
     "name": "stdout",
     "output_type": "stream",
     "text": [
      "搜索ID:\t10242\n"
     ]
    },
    {
     "name": "stderr",
     "output_type": "stream",
     "text": [
      "删除网盘链接:   5%|██▌                                               | 1/20 [00:04<01:19,  4.20s/it]"
     ]
    },
    {
     "name": "stdout",
     "output_type": "stream",
     "text": [
      "搜索ID:\t10238\n",
      "删除 MATERIAL_ID:\t10238\n"
     ]
    },
    {
     "name": "stderr",
     "output_type": "stream",
     "text": [
      "删除网盘链接:  10%|█████                                             | 2/20 [00:23<03:52, 12.94s/it]"
     ]
    },
    {
     "name": "stdout",
     "output_type": "stream",
     "text": [
      "搜索ID:\t10237\n"
     ]
    },
    {
     "name": "stderr",
     "output_type": "stream",
     "text": [
      "删除网盘链接:  15%|███████▌                                          | 3/20 [00:27<02:31,  8.91s/it]"
     ]
    },
    {
     "name": "stdout",
     "output_type": "stream",
     "text": [
      "搜索ID:\t10236\n",
      "删除 MATERIAL_ID:\t10236\n"
     ]
    },
    {
     "name": "stderr",
     "output_type": "stream",
     "text": [
      "删除网盘链接:  20%|██████████                                        | 4/20 [00:46<03:26, 12.92s/it]"
     ]
    },
    {
     "name": "stdout",
     "output_type": "stream",
     "text": [
      "搜索ID:\t10235\n",
      "删除 MATERIAL_ID:\t10235\n"
     ]
    },
    {
     "name": "stderr",
     "output_type": "stream",
     "text": [
      "删除网盘链接:  25%|████████████▌                                     | 5/20 [01:05<03:47, 15.16s/it]"
     ]
    },
    {
     "name": "stdout",
     "output_type": "stream",
     "text": [
      "搜索ID:\t10232\n",
      "删除 MATERIAL_ID:\t10232\n"
     ]
    },
    {
     "name": "stderr",
     "output_type": "stream",
     "text": [
      "删除网盘链接:  30%|███████████████                                   | 6/20 [01:24<03:50, 16.47s/it]"
     ]
    },
    {
     "name": "stdout",
     "output_type": "stream",
     "text": [
      "搜索ID:\t10231\n",
      "删除 MATERIAL_ID:\t10231\n"
     ]
    },
    {
     "name": "stderr",
     "output_type": "stream",
     "text": [
      "删除网盘链接:  35%|█████████████████▌                                | 7/20 [01:43<03:45, 17.38s/it]"
     ]
    },
    {
     "name": "stdout",
     "output_type": "stream",
     "text": [
      "搜索ID:\t10230\n",
      "删除 MATERIAL_ID:\t10230\n"
     ]
    },
    {
     "name": "stderr",
     "output_type": "stream",
     "text": [
      "删除网盘链接:  40%|████████████████████                              | 8/20 [02:03<03:35, 17.98s/it]"
     ]
    },
    {
     "name": "stdout",
     "output_type": "stream",
     "text": [
      "搜索ID:\t10229\n",
      "删除 MATERIAL_ID:\t10229\n"
     ]
    },
    {
     "name": "stderr",
     "output_type": "stream",
     "text": [
      "删除网盘链接:  45%|██████████████████████▌                           | 9/20 [02:22<03:21, 18.33s/it]"
     ]
    },
    {
     "name": "stdout",
     "output_type": "stream",
     "text": [
      "搜索ID:\t10228\n",
      "删除 MATERIAL_ID:\t10228\n"
     ]
    },
    {
     "name": "stderr",
     "output_type": "stream",
     "text": [
      "删除网盘链接:  50%|████████████████████████▌                        | 10/20 [02:41<03:05, 18.56s/it]"
     ]
    },
    {
     "name": "stdout",
     "output_type": "stream",
     "text": [
      "搜索ID:\t10227\n",
      "删除 MATERIAL_ID:\t10227\n"
     ]
    },
    {
     "name": "stderr",
     "output_type": "stream",
     "text": [
      "删除网盘链接:  55%|██████████████████████████▉                      | 11/20 [03:00<02:49, 18.78s/it]"
     ]
    },
    {
     "name": "stdout",
     "output_type": "stream",
     "text": [
      "搜索ID:\t10226\n",
      "删除 MATERIAL_ID:\t10226\n"
     ]
    },
    {
     "name": "stderr",
     "output_type": "stream",
     "text": [
      "删除网盘链接:  60%|█████████████████████████████▍                   | 12/20 [03:19<02:31, 18.90s/it]"
     ]
    },
    {
     "name": "stdout",
     "output_type": "stream",
     "text": [
      "搜索ID:\t10225\n",
      "删除 MATERIAL_ID:\t10225\n"
     ]
    },
    {
     "name": "stderr",
     "output_type": "stream",
     "text": [
      "删除网盘链接:  65%|███████████████████████████████▊                 | 13/20 [03:38<02:13, 19.00s/it]"
     ]
    },
    {
     "name": "stdout",
     "output_type": "stream",
     "text": [
      "搜索ID:\t10222\n",
      "删除 MATERIAL_ID:\t10222\n"
     ]
    },
    {
     "name": "stderr",
     "output_type": "stream",
     "text": [
      "删除网盘链接:  70%|██████████████████████████████████▎              | 14/20 [03:58<01:54, 19.07s/it]"
     ]
    },
    {
     "name": "stdout",
     "output_type": "stream",
     "text": [
      "搜索ID:\t10221\n",
      "删除 MATERIAL_ID:\t10221\n"
     ]
    },
    {
     "name": "stderr",
     "output_type": "stream",
     "text": [
      "删除网盘链接:  75%|████████████████████████████████████▊            | 15/20 [04:17<01:35, 19.07s/it]"
     ]
    },
    {
     "name": "stdout",
     "output_type": "stream",
     "text": [
      "搜索ID:\t10220\n",
      "删除 MATERIAL_ID:\t10220\n"
     ]
    },
    {
     "name": "stderr",
     "output_type": "stream",
     "text": [
      "删除网盘链接:  75%|████████████████████████████████████▊            | 15/20 [04:36<01:32, 18.43s/it]\n"
     ]
    },
    {
     "ename": "StaleElementReferenceException",
     "evalue": "Message: stale element reference: stale element not found in the current frame\n  (Session info: MicrosoftEdge=125.0.2535.29); For documentation on this error, please visit: https://www.selenium.dev/documentation/webdriver/troubleshooting/errors#stale-element-reference-exception\nStacktrace:\n\tGetHandleVerifier [0x00007FF6D3D1E9E2+57234]\n\tMicrosoft::Applications::Events::ILogConfiguration::operator* [0x00007FF6D3CAA089+220041]\n\t(No symbol) [0x00007FF6D3ABE377]\n\t(No symbol) [0x00007FF6D3AC3465]\n\t(No symbol) [0x00007FF6D3AC52DB]\n\t(No symbol) [0x00007FF6D3AC5380]\n\t(No symbol) [0x00007FF6D3B04D87]\n\t(No symbol) [0x00007FF6D3B0517E]\n\t(No symbol) [0x00007FF6D3AFA92C]\n\t(No symbol) [0x00007FF6D3B2469F]\n\t(No symbol) [0x00007FF6D3AFA8D7]\n\t(No symbol) [0x00007FF6D3AFA79D]\n\t(No symbol) [0x00007FF6D3B24940]\n\t(No symbol) [0x00007FF6D3AFA8D7]\n\t(No symbol) [0x00007FF6D3B3DBE2]\n\t(No symbol) [0x00007FF6D3B242C3]\n\t(No symbol) [0x00007FF6D3AF9DFE]\n\t(No symbol) [0x00007FF6D3AF8FBC]\n\t(No symbol) [0x00007FF6D3AF99B1]\n\tMicrosoft::Applications::Events::EventProperty::to_string [0x00007FF6D3ED0F54+1051732]\n\t(No symbol) [0x00007FF6D3B7291C]\n\tMicrosoft::Applications::Events::EventProperty::~EventProperty [0x00007FF6D3C1787C+50380]\n\tMicrosoft::Applications::Events::EventProperty::~EventProperty [0x00007FF6D3C0C575+4549]\n\tMicrosoft::Applications::Events::EventProperty::to_string [0x00007FF6D3ECFF15+1047573]\n\tMicrosoft::Applications::Events::ILogConfiguration::operator* [0x00007FF6D3CB45B1+262321]\n\tMicrosoft::Applications::Events::ILogConfiguration::operator* [0x00007FF6D3CAED44+239684]\n\tMicrosoft::Applications::Events::ILogConfiguration::operator* [0x00007FF6D3CAEE7B+239995]\n\tMicrosoft::Applications::Events::ILogConfiguration::operator* [0x00007FF6D3CA5160+199776]\n\tBaseThreadInitThunk [0x00007FF98BCB257D+29]\n\tRtlUserThreadStart [0x00007FF98DFCAA48+40]\n",
     "output_type": "error",
     "traceback": [
      "\u001b[1;31m---------------------------------------------------------------------------\u001b[0m",
      "\u001b[1;31mStaleElementReferenceException\u001b[0m            Traceback (most recent call last)",
      "Cell \u001b[1;32mIn[70], line 50\u001b[0m\n\u001b[0;32m     47\u001b[0m \u001b[38;5;28;01mfor\u001b[39;00m item \u001b[38;5;129;01min\u001b[39;00m item_list:\n\u001b[0;32m     48\u001b[0m     is_cate \u001b[38;5;241m=\u001b[39m \u001b[38;5;28;01mFalse\u001b[39;00m\n\u001b[1;32m---> 50\u001b[0m     cate \u001b[38;5;241m=\u001b[39m item\u001b[38;5;241m.\u001b[39mfind_element(By\u001b[38;5;241m.\u001b[39mCSS_SELECTOR, \u001b[38;5;124m\"\u001b[39m\u001b[38;5;124mimg\u001b[39m\u001b[38;5;124m\"\u001b[39m)\n\u001b[0;32m     51\u001b[0m     \u001b[38;5;28;01mif\u001b[39;00m (\n\u001b[0;32m     52\u001b[0m         cate\u001b[38;5;241m.\u001b[39mget_attribute(\u001b[38;5;124m\"\u001b[39m\u001b[38;5;124msrc\u001b[39m\u001b[38;5;124m\"\u001b[39m)\n\u001b[0;32m     53\u001b[0m         \u001b[38;5;241m==\u001b[39m \u001b[38;5;124m\"\u001b[39m\u001b[38;5;124mhttps://staticwx.cdn.bcebos.com/mini-program/images/ic_file2.png\u001b[39m\u001b[38;5;124m\"\u001b[39m\n\u001b[0;32m     54\u001b[0m     ):\n\u001b[0;32m     55\u001b[0m         is_cate \u001b[38;5;241m=\u001b[39m \u001b[38;5;28;01mTrue\u001b[39;00m\n",
      "File \u001b[1;32mc:\\ProgramData\\Miniconda3\\Lib\\site-packages\\selenium\\webdriver\\remote\\webelement.py:417\u001b[0m, in \u001b[0;36mWebElement.find_element\u001b[1;34m(self, by, value)\u001b[0m\n\u001b[0;32m    414\u001b[0m     by \u001b[38;5;241m=\u001b[39m By\u001b[38;5;241m.\u001b[39mCSS_SELECTOR\n\u001b[0;32m    415\u001b[0m     value \u001b[38;5;241m=\u001b[39m \u001b[38;5;124mf\u001b[39m\u001b[38;5;124m'\u001b[39m\u001b[38;5;124m[name=\u001b[39m\u001b[38;5;124m\"\u001b[39m\u001b[38;5;132;01m{\u001b[39;00mvalue\u001b[38;5;132;01m}\u001b[39;00m\u001b[38;5;124m\"\u001b[39m\u001b[38;5;124m]\u001b[39m\u001b[38;5;124m'\u001b[39m\n\u001b[1;32m--> 417\u001b[0m \u001b[38;5;28;01mreturn\u001b[39;00m \u001b[38;5;28mself\u001b[39m\u001b[38;5;241m.\u001b[39m_execute(Command\u001b[38;5;241m.\u001b[39mFIND_CHILD_ELEMENT, {\u001b[38;5;124m\"\u001b[39m\u001b[38;5;124musing\u001b[39m\u001b[38;5;124m\"\u001b[39m: by, \u001b[38;5;124m\"\u001b[39m\u001b[38;5;124mvalue\u001b[39m\u001b[38;5;124m\"\u001b[39m: value})[\u001b[38;5;124m\"\u001b[39m\u001b[38;5;124mvalue\u001b[39m\u001b[38;5;124m\"\u001b[39m]\n",
      "File \u001b[1;32mc:\\ProgramData\\Miniconda3\\Lib\\site-packages\\selenium\\webdriver\\remote\\webelement.py:395\u001b[0m, in \u001b[0;36mWebElement._execute\u001b[1;34m(self, command, params)\u001b[0m\n\u001b[0;32m    393\u001b[0m     params \u001b[38;5;241m=\u001b[39m {}\n\u001b[0;32m    394\u001b[0m params[\u001b[38;5;124m\"\u001b[39m\u001b[38;5;124mid\u001b[39m\u001b[38;5;124m\"\u001b[39m] \u001b[38;5;241m=\u001b[39m \u001b[38;5;28mself\u001b[39m\u001b[38;5;241m.\u001b[39m_id\n\u001b[1;32m--> 395\u001b[0m \u001b[38;5;28;01mreturn\u001b[39;00m \u001b[38;5;28mself\u001b[39m\u001b[38;5;241m.\u001b[39m_parent\u001b[38;5;241m.\u001b[39mexecute(command, params)\n",
      "File \u001b[1;32mc:\\ProgramData\\Miniconda3\\Lib\\site-packages\\selenium\\webdriver\\remote\\webdriver.py:347\u001b[0m, in \u001b[0;36mWebDriver.execute\u001b[1;34m(self, driver_command, params)\u001b[0m\n\u001b[0;32m    345\u001b[0m response \u001b[38;5;241m=\u001b[39m \u001b[38;5;28mself\u001b[39m\u001b[38;5;241m.\u001b[39mcommand_executor\u001b[38;5;241m.\u001b[39mexecute(driver_command, params)\n\u001b[0;32m    346\u001b[0m \u001b[38;5;28;01mif\u001b[39;00m response:\n\u001b[1;32m--> 347\u001b[0m     \u001b[38;5;28mself\u001b[39m\u001b[38;5;241m.\u001b[39merror_handler\u001b[38;5;241m.\u001b[39mcheck_response(response)\n\u001b[0;32m    348\u001b[0m     response[\u001b[38;5;124m\"\u001b[39m\u001b[38;5;124mvalue\u001b[39m\u001b[38;5;124m\"\u001b[39m] \u001b[38;5;241m=\u001b[39m \u001b[38;5;28mself\u001b[39m\u001b[38;5;241m.\u001b[39m_unwrap_value(response\u001b[38;5;241m.\u001b[39mget(\u001b[38;5;124m\"\u001b[39m\u001b[38;5;124mvalue\u001b[39m\u001b[38;5;124m\"\u001b[39m, \u001b[38;5;28;01mNone\u001b[39;00m))\n\u001b[0;32m    349\u001b[0m     \u001b[38;5;28;01mreturn\u001b[39;00m response\n",
      "File \u001b[1;32mc:\\ProgramData\\Miniconda3\\Lib\\site-packages\\selenium\\webdriver\\remote\\errorhandler.py:229\u001b[0m, in \u001b[0;36mErrorHandler.check_response\u001b[1;34m(self, response)\u001b[0m\n\u001b[0;32m    227\u001b[0m         alert_text \u001b[38;5;241m=\u001b[39m value[\u001b[38;5;124m\"\u001b[39m\u001b[38;5;124malert\u001b[39m\u001b[38;5;124m\"\u001b[39m]\u001b[38;5;241m.\u001b[39mget(\u001b[38;5;124m\"\u001b[39m\u001b[38;5;124mtext\u001b[39m\u001b[38;5;124m\"\u001b[39m)\n\u001b[0;32m    228\u001b[0m     \u001b[38;5;28;01mraise\u001b[39;00m exception_class(message, screen, stacktrace, alert_text)  \u001b[38;5;66;03m# type: ignore[call-arg]  # mypy is not smart enough here\u001b[39;00m\n\u001b[1;32m--> 229\u001b[0m \u001b[38;5;28;01mraise\u001b[39;00m exception_class(message, screen, stacktrace)\n",
      "\u001b[1;31mStaleElementReferenceException\u001b[0m: Message: stale element reference: stale element not found in the current frame\n  (Session info: MicrosoftEdge=125.0.2535.29); For documentation on this error, please visit: https://www.selenium.dev/documentation/webdriver/troubleshooting/errors#stale-element-reference-exception\nStacktrace:\n\tGetHandleVerifier [0x00007FF6D3D1E9E2+57234]\n\tMicrosoft::Applications::Events::ILogConfiguration::operator* [0x00007FF6D3CAA089+220041]\n\t(No symbol) [0x00007FF6D3ABE377]\n\t(No symbol) [0x00007FF6D3AC3465]\n\t(No symbol) [0x00007FF6D3AC52DB]\n\t(No symbol) [0x00007FF6D3AC5380]\n\t(No symbol) [0x00007FF6D3B04D87]\n\t(No symbol) [0x00007FF6D3B0517E]\n\t(No symbol) [0x00007FF6D3AFA92C]\n\t(No symbol) [0x00007FF6D3B2469F]\n\t(No symbol) [0x00007FF6D3AFA8D7]\n\t(No symbol) [0x00007FF6D3AFA79D]\n\t(No symbol) [0x00007FF6D3B24940]\n\t(No symbol) [0x00007FF6D3AFA8D7]\n\t(No symbol) [0x00007FF6D3B3DBE2]\n\t(No symbol) [0x00007FF6D3B242C3]\n\t(No symbol) [0x00007FF6D3AF9DFE]\n\t(No symbol) [0x00007FF6D3AF8FBC]\n\t(No symbol) [0x00007FF6D3AF99B1]\n\tMicrosoft::Applications::Events::EventProperty::to_string [0x00007FF6D3ED0F54+1051732]\n\t(No symbol) [0x00007FF6D3B7291C]\n\tMicrosoft::Applications::Events::EventProperty::~EventProperty [0x00007FF6D3C1787C+50380]\n\tMicrosoft::Applications::Events::EventProperty::~EventProperty [0x00007FF6D3C0C575+4549]\n\tMicrosoft::Applications::Events::EventProperty::to_string [0x00007FF6D3ECFF15+1047573]\n\tMicrosoft::Applications::Events::ILogConfiguration::operator* [0x00007FF6D3CB45B1+262321]\n\tMicrosoft::Applications::Events::ILogConfiguration::operator* [0x00007FF6D3CAED44+239684]\n\tMicrosoft::Applications::Events::ILogConfiguration::operator* [0x00007FF6D3CAEE7B+239995]\n\tMicrosoft::Applications::Events::ILogConfiguration::operator* [0x00007FF6D3CA5160+199776]\n\tBaseThreadInitThunk [0x00007FF98BCB257D+29]\n\tRtlUserThreadStart [0x00007FF98DFCAA48+40]\n"
     ]
    }
   ],
   "source": [
    "material_id_list = [\n",
    "    \"10213\",\n",
    "    \"10217\",\n",
    "]\n",
    "for material_id in tqdm(material_id_list, desc=\"删除网盘链接\", ncols=100):\n",
    "    print(f\"搜索ID:\\t{material_id}\")\n",
    "    # 清空输入框\n",
    "    ba.fun_action_click(\n",
    "        \"body > div.nd-main-layout.aichat-width.show-out-sug > div.nd-main-layout__container > div.nd-main-layout__wrapper > div.nd-main-layout__body > div > div.wp-s-core-pan > div > div.wp-s-core-pan__header.is-show-header > div > div.wp-s-core-pan__header-tool-bar--customize > div > div > span > span > p > i\"\n",
    "    )\n",
    "\n",
    "    # 搜索\n",
    "    ba.fun_action_sendkey(\n",
    "        \"body > div.nd-main-layout.aichat-width.show-out-sug > div.nd-main-layout__container > div.nd-main-layout__wrapper > div.nd-main-layout__body > div > div.wp-s-core-pan > div > div.wp-s-core-pan__header.is-show-header > div > div.wp-s-core-pan__header-tool-bar--customize > div > div > input\",\n",
    "        material_id,\n",
    "    )\n",
    "    # 按下回车\n",
    "    ba.fun_action_sendkey(\n",
    "        \"body > div.nd-main-layout.aichat-width.show-out-sug > div.nd-main-layout__container > div.nd-main-layout__wrapper > div.nd-main-layout__body > div > div.wp-s-core-pan > div > div.wp-s-core-pan__header.is-show-header > div > div.wp-s-core-pan__header-tool-bar--customize > div > div > input\",\n",
    "        Keys.ENTER,\n",
    "    )\n",
    "    time.sleep(3)\n",
    "\n",
    "    item_list = ba.driver.find_elements(\n",
    "        By.CSS_SELECTOR,\n",
    "        \"body > div.nd-main-layout.aichat-width.show-out-sug > div.nd-main-layout__container > div.nd-main-layout__wrapper > div.nd-main-layout__body > div > div.wp-s-core-pan > div > div.wp-s-core-pan__body.is-show-header > div.wp-s-core-pan__body-contain.is-show-detail.is-has-detail > div.wp-s-core-pan__body-contain--list.is-show-nav > div > div > div > div.wp-s-pan-table__body.mouse-choose-list > table > tbody > tr\",\n",
    "    )\n",
    "\n",
    "    for item in item_list:\n",
    "        is_cate = False\n",
    "\n",
    "        cate = item.find_element(By.CSS_SELECTOR, \"img\")\n",
    "        if (\n",
    "            cate.get_attribute(\"src\")\n",
    "            == \"https://staticwx.cdn.bcebos.com/mini-program/images/ic_file2.png\"\n",
    "        ):\n",
    "            is_cate = True\n",
    "\n",
    "        name = item.find_element(\n",
    "            By.CSS_SELECTOR, \"a.wp-s-pan-list__file-name-title-text\"\n",
    "        ).text\n",
    "\n",
    "        if name == material_id and is_cate is True:\n",
    "            print(f\"删除 MATERIAL_ID:\\t{material_id}\")\n",
    "            ActionChains(ba.driver).click(\n",
    "                item.find_element(\n",
    "                    By.CSS_SELECTOR,\n",
    "                    \"td.wp-s-pan-table__body-row--checkbox-block.is-select > label\",\n",
    "                )\n",
    "            ).perform()\n",
    "            time.sleep(2)\n",
    "            ba.fun_action_click(\n",
    "                \"body > div.nd-main-layout.aichat-width.show-out-sug > div.nd-main-layout__container > div.nd-main-layout__wrapper > div.nd-main-layout__body > div > div.wp-s-core-pan > div > div.wp-s-core-pan__header.is-show-header > div > div.wp-s-core-pan__header-tool-bar--action > div > div > div > div > div:nth-child(4)\"\n",
    "            )\n",
    "            time.sleep(2)\n",
    "            ba.fun_action_click(\n",
    "                \"body > div.nd-main-layout.aichat-width.show-out-sug > div.nd-delete > div:nth-child(1) > div > div.u-dialog__footer > div > div > button.u-button.nd-delete__action-item.u-button--primary.u-button--medium.is-round\"\n",
    "            )\n",
    "            time.sleep(10)"
   ]
  }
 ],
 "metadata": {
  "kernelspec": {
   "display_name": "base",
   "language": "python",
   "name": "python3"
  },
  "language_info": {
   "codemirror_mode": {
    "name": "ipython",
    "version": 3
   },
   "file_extension": ".py",
   "mimetype": "text/x-python",
   "name": "python",
   "nbconvert_exporter": "python",
   "pygments_lexer": "ipython3",
   "version": "3.12.2"
  }
 },
 "nbformat": 4,
 "nbformat_minor": 2
}
