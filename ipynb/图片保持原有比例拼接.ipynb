{
 "cells": [
  {
   "cell_type": "code",
   "execution_count": null,
   "id": "9373c84c",
   "metadata": {},
   "outputs": [],
   "source": [
    "import math\n",
    "from pathlib import Path\n",
    "\n",
    "from PIL import Image\n",
    "\n",
    "from image_action import ImageAction\n",
    "\n",
    "sub_path = Path(r\"F:\\饭桶设计\\4000-4999\\4245\\效果图\\1-8\")\n",
    "pil_list = [\n",
    "    Image.open(infile)\n",
    "    for infile in sub_path.iterdir()\n",
    "    if infile.suffix.lower() in [\".jpg\"]\n",
    "]\n",
    "pil_list.sort(key=lambda k: k.width / k.height, reverse=True)\n",
    "xq_width = 1500\n",
    "\n",
    "rows = [pil_list[i : i + 8] for i in range(0, len(pil_list), 8)]\n",
    "for row in rows:\n",
    "    for pil in row:\n",
    "        pil.thumbnail(\n",
    "            (math.ceil(xq_width / len(row)), 9999999),\n",
    "            Image.Resampling.LANCZOS,\n",
    "        )\n",
    "\n",
    "rows_pil = [\n",
    "    ImageAction.ImageMerge(\n",
    "        image_list=row,\n",
    "        direction=\"x\",\n",
    "        spacing=0,\n",
    "        align=\"start\",\n",
    "    ).main()\n",
    "    for row in rows\n",
    "]\n",
    "bg = ImageAction.ImageMerge(\n",
    "    image_list=rows_pil,\n",
    "    direction=\"y\",\n",
    "    spacing=0,\n",
    "    align=\"start\",\n",
    ").main()\n",
    "\n",
    "png_path = sub_path.parent / f\"{sub_path.stem}.png\"\n",
    "bg.save(png_path)"
   ]
  }
 ],
 "metadata": {
  "kernelspec": {
   "display_name": "base",
   "language": "python",
   "name": "python3"
  },
  "language_info": {
   "codemirror_mode": {
    "name": "ipython",
    "version": 3
   },
   "file_extension": ".py",
   "mimetype": "text/x-python",
   "name": "python",
   "nbconvert_exporter": "python",
   "pygments_lexer": "ipython3",
   "version": "3.12.2"
  }
 },
 "nbformat": 4,
 "nbformat_minor": 5
}
