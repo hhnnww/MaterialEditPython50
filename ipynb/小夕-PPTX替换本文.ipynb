{
 "cells": [
  {
   "cell_type": "code",
   "execution_count": 2,
   "metadata": {},
   "outputs": [
    {
     "name": "stdout",
     "output_type": "stream",
     "text": [
      "Slide[1].TEXT_BOX[id=9].Run[0,0]: '唐峰' -> '小夕'\n",
      "Slide[3].TEXT_BOX[id=32].Run[0,0]: '唐峰 HERE ------------' -> '小夕 HERE ------------'\n",
      "Slide[8].TEXT_BOX[id=32].Run[0,0]: '唐峰 HERE ------------' -> '小夕 HERE ------------'\n",
      "Slide[13].TEXT_BOX[id=32].Run[0,0]: '唐峰 HERE ------------' -> '小夕 HERE ------------'\n",
      "Slide[18].TEXT_BOX[id=32].Run[0,0]: '唐峰 HERE ------------' -> '小夕 HERE ------------'\n",
      "Slide[23].TEXT_BOX[id=9].Run[0,0]: '唐峰 HERE ------------' -> '小夕 HERE ------------'\n"
     ]
    }
   ],
   "source": [
    "from python_pptx_text_replacer import TextReplacer\n",
    "\n",
    "ppt_file = r\"F:\\小夕素材\\10000-20000\\10851\\10851\\小夕素材(15).pptx\"\n",
    "replacer = TextReplacer(ppt_file, slides=\"\", tables=True, charts=True, textframes=True)\n",
    "replacer.replace_text([(\"唐峰\", \"小夕\")])\n",
    "replacer.write_presentation_to_file(ppt_file)"
   ]
  }
 ],
 "metadata": {
  "kernelspec": {
   "display_name": "base",
   "language": "python",
   "name": "python3"
  },
  "language_info": {
   "codemirror_mode": {
    "name": "ipython",
    "version": 3
   },
   "file_extension": ".py",
   "mimetype": "text/x-python",
   "name": "python",
   "nbconvert_exporter": "python",
   "pygments_lexer": "ipython3",
   "version": "3.12.2"
  }
 },
 "nbformat": 4,
 "nbformat_minor": 2
}
