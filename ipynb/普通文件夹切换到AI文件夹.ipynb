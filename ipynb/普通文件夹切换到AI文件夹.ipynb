{
 "cells": [
  {
   "cell_type": "markdown",
   "id": "377cfb97726389ed",
   "metadata": {
    "collapsed": false
   },
   "source": [
    "# 普通文件夹切换到 AI 文件夹\n"
   ]
  },
  {
   "cell_type": "code",
   "execution_count": 3,
   "id": "initial_id",
   "metadata": {
    "ExecuteTime": {
     "end_time": "2024-03-05T09:19:08.704420900Z",
     "start_time": "2024-03-05T09:19:08.670393300Z"
    },
    "collapsed": true
   },
   "outputs": [],
   "source": [
    "from pathlib import Path\n",
    "\n",
    "material_path = r\"E:\\小夕素材\\H000-H999\\H0549\\预览图\"\n",
    "\n",
    "for in_file in Path(material_path).iterdir():\n",
    "    if in_file.is_file():\n",
    "        in_file_new_path = in_file.parent / in_file.stem / in_file.name\n",
    "\n",
    "        if in_file_new_path.parent.exists() is False:\n",
    "            in_file_new_path.parent.mkdir()\n",
    "\n",
    "        in_file.rename(in_file_new_path)"
   ]
  },
  {
   "cell_type": "markdown",
   "id": "bf2a84251572fdd0",
   "metadata": {
    "collapsed": false
   },
   "source": [
    "# AI 文件夹更改起始 ID\n"
   ]
  },
  {
   "cell_type": "code",
   "execution_count": 4,
   "id": "159a84fc7d49a087",
   "metadata": {
    "ExecuteTime": {
     "end_time": "2024-03-05T09:22:48.374533600Z",
     "start_time": "2024-03-05T09:22:48.356530700Z"
    },
    "collapsed": false
   },
   "outputs": [],
   "source": [
    "from uuid import uuid4\n",
    "\n",
    "material_path = r\"E:\\DOWN\\可制作\\合并H0549\\合并H0549\"\n",
    "\n",
    "for in_path in Path(material_path).iterdir():\n",
    "    if in_path.is_dir():\n",
    "        new_path = in_path.with_stem(str(uuid4()))\n",
    "        if new_path.exists() is False:\n",
    "            in_path.rename(new_path)\n",
    "\n",
    "start_id = 16\n",
    "\n",
    "for in_path in Path(material_path).iterdir():\n",
    "    if in_path.is_dir():\n",
    "        new_path = in_path.with_stem(f\"小夕素材({start_id})\")\n",
    "        if new_path.exists() is False:\n",
    "            in_path.rename(new_path)\n",
    "\n",
    "    start_id += 1"
   ]
  }
 ],
 "metadata": {
  "kernelspec": {
   "display_name": "Python 3",
   "language": "python",
   "name": "python3"
  },
  "language_info": {
   "codemirror_mode": {
    "name": "ipython",
    "version": 2
   },
   "file_extension": ".py",
   "mimetype": "text/x-python",
   "name": "python",
   "nbconvert_exporter": "python",
   "pygments_lexer": "ipython2",
   "version": "2.7.6"
  }
 },
 "nbformat": 4,
 "nbformat_minor": 5
}
