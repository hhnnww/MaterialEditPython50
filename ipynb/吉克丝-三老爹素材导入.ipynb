{
 "cells": [
  {
   "cell_type": "code",
   "execution_count": 10,
   "metadata": {},
   "outputs": [
    {
     "name": "stdout",
     "output_type": "stream",
     "text": [
      "插入到数据库：670f1dcbba94db71f286d6ae\n",
      "插入到数据库：670f1dcbba94db71f286d6af\n",
      "插入到数据库：670f1dcbba94db71f286d6b0\n",
      "插入到数据库：670f1dcbba94db71f286d6b1\n",
      "插入到数据库：670f1dcbba94db71f286d6b2\n",
      "插入到数据库：670f1dcbba94db71f286d6b3\n",
      "插入到数据库：670f1dcbba94db71f286d6b4\n",
      "插入到数据库：670f1dcbba94db71f286d6b5\n",
      "插入到数据库：670f1dcbba94db71f286d6b6\n",
      "插入到数据库：670f1dcbba94db71f286d6b7\n",
      "插入到数据库：670f1dcbba94db71f286d6b8\n",
      "插入到数据库：670f1dcbba94db71f286d6b9\n",
      "插入到数据库：670f1dcbba94db71f286d6ba\n",
      "插入到数据库：670f1dcbba94db71f286d6bb\n",
      "插入到数据库：670f1dcbba94db71f286d6bc\n",
      "插入到数据库：670f1dcbba94db71f286d6bd\n",
      "插入到数据库：670f1dcbba94db71f286d6be\n",
      "插入到数据库：670f1dcbba94db71f286d6bf\n",
      "插入到数据库：670f1dcbba94db71f286d6c0\n",
      "插入到数据库：670f1dcbba94db71f286d6c1\n",
      "插入到数据库：670f1dcbba94db71f286d6c2\n",
      "插入到数据库：670f1dcbba94db71f286d6c3\n",
      "插入到数据库：670f1dcbba94db71f286d6c4\n"
     ]
    }
   ],
   "source": [
    "import json\n",
    "\n",
    "import pyperclip\n",
    "\n",
    "from MaterialEdit.fun_素材下载.fun_插入素材 import fun_插入素材\n",
    "from MaterialEdit.fun_素材下载.model_素材格式 import MaterialModel\n",
    "\n",
    "# text = \"\"\"{\"api\":\"mtop.taobao.shop.simple.item.fetch\",\"v\":\"1.0\",\"ret\":[\"SUCCESS::调用成功\"],\"data\":{\"totalCnt\":143,\"data\":[{\"image\":\"https://gw.alicdn.com/imgextra/O1CN01Vi4ZZA1fXpZ5IZ2Sg_!!2367584017.jpg\",\"itemId\":586843835927,\"title\":\"室内设计su草图建筑3Dmax模型CAD施工图库3D效果图ppt素材psd模板\",\"itemUrl\":\"https://item.taobao.com/item.htm?id=586843835927\",\"discountPrice\":\"8\",\"priceEncoded\":false,\"vitalItem\":false,\"benefitPointData\":[],\"vagueSold365\":\"5万+\"},{\"image\":\"https://gw.alicdn.com/imgextra/O1CN019yx7qM1fXplZbIXhe_!!2367584017.jpg\",\"itemId\":596410249401,\"title\":\"功能流线区位分析图PS建筑景观规划城规psd分层展板素材人群图标\",\"itemUrl\":\"https://item.taobao.com/item.htm?id=596410249401\",\"discountPrice\":\"3.6\",\"priceEncoded\":false,\"vitalItem\":false,\"benefitPointData\":[],\"vagueSold365\":\"1万+\"},{\"image\":\"https://gw.alicdn.com/imgextra/O1CN01dUj9k21fXpuDpe2hQ_!!2367584017.jpg\",\"itemId\":596889539493,\"title\":\"2024景观园林产品建筑环艺室内PS模板竞赛风展板排版PSD素材分层\",\"itemUrl\":\"https://item.taobao.com/item.htm?id=596889539493\",\"discountPrice\":\"3\",\"priceEncoded\":false,\"vitalItem\":false,\"benefitPointData\":[],\"vagueSold365\":\"1万+\"},{\"image\":\"https://gw.alicdn.com/imgextra/O1CN01blyowe1fXpzd6KeRL_!!2367584017.jpg\",\"itemId\":768687216274,\"title\":\"园林景观乔木ps素材库PNG免抠常用树木植物效果图后期PSD常绿小乔\",\"itemUrl\":\"https://item.taobao.com/item.htm?id=768687216274\",\"discountPrice\":\"3.8\",\"priceEncoded\":false,\"vitalItem\":false,\"benefitPointData\":[],\"vagueSold365\":\"2000+\"},{\"image\":\"https://gw.alicdn.com/imgextra/O1CN018JsFsw1fXpxEmUuGl_!!2367584017.jpg\",\"itemId\":581462373453,\"title\":\"园林景观PS彩色总平面图案笔刷立面填充植物铺装psd分层设计素材\",\"itemUrl\":\"https://item.taobao.com/item.htm?id=581462373453\",\"discountPrice\":\"3\",\"priceEncoded\":false,\"vitalItem\":false,\"benefitPointData\":[],\"vagueSold365\":\"3000+\"},{\"image\":\"https://gw.alicdn.com/imgextra/O1CN017dBxxM1fXpjO8MBqm_!!2367584017.jpg\",\"itemId\":667347954605,\"title\":\"PS园林景观彩色平面图植物树分层草皮花卉纹理配色PSD彩平图素材\",\"itemUrl\":\"https://item.taobao.com/item.htm?id=667347954605\",\"discountPrice\":\"4.8\",\"priceEncoded\":false,\"vitalItem\":false,\"benefitPointData\":[],\"vagueSold365\":\"4000+\"},{\"image\":\"https://gw.alicdn.com/imgextra/O1CN01cgqhvI1fXpv5E46ER_!!2367584017.jpg\",\"itemId\":587720975158,\"title\":\"竞赛风人群活动前期策略数据模块分析图PSD展板建筑景观环艺素材\",\"itemUrl\":\"https://item.taobao.com/item.htm?id=587720975158\",\"discountPrice\":\"4.5\",\"priceEncoded\":false,\"vitalItem\":false,\"benefitPointData\":[],\"vagueSold365\":\"1万+\"},{\"image\":\"https://gw.alicdn.com/imgextra/O1CN01o8lU6d1fXpylZ89aX_!!2367584017.jpg\",\"itemId\":598312688016,\"title\":\"高清草丛草皮草坪草地贴图景观园林PS纹理花镜花海效果图PSD素材\",\"itemUrl\":\"https://item.taobao.com/item.htm?id=598312688016\",\"discountPrice\":\"2.5\",\"priceEncoded\":false,\"vitalItem\":false,\"benefitPointData\":[],\"vagueSold365\":\"3000+\"},{\"image\":\"https://gw.alicdn.com/imgextra/O1CN01hvgQh31fXpxQhamfj_!!2367584017.jpg\",\"itemId\":667229127466,\"title\":\"景观小清新树木psd植物PS平面立面剖面效果图海绵城市规划素材\",\"itemUrl\":\"https://item.taobao.com/item.htm?id=667229127466\",\"discountPrice\":\"4.6\",\"priceEncoded\":false,\"vitalItem\":false,\"benefitPointData\":[],\"vagueSold365\":\"5000+\"},{\"image\":\"https://gw.alicdn.com/imgextra/O1CN01B6gFrE1fXpxY4I2WQ_!!2367584017.jpg\",\"itemId\":650925021263,\"title\":\"人群需求空间 日常行为心理前期分析图PSD分层 景观建筑ps素材\",\"itemUrl\":\"https://item.taobao.com/item.htm?id=650925021263\",\"discountPrice\":\"3\",\"priceEncoded\":false,\"vitalItem\":false,\"benefitPointData\":[],\"vagueSold365\":\"4000+\"},{\"image\":\"https://gw.alicdn.com/imgextra/O1CN011COfYJ1fXprDddcTp_!!2367584017.jpg\",\"itemId\":586540996068,\"title\":\"PS展板排版 景观园林建筑规划模板A1A0室内设计环艺PSD分层素材\",\"itemUrl\":\"https://item.taobao.com/item.htm?id=586540996068\",\"discountPrice\":\"4.5\",\"priceEncoded\":false,\"vitalItem\":false,\"benefitPointData\":[],\"vagueSold365\":\"9000+\"},{\"image\":\"https://gw.alicdn.com/imgextra/O1CN01wi4kUZ1fXpkpTCFF0_!!2367584017.jpg\",\"itemId\":588133943486,\"title\":\"竞赛拼贴风高级灰景观园林建筑公园广场PS效果图素材PSD分层源件\",\"itemUrl\":\"https://item.taobao.com/item.htm?id=588133943486\",\"discountPrice\":\"3\",\"priceEncoded\":false,\"vitalItem\":false,\"benefitPointData\":[],\"vagueSold365\":\"6000+\"},{\"image\":\"https://gw.alicdn.com/imgextra/O1CN01uCkulr1fXpxZMmsUZ_!!2367584017.jpg\",\"itemId\":588170680160,\"title\":\"鸟瞰植物PSD分层素材合集景观园林建筑设计后期效果图树木ps花草\",\"itemUrl\":\"https://item.taobao.com/item.htm?id=588170680160\",\"discountPrice\":\"3.9\",\"priceEncoded\":false,\"vitalItem\":false,\"benefitPointData\":[],\"vagueSold365\":\"4000+\"},{\"image\":\"https://gw.alicdn.com/imgextra/O1CN015iHleY1fXpm8Wxy7x_!!2367584017.jpg\",\"itemId\":635669094603,\"title\":\"设计师个人简历psd模板 高端创意应届生求职专业英文简历ps电子版\",\"itemUrl\":\"https://item.taobao.com/item.htm?id=635669094603\",\"discountPrice\":\"3.8\",\"priceEncoded\":false,\"vitalItem\":false,\"benefitPointData\":[],\"vagueSold365\":\"1000+\"},{\"image\":\"https://gw.alicdn.com/imgextra/O1CN01fL2k3c1fXpyxyWENU_!!2367584017.jpg\",\"itemId\":668772553709,\"title\":\"小清新建筑景观总平面图PSD分层园林公园广场彩平图竞赛风PS素材\",\"itemUrl\":\"https://item.taobao.com/item.htm?id=668772553709\",\"discountPrice\":\"2.9\",\"priceEncoded\":false,\"vitalItem\":false,\"benefitPointData\":[],\"vagueSold365\":\"5000+\"},{\"image\":\"https://gw.alicdn.com/imgextra/O1CN01aNJEx61fXpxSrStMv_!!2367584017.jpg\",\"itemId\":654091698001,\"title\":\"景观ps分析图素材竞赛风海绵城市公园街道驳岸PSD分层剖面图立面\",\"itemUrl\":\"https://item.taobao.com/item.htm?id=654091698001\",\"discountPrice\":\"3\",\"priceEncoded\":false,\"vitalItem\":false,\"benefitPointData\":[],\"vagueSold365\":\"3000+\"},{\"image\":\"https://gw.alicdn.com/imgextra/O1CN01tJOpTb1fXpxEqXql1_!!2367584017.jpg\",\"itemId\":581747582685,\"title\":\"园林景观规划符号建筑学分析图ps方案AI建筑设计图标PSD分层素材\",\"itemUrl\":\"https://item.taobao.com/item.htm?id=581747582685\",\"discountPrice\":\"2.8\",\"priceEncoded\":false,\"vitalItem\":false,\"benefitPointData\":[],\"vagueSold365\":\"1000+\"},{\"image\":\"https://gw.alicdn.com/imgextra/O1CN01TpS1lk1fXpxNDJElD_!!2367584017.jpg\",\"itemId\":652640392240,\"title\":\"古风竞赛风拼贴建筑景观鸟瞰图psd效果图立面人物植物ps免扣素材\",\"itemUrl\":\"https://item.taobao.com/item.htm?id=652640392240\",\"discountPrice\":\"4.3\",\"priceEncoded\":false,\"vitalItem\":false,\"benefitPointData\":[],\"vagueSold365\":\"1000+\"},{\"image\":\"https://gw.alicdn.com/imgextra/O1CN01syc1Zn1fXpue2JFnc_!!2367584017.jpg\",\"itemId\":668018477412,\"title\":\"古风植物彩平园林景观复古小清新平面立面树木psd分层免抠PS素材\",\"itemUrl\":\"https://item.taobao.com/item.htm?id=668018477412\",\"discountPrice\":\"2.9\",\"priceEncoded\":false,\"vitalItem\":false,\"benefitPointData\":[],\"vagueSold365\":\"1000+\"},{\"image\":\"https://gw.alicdn.com/imgextra/O1CN01lusUOA1fXpnJdVSJ1_!!2367584017.jpg\",\"itemId\":605872537688,\"title\":\"景观园林ps公园花园庭院绿化花境植物组团花镜组合设计psd素材\",\"itemUrl\":\"https://item.taobao.com/item.htm?id=605872537688\",\"discountPrice\":\"3\",\"priceEncoded\":false,\"vitalItem\":false,\"benefitPointData\":[],\"vagueSold365\":\"1000+\"},{\"image\":\"https://gw.alicdn.com/imgextra/O1CN01QZlHsI1fXpwuuMjgY_!!2367584017.jpg\",\"itemId\":650486312766,\"title\":\"前期人文地理地块区位分析图PSD分层源文件竞赛风建筑设计ps素材\",\"itemUrl\":\"https://item.taobao.com/item.htm?id=650486312766\",\"discountPrice\":\"3.6\",\"priceEncoded\":false,\"vitalItem\":false,\"benefitPointData\":[],\"vagueSold365\":\"4000+\"},{\"image\":\"https://gw.alicdn.com/imgextra/O1CN01B9X2St1fXplyMqIAa_!!2367584017.jpg\",\"itemId\":597493607164,\"title\":\"小清新竞赛园林景观建筑环艺公园广场设计排版模板PS展板PSD素材\",\"itemUrl\":\"https://item.taobao.com/item.htm?id=597493607164\",\"discountPrice\":\"3.8\",\"priceEncoded\":false,\"vitalItem\":false,\"benefitPointData\":[],\"vagueSold365\":\"3000+\"},{\"image\":\"https://gw.alicdn.com/imgextra/O1CN01biHt971fXpxJnBnBg_!!2367584017.jpg\",\"itemId\":693792732664,\"title\":\"插画风拼贴矢量线稿风手绘白云朵天空背景云彩PSD分层素材PNG免扣\",\"itemUrl\":\"https://item.taobao.com/item.htm?id=693792732664\",\"discountPrice\":\"3.6\",\"priceEncoded\":false,\"vitalItem\":false,\"benefitPointData\":[],\"vagueSold365\":\"2000+\"},{\"image\":\"https://gw.alicdn.com/imgextra/O1CN01U5kgdK1fXpnVmh2X2_!!2367584017.jpg\",\"itemId\":665523592748,\"title\":\"小清新线稿风植物PSD素材AI景观建筑平立剖面树飞鸟效果图免抠PNG\",\"itemUrl\":\"https://item.taobao.com/item.htm?id=665523592748\",\"discountPrice\":\"2.1\",\"priceEncoded\":false,\"vitalItem\":false,\"benefitPointData\":[],\"vagueSold365\":\"3000+\"},{\"image\":\"https://gw.alicdn.com/imgextra/O1CN01IUhofJ1fXpxeamEup_!!2367584017.jpg\",\"itemId\":651295838779,\"title\":\"景观园林园艺植物配置PSD分层 绿植树木PS分析图种植搭配素材\",\"itemUrl\":\"https://item.taobao.com/item.htm?id=651295838779\",\"discountPrice\":\"3.9\",\"priceEncoded\":false,\"vitalItem\":false,\"benefitPointData\":[],\"vagueSold365\":\"3000+\"},{\"image\":\"https://gw.alicdn.com/imgextra/O1CN01v1p1yX1fXpkevBXqV_!!2367584017.jpg\",\"itemId\":599615272934,\"title\":\"全套竞赛小清新建筑景观室内环艺民宿展馆设计ps展板模板PSD素材\",\"itemUrl\":\"https://item.taobao.com/item.htm?id=599615272934\",\"discountPrice\":\"4.5\",\"priceEncoded\":false,\"vitalItem\":false,\"benefitPointData\":[],\"vagueSold365\":\"5000+\"},{\"image\":\"https://gw.alicdn.com/imgextra/O1CN01ziAWRB1fXpxLywDwo_!!2367584017.jpg\",\"itemId\":650509572583,\"title\":\"建筑景观概念设计策略演绎构思演变背景前期分析图PSD分层源文件\",\"itemUrl\":\"https://item.taobao.com/item.htm?id=650509572583\",\"discountPrice\":\"4.3\",\"priceEncoded\":false,\"vitalItem\":false,\"benefitPointData\":[],\"vagueSold365\":\"3000+\"},{\"image\":\"https://gw.alicdn.com/imgextra/O1CN01XbU3Hs1fXpuxvZofv_!!2367584017.jpg\",\"itemId\":765388425093,\"title\":\"汀步平面彩平图psd素材公园庭院效果踏步石园林小路青石板PS拼贴\",\"itemUrl\":\"https://item.taobao.com/item.htm?id=765388425093\",\"discountPrice\":\"10\",\"priceEncoded\":false,\"vitalItem\":false,\"benefitPointData\":[],\"vagueSold365\":\"1000+\"},{\"image\":\"https://gw.alicdn.com/imgextra/O1CN01YpLrzt1fXpx7ZVArI_!!2367584017.jpg\",\"itemId\":651643687955,\"title\":\"灰色调场地地块区位模板块 竞赛风现状景观前期分析图PSD分层素材\",\"itemUrl\":\"https://item.taobao.com/item.htm?id=651643687955\",\"discountPrice\":\"2.8\",\"priceEncoded\":false,\"vitalItem\":false,\"benefitPointData\":[],\"vagueSold365\":\"1000+\"},{\"image\":\"https://gw.alicdn.com/imgextra/O1CN010VwfF41fXpnDoRMP9_!!2367584017.jpg\",\"itemId\":591616950728,\"title\":\"拼贴插画风小清新植物PSD建筑PS剖面Ai矢量立面树PNG免抠分层素材\",\"itemUrl\":\"https://item.taobao.com/item.htm?id=591616950728\",\"discountPrice\":\"3.5\",\"priceEncoded\":false,\"vitalItem\":false,\"benefitPointData\":[],\"vagueSold365\":\"3000+\"}],\"page\":1,\"pageSize\":30,\"hasNext\":true},\"traceId\":\"2150427617290421263992539ed8e0\"}\"\"\"\n",
    "\n",
    "text = pyperclip.paste()\n",
    "\n",
    "for obj in json.loads(text).get(\"data\").get(\"data\"):\n",
    "    obj_model = MaterialModel(url=obj.get(\"itemUrl\"), img=obj.get(\"image\"), state=False)\n",
    "    fun_插入素材(shop_name=\"吉克丝\", material_site=\"三老爹\", material_model=obj_model)\n"
   ]
  }
 ],
 "metadata": {
  "kernelspec": {
   "display_name": "base",
   "language": "python",
   "name": "python3"
  },
  "language_info": {
   "codemirror_mode": {
    "name": "ipython",
    "version": 3
   },
   "file_extension": ".py",
   "mimetype": "text/x-python",
   "name": "python",
   "nbconvert_exporter": "python",
   "pygments_lexer": "ipython3",
   "version": "3.12.2"
  }
 },
 "nbformat": 4,
 "nbformat_minor": 2
}
