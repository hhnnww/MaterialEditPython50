{
 "cells": [
  {
   "cell_type": "code",
   "execution_count": 3,
   "metadata": {},
   "outputs": [
    {
     "name": "stdout",
     "output_type": "stream",
     "text": [
      "F:\\松子素材\\1000-1999\\1058\n",
      "F:\\松子素材\\1000-1999\\1059\n",
      "F:\\松子素材\\1000-1999\\1062\n",
      "F:\\松子素材\\1000-1999\\1068\n",
      "F:\\松子素材\\1000-1999\\1070\n",
      "F:\\松子素材\\1000-1999\\1072\n",
      "F:\\松子素材\\1000-1999\\1074\n",
      "F:\\松子素材\\1000-1999\\1079\n"
     ]
    }
   ],
   "source": [
    "from pathlib import Path\n",
    "\n",
    "material_path = Path(r\"F:\\松子素材\\1000-1999\\1054\")\n",
    "\n",
    "for in_path in material_path.parent.iterdir():\n",
    "    if in_path.is_dir():\n",
    "        in_path_num = int(in_path.stem)\n",
    "        if in_path_num >= int(material_path.stem):\n",
    "            has_out_file = False\n",
    "            for rglob_file in in_path.rglob(\"*\"):\n",
    "                if rglob_file.is_file() and rglob_file.suffix.lower() not in [\n",
    "                    \".psd\",\n",
    "                    \".psb\",\n",
    "                ]:\n",
    "                    has_out_file = True\n",
    "                    break\n",
    "\n",
    "            if has_out_file is True:\n",
    "                print(in_path)"
   ]
  }
 ],
 "metadata": {
  "kernelspec": {
   "display_name": "base",
   "language": "python",
   "name": "python3"
  },
  "language_info": {
   "codemirror_mode": {
    "name": "ipython",
    "version": 3
   },
   "file_extension": ".py",
   "mimetype": "text/x-python",
   "name": "python",
   "nbconvert_exporter": "python",
   "pygments_lexer": "ipython3",
   "version": "3.12.2"
  }
 },
 "nbformat": 4,
 "nbformat_minor": 2
}
