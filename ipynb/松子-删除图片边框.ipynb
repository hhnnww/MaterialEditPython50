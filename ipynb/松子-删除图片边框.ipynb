{
 "cells": [
  {
   "cell_type": "code",
   "execution_count": 1,
   "metadata": {},
   "outputs": [],
   "source": [
    "import math\n",
    "from pathlib import Path\n",
    "\n",
    "from PIL import Image\n",
    "from tqdm import tqdm\n",
    "\n",
    "from MaterialEdit.fun_图片编辑.fun_删除图片边框.fun_删除图片边框 import fun_删除图片边框\n",
    "from MaterialEdit.fun_图片编辑.fun_图片扩大粘贴 import fun_图片扩大粘贴\n",
    "from MaterialEdit.fun_文件夹操作.fun_遍历指定文件 import fun_遍历指定文件\n",
    "from MaterialEdit.setting import IMAGE_SUFFIX\n"
   ]
  },
  {
   "cell_type": "code",
   "execution_count": 15,
   "metadata": {},
   "outputs": [
    {
     "name": "stderr",
     "output_type": "stream",
     "text": [
      "删除边框:   0%|                                                              | 0/95 [00:00<?, ?it/s]"
     ]
    },
    {
     "name": "stdout",
     "output_type": "stream",
     "text": [
      "F:\\松子素材\\1000-1999\\0007\\0007\\松子素材(1).png\n"
     ]
    },
    {
     "name": "stderr",
     "output_type": "stream",
     "text": [
      "删除边框:   1%|▌                                                     | 1/95 [00:02<04:39,  2.97s/it]"
     ]
    },
    {
     "name": "stdout",
     "output_type": "stream",
     "text": [
      "F:\\松子素材\\1000-1999\\0007\\0007\\松子素材(2).png\n"
     ]
    },
    {
     "name": "stderr",
     "output_type": "stream",
     "text": [
      "删除边框:   2%|█▏                                                    | 2/95 [00:03<02:13,  1.44s/it]"
     ]
    },
    {
     "name": "stdout",
     "output_type": "stream",
     "text": [
      "F:\\松子素材\\1000-1999\\0007\\0007\\松子素材(3).png\n"
     ]
    },
    {
     "name": "stderr",
     "output_type": "stream",
     "text": [
      "删除边框:   3%|█▋                                                    | 3/95 [00:05<02:36,  1.70s/it]"
     ]
    },
    {
     "name": "stdout",
     "output_type": "stream",
     "text": [
      "F:\\松子素材\\1000-1999\\0007\\0007\\松子素材(4).png\n"
     ]
    },
    {
     "name": "stderr",
     "output_type": "stream",
     "text": [
      "删除边框:   4%|██▎                                                   | 4/95 [00:07<02:59,  1.97s/it]"
     ]
    },
    {
     "name": "stdout",
     "output_type": "stream",
     "text": [
      "F:\\松子素材\\1000-1999\\0007\\0007\\松子素材(5).png\n"
     ]
    },
    {
     "name": "stderr",
     "output_type": "stream",
     "text": [
      "删除边框:   5%|██▊                                                   | 5/95 [00:10<03:20,  2.23s/it]"
     ]
    },
    {
     "name": "stdout",
     "output_type": "stream",
     "text": [
      "F:\\松子素材\\1000-1999\\0007\\0007\\松子素材(6).png\n"
     ]
    },
    {
     "name": "stderr",
     "output_type": "stream",
     "text": [
      "删除边框:   6%|███▍                                                  | 6/95 [00:12<03:27,  2.34s/it]"
     ]
    },
    {
     "name": "stdout",
     "output_type": "stream",
     "text": [
      "F:\\松子素材\\1000-1999\\0007\\0007\\松子素材(7).png\n"
     ]
    },
    {
     "name": "stderr",
     "output_type": "stream",
     "text": [
      "删除边框:   7%|███▉                                                  | 7/95 [00:15<03:39,  2.50s/it]"
     ]
    },
    {
     "name": "stdout",
     "output_type": "stream",
     "text": [
      "F:\\松子素材\\1000-1999\\0007\\0007\\松子素材(8).png\n"
     ]
    },
    {
     "name": "stderr",
     "output_type": "stream",
     "text": [
      "删除边框:   8%|████▌                                                 | 8/95 [00:17<03:11,  2.20s/it]"
     ]
    },
    {
     "name": "stdout",
     "output_type": "stream",
     "text": [
      "F:\\松子素材\\1000-1999\\0007\\0007\\松子素材(9).png\n"
     ]
    },
    {
     "name": "stderr",
     "output_type": "stream",
     "text": [
      "删除边框:   9%|█████                                                 | 9/95 [00:18<02:45,  1.92s/it]"
     ]
    },
    {
     "name": "stdout",
     "output_type": "stream",
     "text": [
      "F:\\松子素材\\1000-1999\\0007\\0007\\松子素材(10).png\n"
     ]
    },
    {
     "name": "stderr",
     "output_type": "stream",
     "text": [
      "删除边框:  11%|█████▌                                               | 10/95 [00:21<02:59,  2.12s/it]"
     ]
    },
    {
     "name": "stdout",
     "output_type": "stream",
     "text": [
      "F:\\松子素材\\1000-1999\\0007\\0007\\松子素材(11).png\n"
     ]
    },
    {
     "name": "stderr",
     "output_type": "stream",
     "text": [
      "删除边框:  12%|██████▏                                              | 11/95 [00:24<03:14,  2.32s/it]"
     ]
    },
    {
     "name": "stdout",
     "output_type": "stream",
     "text": [
      "F:\\松子素材\\1000-1999\\0007\\0007\\松子素材(12).png\n"
     ]
    },
    {
     "name": "stderr",
     "output_type": "stream",
     "text": [
      "删除边框:  13%|██████▋                                              | 12/95 [00:25<02:51,  2.07s/it]"
     ]
    },
    {
     "name": "stdout",
     "output_type": "stream",
     "text": [
      "F:\\松子素材\\1000-1999\\0007\\0007\\松子素材(13).png\n"
     ]
    },
    {
     "name": "stderr",
     "output_type": "stream",
     "text": [
      "删除边框:  14%|███████▎                                             | 13/95 [00:27<02:42,  1.98s/it]"
     ]
    },
    {
     "name": "stdout",
     "output_type": "stream",
     "text": [
      "F:\\松子素材\\1000-1999\\0007\\0007\\松子素材(14).png\n"
     ]
    },
    {
     "name": "stderr",
     "output_type": "stream",
     "text": [
      "删除边框:  15%|███████▊                                             | 14/95 [00:29<02:41,  1.99s/it]"
     ]
    },
    {
     "name": "stdout",
     "output_type": "stream",
     "text": [
      "F:\\松子素材\\1000-1999\\0007\\0007\\松子素材(15).png\n"
     ]
    },
    {
     "name": "stderr",
     "output_type": "stream",
     "text": [
      "删除边框:  16%|████████▎                                            | 15/95 [00:31<02:54,  2.18s/it]"
     ]
    },
    {
     "name": "stdout",
     "output_type": "stream",
     "text": [
      "F:\\松子素材\\1000-1999\\0007\\0007\\松子素材(16).png\n"
     ]
    },
    {
     "name": "stderr",
     "output_type": "stream",
     "text": [
      "删除边框:  17%|████████▉                                            | 16/95 [00:34<02:54,  2.21s/it]"
     ]
    },
    {
     "name": "stdout",
     "output_type": "stream",
     "text": [
      "F:\\松子素材\\1000-1999\\0007\\0007\\松子素材(17).png\n"
     ]
    },
    {
     "name": "stderr",
     "output_type": "stream",
     "text": [
      "删除边框:  18%|█████████▍                                           | 17/95 [00:37<03:07,  2.40s/it]"
     ]
    },
    {
     "name": "stdout",
     "output_type": "stream",
     "text": [
      "F:\\松子素材\\1000-1999\\0007\\0007\\松子素材(18).png\n"
     ]
    },
    {
     "name": "stderr",
     "output_type": "stream",
     "text": [
      "删除边框:  19%|██████████                                           | 18/95 [00:39<02:58,  2.32s/it]"
     ]
    },
    {
     "name": "stdout",
     "output_type": "stream",
     "text": [
      "F:\\松子素材\\1000-1999\\0007\\0007\\松子素材(19).png\n"
     ]
    },
    {
     "name": "stderr",
     "output_type": "stream",
     "text": [
      "删除边框:  20%|██████████▌                                          | 19/95 [00:41<02:55,  2.31s/it]"
     ]
    },
    {
     "name": "stdout",
     "output_type": "stream",
     "text": [
      "F:\\松子素材\\1000-1999\\0007\\0007\\松子素材(20).png\n"
     ]
    },
    {
     "name": "stderr",
     "output_type": "stream",
     "text": [
      "删除边框:  21%|███████████▏                                         | 20/95 [00:43<02:53,  2.31s/it]"
     ]
    },
    {
     "name": "stdout",
     "output_type": "stream",
     "text": [
      "F:\\松子素材\\1000-1999\\0007\\0007\\松子素材(21).png\n"
     ]
    },
    {
     "name": "stderr",
     "output_type": "stream",
     "text": [
      "删除边框:  22%|███████████▋                                         | 21/95 [00:47<03:19,  2.70s/it]"
     ]
    },
    {
     "name": "stdout",
     "output_type": "stream",
     "text": [
      "F:\\松子素材\\1000-1999\\0007\\0007\\松子素材(22).png\n"
     ]
    },
    {
     "name": "stderr",
     "output_type": "stream",
     "text": [
      "删除边框:  23%|████████████▎                                        | 22/95 [00:49<02:54,  2.40s/it]"
     ]
    },
    {
     "name": "stdout",
     "output_type": "stream",
     "text": [
      "F:\\松子素材\\1000-1999\\0007\\0007\\松子素材(23).png\n"
     ]
    },
    {
     "name": "stderr",
     "output_type": "stream",
     "text": [
      "删除边框:  24%|████████████▊                                        | 23/95 [00:51<02:58,  2.48s/it]"
     ]
    },
    {
     "name": "stdout",
     "output_type": "stream",
     "text": [
      "F:\\松子素材\\1000-1999\\0007\\0007\\松子素材(24).png\n"
     ]
    },
    {
     "name": "stderr",
     "output_type": "stream",
     "text": [
      "删除边框:  25%|█████████████▍                                       | 24/95 [00:55<03:14,  2.74s/it]"
     ]
    },
    {
     "name": "stdout",
     "output_type": "stream",
     "text": [
      "F:\\松子素材\\1000-1999\\0007\\0007\\松子素材(25).png\n"
     ]
    },
    {
     "name": "stderr",
     "output_type": "stream",
     "text": [
      "删除边框:  26%|█████████████▉                                       | 25/95 [00:57<02:57,  2.54s/it]"
     ]
    },
    {
     "name": "stdout",
     "output_type": "stream",
     "text": [
      "F:\\松子素材\\1000-1999\\0007\\0007\\松子素材(26).png\n"
     ]
    },
    {
     "name": "stderr",
     "output_type": "stream",
     "text": [
      "删除边框:  27%|██████████████▌                                      | 26/95 [00:57<02:09,  1.88s/it]"
     ]
    },
    {
     "name": "stdout",
     "output_type": "stream",
     "text": [
      "F:\\松子素材\\1000-1999\\0007\\0007\\松子素材(27).png\n"
     ]
    },
    {
     "name": "stderr",
     "output_type": "stream",
     "text": [
      "删除边框:  28%|███████████████                                      | 27/95 [01:00<02:33,  2.25s/it]"
     ]
    },
    {
     "name": "stdout",
     "output_type": "stream",
     "text": [
      "F:\\松子素材\\1000-1999\\0007\\0007\\松子素材(28).png\n"
     ]
    },
    {
     "name": "stderr",
     "output_type": "stream",
     "text": [
      "删除边框:  29%|███████████████▌                                     | 28/95 [01:02<02:21,  2.11s/it]"
     ]
    },
    {
     "name": "stdout",
     "output_type": "stream",
     "text": [
      "F:\\松子素材\\1000-1999\\0007\\0007\\松子素材(29).png\n"
     ]
    },
    {
     "name": "stderr",
     "output_type": "stream",
     "text": [
      "删除边框:  31%|████████████████▏                                    | 29/95 [01:04<02:28,  2.24s/it]"
     ]
    },
    {
     "name": "stdout",
     "output_type": "stream",
     "text": [
      "F:\\松子素材\\1000-1999\\0007\\0007\\松子素材(30).png\n"
     ]
    },
    {
     "name": "stderr",
     "output_type": "stream",
     "text": [
      "删除边框:  32%|████████████████▋                                    | 30/95 [01:08<02:43,  2.52s/it]"
     ]
    },
    {
     "name": "stdout",
     "output_type": "stream",
     "text": [
      "F:\\松子素材\\1000-1999\\0007\\0007\\松子素材(31).png\n"
     ]
    },
    {
     "name": "stderr",
     "output_type": "stream",
     "text": [
      "删除边框:  33%|█████████████████▎                                   | 31/95 [01:08<02:00,  1.89s/it]"
     ]
    },
    {
     "name": "stdout",
     "output_type": "stream",
     "text": [
      "F:\\松子素材\\1000-1999\\0007\\0007\\松子素材(32).png\n"
     ]
    },
    {
     "name": "stderr",
     "output_type": "stream",
     "text": [
      "删除边框:  34%|█████████████████▊                                   | 32/95 [01:10<02:06,  2.01s/it]"
     ]
    },
    {
     "name": "stdout",
     "output_type": "stream",
     "text": [
      "F:\\松子素材\\1000-1999\\0007\\0007\\松子素材(33).png\n"
     ]
    },
    {
     "name": "stderr",
     "output_type": "stream",
     "text": [
      "删除边框:  35%|██████████████████▍                                  | 33/95 [01:13<02:20,  2.27s/it]"
     ]
    },
    {
     "name": "stdout",
     "output_type": "stream",
     "text": [
      "F:\\松子素材\\1000-1999\\0007\\0007\\松子素材(34).png\n"
     ]
    },
    {
     "name": "stderr",
     "output_type": "stream",
     "text": [
      "删除边框:  36%|██████████████████▉                                  | 34/95 [01:16<02:32,  2.50s/it]"
     ]
    },
    {
     "name": "stdout",
     "output_type": "stream",
     "text": [
      "F:\\松子素材\\1000-1999\\0007\\0007\\松子素材(35).png\n"
     ]
    },
    {
     "name": "stderr",
     "output_type": "stream",
     "text": [
      "删除边框:  37%|███████████████████▌                                 | 35/95 [01:18<02:19,  2.32s/it]"
     ]
    },
    {
     "name": "stdout",
     "output_type": "stream",
     "text": [
      "F:\\松子素材\\1000-1999\\0007\\0007\\松子素材(36).png\n"
     ]
    },
    {
     "name": "stderr",
     "output_type": "stream",
     "text": [
      "删除边框:  38%|████████████████████                                 | 36/95 [01:21<02:26,  2.49s/it]"
     ]
    },
    {
     "name": "stdout",
     "output_type": "stream",
     "text": [
      "F:\\松子素材\\1000-1999\\0007\\0007\\松子素材(37).png\n"
     ]
    },
    {
     "name": "stderr",
     "output_type": "stream",
     "text": [
      "删除边框:  39%|████████████████████▋                                | 37/95 [01:24<02:25,  2.51s/it]"
     ]
    },
    {
     "name": "stdout",
     "output_type": "stream",
     "text": [
      "F:\\松子素材\\1000-1999\\0007\\0007\\松子素材(38).png\n"
     ]
    },
    {
     "name": "stderr",
     "output_type": "stream",
     "text": [
      "删除边框:  40%|█████████████████████▏                               | 38/95 [01:25<02:09,  2.28s/it]"
     ]
    },
    {
     "name": "stdout",
     "output_type": "stream",
     "text": [
      "F:\\松子素材\\1000-1999\\0007\\0007\\松子素材(39).png\n"
     ]
    },
    {
     "name": "stderr",
     "output_type": "stream",
     "text": [
      "删除边框:  41%|█████████████████████▊                               | 39/95 [01:27<02:03,  2.21s/it]"
     ]
    },
    {
     "name": "stdout",
     "output_type": "stream",
     "text": [
      "F:\\松子素材\\1000-1999\\0007\\0007\\松子素材(40).png\n"
     ]
    },
    {
     "name": "stderr",
     "output_type": "stream",
     "text": [
      "删除边框:  42%|██████████████████████▎                              | 40/95 [01:29<01:48,  1.98s/it]"
     ]
    },
    {
     "name": "stdout",
     "output_type": "stream",
     "text": [
      "F:\\松子素材\\1000-1999\\0007\\0007\\松子素材(41).png\n"
     ]
    },
    {
     "name": "stderr",
     "output_type": "stream",
     "text": [
      "删除边框:  43%|██████████████████████▊                              | 41/95 [01:32<01:59,  2.20s/it]"
     ]
    },
    {
     "name": "stdout",
     "output_type": "stream",
     "text": [
      "F:\\松子素材\\1000-1999\\0007\\0007\\松子素材(42).png\n"
     ]
    },
    {
     "name": "stderr",
     "output_type": "stream",
     "text": [
      "删除边框:  44%|███████████████████████▍                             | 42/95 [01:33<01:49,  2.07s/it]"
     ]
    },
    {
     "name": "stdout",
     "output_type": "stream",
     "text": [
      "F:\\松子素材\\1000-1999\\0007\\0007\\松子素材(43).png\n"
     ]
    },
    {
     "name": "stderr",
     "output_type": "stream",
     "text": [
      "删除边框:  45%|███████████████████████▉                             | 43/95 [01:35<01:34,  1.83s/it]"
     ]
    },
    {
     "name": "stdout",
     "output_type": "stream",
     "text": [
      "F:\\松子素材\\1000-1999\\0007\\0007\\松子素材(44).png\n"
     ]
    },
    {
     "name": "stderr",
     "output_type": "stream",
     "text": [
      "删除边框:  46%|████████████████████████▌                            | 44/95 [01:35<01:17,  1.53s/it]"
     ]
    },
    {
     "name": "stdout",
     "output_type": "stream",
     "text": [
      "F:\\松子素材\\1000-1999\\0007\\0007\\松子素材(45).png\n"
     ]
    },
    {
     "name": "stderr",
     "output_type": "stream",
     "text": [
      "删除边框:  47%|█████████████████████████                            | 45/95 [01:38<01:36,  1.93s/it]"
     ]
    },
    {
     "name": "stdout",
     "output_type": "stream",
     "text": [
      "F:\\松子素材\\1000-1999\\0007\\0007\\松子素材(46).png\n"
     ]
    },
    {
     "name": "stderr",
     "output_type": "stream",
     "text": [
      "删除边框:  48%|█████████████████████████▋                           | 46/95 [01:39<01:13,  1.51s/it]"
     ]
    },
    {
     "name": "stdout",
     "output_type": "stream",
     "text": [
      "F:\\松子素材\\1000-1999\\0007\\0007\\松子素材(47).png\n"
     ]
    },
    {
     "name": "stderr",
     "output_type": "stream",
     "text": [
      "删除边框:  49%|██████████████████████████▏                          | 47/95 [01:39<00:54,  1.14s/it]"
     ]
    },
    {
     "name": "stdout",
     "output_type": "stream",
     "text": [
      "F:\\松子素材\\1000-1999\\0007\\0007\\松子素材(48).png\n"
     ]
    },
    {
     "name": "stderr",
     "output_type": "stream",
     "text": [
      "删除边框:  51%|██████████████████████████▊                          | 48/95 [01:41<01:10,  1.49s/it]"
     ]
    },
    {
     "name": "stdout",
     "output_type": "stream",
     "text": [
      "F:\\松子素材\\1000-1999\\0007\\0007\\松子素材(49).png\n"
     ]
    },
    {
     "name": "stderr",
     "output_type": "stream",
     "text": [
      "删除边框:  52%|███████████████████████████▎                         | 49/95 [01:44<01:24,  1.83s/it]"
     ]
    },
    {
     "name": "stdout",
     "output_type": "stream",
     "text": [
      "F:\\松子素材\\1000-1999\\0007\\0007\\松子素材(50).png\n"
     ]
    },
    {
     "name": "stderr",
     "output_type": "stream",
     "text": [
      "删除边框:  53%|███████████████████████████▉                         | 50/95 [01:46<01:28,  1.98s/it]"
     ]
    },
    {
     "name": "stdout",
     "output_type": "stream",
     "text": [
      "F:\\松子素材\\1000-1999\\0007\\0007\\松子素材(51).png\n"
     ]
    },
    {
     "name": "stderr",
     "output_type": "stream",
     "text": [
      "删除边框:  54%|████████████████████████████▍                        | 51/95 [01:48<01:29,  2.03s/it]"
     ]
    },
    {
     "name": "stdout",
     "output_type": "stream",
     "text": [
      "F:\\松子素材\\1000-1999\\0007\\0007\\松子素材(52).png\n"
     ]
    },
    {
     "name": "stderr",
     "output_type": "stream",
     "text": [
      "删除边框:  55%|█████████████████████████████                        | 52/95 [01:49<01:09,  1.61s/it]"
     ]
    },
    {
     "name": "stdout",
     "output_type": "stream",
     "text": [
      "F:\\松子素材\\1000-1999\\0007\\0007\\松子素材(53).png\n"
     ]
    },
    {
     "name": "stderr",
     "output_type": "stream",
     "text": [
      "删除边框:  56%|█████████████████████████████▌                       | 53/95 [01:52<01:19,  1.88s/it]"
     ]
    },
    {
     "name": "stdout",
     "output_type": "stream",
     "text": [
      "F:\\松子素材\\1000-1999\\0007\\0007\\松子素材(54).png\n"
     ]
    },
    {
     "name": "stderr",
     "output_type": "stream",
     "text": [
      "删除边框:  57%|██████████████████████████████▏                      | 54/95 [01:54<01:20,  1.95s/it]"
     ]
    },
    {
     "name": "stdout",
     "output_type": "stream",
     "text": [
      "F:\\松子素材\\1000-1999\\0007\\0007\\松子素材(55).png\n"
     ]
    },
    {
     "name": "stderr",
     "output_type": "stream",
     "text": [
      "删除边框:  58%|██████████████████████████████▋                      | 55/95 [01:56<01:19,  1.99s/it]"
     ]
    },
    {
     "name": "stdout",
     "output_type": "stream",
     "text": [
      "F:\\松子素材\\1000-1999\\0007\\0007\\松子素材(56).png\n"
     ]
    },
    {
     "name": "stderr",
     "output_type": "stream",
     "text": [
      "删除边框:  59%|███████████████████████████████▏                     | 56/95 [01:58<01:21,  2.08s/it]"
     ]
    },
    {
     "name": "stdout",
     "output_type": "stream",
     "text": [
      "F:\\松子素材\\1000-1999\\0007\\0007\\松子素材(57).png\n"
     ]
    },
    {
     "name": "stderr",
     "output_type": "stream",
     "text": [
      "删除边框:  60%|███████████████████████████████▊                     | 57/95 [02:00<01:22,  2.16s/it]"
     ]
    },
    {
     "name": "stdout",
     "output_type": "stream",
     "text": [
      "F:\\松子素材\\1000-1999\\0007\\0007\\松子素材(58).png\n"
     ]
    },
    {
     "name": "stderr",
     "output_type": "stream",
     "text": [
      "删除边框:  61%|████████████████████████████████▎                    | 58/95 [02:01<01:02,  1.69s/it]"
     ]
    },
    {
     "name": "stdout",
     "output_type": "stream",
     "text": [
      "F:\\松子素材\\1000-1999\\0007\\0007\\松子素材(59).png\n"
     ]
    },
    {
     "name": "stderr",
     "output_type": "stream",
     "text": [
      "删除边框:  62%|████████████████████████████████▉                    | 59/95 [02:04<01:11,  1.98s/it]"
     ]
    },
    {
     "name": "stdout",
     "output_type": "stream",
     "text": [
      "F:\\松子素材\\1000-1999\\0007\\0007\\松子素材(60).png\n"
     ]
    },
    {
     "name": "stderr",
     "output_type": "stream",
     "text": [
      "删除边框:  63%|█████████████████████████████████▍                   | 60/95 [02:06<01:10,  2.01s/it]"
     ]
    },
    {
     "name": "stdout",
     "output_type": "stream",
     "text": [
      "F:\\松子素材\\1000-1999\\0007\\0007\\松子素材(61).png\n"
     ]
    },
    {
     "name": "stderr",
     "output_type": "stream",
     "text": [
      "删除边框:  64%|██████████████████████████████████                   | 61/95 [02:07<00:59,  1.76s/it]"
     ]
    },
    {
     "name": "stdout",
     "output_type": "stream",
     "text": [
      "F:\\松子素材\\1000-1999\\0007\\0007\\松子素材(62).png\n"
     ]
    },
    {
     "name": "stderr",
     "output_type": "stream",
     "text": [
      "删除边框:  65%|██████████████████████████████████▌                  | 62/95 [02:09<01:02,  1.89s/it]"
     ]
    },
    {
     "name": "stdout",
     "output_type": "stream",
     "text": [
      "F:\\松子素材\\1000-1999\\0007\\0007\\松子素材(63).png\n"
     ]
    },
    {
     "name": "stderr",
     "output_type": "stream",
     "text": [
      "删除边框:  66%|███████████████████████████████████▏                 | 63/95 [02:11<01:00,  1.88s/it]"
     ]
    },
    {
     "name": "stdout",
     "output_type": "stream",
     "text": [
      "F:\\松子素材\\1000-1999\\0007\\0007\\松子素材(64).png\n"
     ]
    },
    {
     "name": "stderr",
     "output_type": "stream",
     "text": [
      "删除边框:  67%|███████████████████████████████████▋                 | 64/95 [02:13<01:01,  1.97s/it]"
     ]
    },
    {
     "name": "stdout",
     "output_type": "stream",
     "text": [
      "F:\\松子素材\\1000-1999\\0007\\0007\\松子素材(65).png\n"
     ]
    },
    {
     "name": "stderr",
     "output_type": "stream",
     "text": [
      "删除边框:  68%|████████████████████████████████████▎                | 65/95 [02:15<00:59,  2.00s/it]"
     ]
    },
    {
     "name": "stdout",
     "output_type": "stream",
     "text": [
      "F:\\松子素材\\1000-1999\\0007\\0007\\松子素材(66).png\n"
     ]
    },
    {
     "name": "stderr",
     "output_type": "stream",
     "text": [
      "删除边框:  69%|████████████████████████████████████▊                | 66/95 [02:18<01:01,  2.14s/it]"
     ]
    },
    {
     "name": "stdout",
     "output_type": "stream",
     "text": [
      "F:\\松子素材\\1000-1999\\0007\\0007\\松子素材(67).png\n"
     ]
    },
    {
     "name": "stderr",
     "output_type": "stream",
     "text": [
      "删除边框:  71%|█████████████████████████████████████▍               | 67/95 [02:20<01:01,  2.20s/it]"
     ]
    },
    {
     "name": "stdout",
     "output_type": "stream",
     "text": [
      "F:\\松子素材\\1000-1999\\0007\\0007\\松子素材(68).png\n"
     ]
    },
    {
     "name": "stderr",
     "output_type": "stream",
     "text": [
      "删除边框:  72%|█████████████████████████████████████▉               | 68/95 [02:20<00:45,  1.67s/it]"
     ]
    },
    {
     "name": "stdout",
     "output_type": "stream",
     "text": [
      "F:\\松子素材\\1000-1999\\0007\\0007\\松子素材(69).png\n"
     ]
    },
    {
     "name": "stderr",
     "output_type": "stream",
     "text": [
      "删除边框:  73%|██████████████████████████████████████▍              | 69/95 [02:22<00:44,  1.70s/it]"
     ]
    },
    {
     "name": "stdout",
     "output_type": "stream",
     "text": [
      "F:\\松子素材\\1000-1999\\0007\\0007\\松子素材(70).png\n"
     ]
    },
    {
     "name": "stderr",
     "output_type": "stream",
     "text": [
      "删除边框:  74%|███████████████████████████████████████              | 70/95 [02:23<00:34,  1.37s/it]"
     ]
    },
    {
     "name": "stdout",
     "output_type": "stream",
     "text": [
      "F:\\松子素材\\1000-1999\\0007\\0007\\松子素材(71).png\n"
     ]
    },
    {
     "name": "stderr",
     "output_type": "stream",
     "text": [
      "删除边框:  75%|███████████████████████████████████████▌             | 71/95 [02:23<00:27,  1.13s/it]"
     ]
    },
    {
     "name": "stdout",
     "output_type": "stream",
     "text": [
      "F:\\松子素材\\1000-1999\\0007\\0007\\松子素材(72).png\n"
     ]
    },
    {
     "name": "stderr",
     "output_type": "stream",
     "text": [
      "删除边框:  76%|████████████████████████████████████████▏            | 72/95 [02:26<00:34,  1.49s/it]"
     ]
    },
    {
     "name": "stdout",
     "output_type": "stream",
     "text": [
      "F:\\松子素材\\1000-1999\\0007\\0007\\松子素材(73).png\n"
     ]
    },
    {
     "name": "stderr",
     "output_type": "stream",
     "text": [
      "删除边框:  77%|████████████████████████████████████████▋            | 73/95 [02:28<00:37,  1.71s/it]"
     ]
    },
    {
     "name": "stdout",
     "output_type": "stream",
     "text": [
      "F:\\松子素材\\1000-1999\\0007\\0007\\松子素材(74).png\n"
     ]
    },
    {
     "name": "stderr",
     "output_type": "stream",
     "text": [
      "删除边框:  78%|█████████████████████████████████████████▎           | 74/95 [02:28<00:28,  1.33s/it]"
     ]
    },
    {
     "name": "stdout",
     "output_type": "stream",
     "text": [
      "F:\\松子素材\\1000-1999\\0007\\0007\\松子素材(75).png\n"
     ]
    },
    {
     "name": "stderr",
     "output_type": "stream",
     "text": [
      "删除边框:  79%|█████████████████████████████████████████▊           | 75/95 [02:31<00:35,  1.75s/it]"
     ]
    },
    {
     "name": "stdout",
     "output_type": "stream",
     "text": [
      "F:\\松子素材\\1000-1999\\0007\\0007\\松子素材(76).png\n"
     ]
    },
    {
     "name": "stderr",
     "output_type": "stream",
     "text": [
      "删除边框:  80%|██████████████████████████████████████████▍          | 76/95 [02:32<00:26,  1.40s/it]"
     ]
    },
    {
     "name": "stdout",
     "output_type": "stream",
     "text": [
      "F:\\松子素材\\1000-1999\\0007\\0007\\松子素材(77).png\n"
     ]
    },
    {
     "name": "stderr",
     "output_type": "stream",
     "text": [
      "删除边框:  81%|██████████████████████████████████████████▉          | 77/95 [02:34<00:27,  1.51s/it]"
     ]
    },
    {
     "name": "stdout",
     "output_type": "stream",
     "text": [
      "F:\\松子素材\\1000-1999\\0007\\0007\\松子素材(78).png\n"
     ]
    },
    {
     "name": "stderr",
     "output_type": "stream",
     "text": [
      "删除边框:  82%|███████████████████████████████████████████▌         | 78/95 [02:35<00:27,  1.64s/it]"
     ]
    },
    {
     "name": "stdout",
     "output_type": "stream",
     "text": [
      "F:\\松子素材\\1000-1999\\0007\\0007\\松子素材(79).png\n"
     ]
    },
    {
     "name": "stderr",
     "output_type": "stream",
     "text": [
      "删除边框:  83%|████████████████████████████████████████████         | 79/95 [02:37<00:27,  1.70s/it]"
     ]
    },
    {
     "name": "stdout",
     "output_type": "stream",
     "text": [
      "F:\\松子素材\\1000-1999\\0007\\0007\\松子素材(80).png\n"
     ]
    },
    {
     "name": "stderr",
     "output_type": "stream",
     "text": [
      "删除边框:  84%|████████████████████████████████████████████▋        | 80/95 [02:39<00:27,  1.83s/it]"
     ]
    },
    {
     "name": "stdout",
     "output_type": "stream",
     "text": [
      "F:\\松子素材\\1000-1999\\0007\\0007\\松子素材(81).png\n"
     ]
    },
    {
     "name": "stderr",
     "output_type": "stream",
     "text": [
      "删除边框:  85%|█████████████████████████████████████████████▏       | 81/95 [02:42<00:26,  1.90s/it]"
     ]
    },
    {
     "name": "stdout",
     "output_type": "stream",
     "text": [
      "F:\\松子素材\\1000-1999\\0007\\0007\\松子素材(82).png\n"
     ]
    },
    {
     "name": "stderr",
     "output_type": "stream",
     "text": [
      "删除边框:  86%|█████████████████████████████████████████████▋       | 82/95 [02:44<00:27,  2.09s/it]"
     ]
    },
    {
     "name": "stdout",
     "output_type": "stream",
     "text": [
      "F:\\松子素材\\1000-1999\\0007\\0007\\松子素材(83).png\n"
     ]
    },
    {
     "name": "stderr",
     "output_type": "stream",
     "text": [
      "删除边框:  87%|██████████████████████████████████████████████▎      | 83/95 [02:46<00:25,  2.14s/it]"
     ]
    },
    {
     "name": "stdout",
     "output_type": "stream",
     "text": [
      "F:\\松子素材\\1000-1999\\0007\\0007\\松子素材(84).png\n"
     ]
    },
    {
     "name": "stderr",
     "output_type": "stream",
     "text": [
      "删除边框:  88%|██████████████████████████████████████████████▊      | 84/95 [02:48<00:23,  2.13s/it]"
     ]
    },
    {
     "name": "stdout",
     "output_type": "stream",
     "text": [
      "F:\\松子素材\\1000-1999\\0007\\0007\\松子素材(85).png\n"
     ]
    },
    {
     "name": "stderr",
     "output_type": "stream",
     "text": [
      "删除边框:  89%|███████████████████████████████████████████████▍     | 85/95 [02:51<00:22,  2.21s/it]"
     ]
    },
    {
     "name": "stdout",
     "output_type": "stream",
     "text": [
      "F:\\松子素材\\1000-1999\\0007\\0007\\松子素材(86).png\n"
     ]
    },
    {
     "name": "stderr",
     "output_type": "stream",
     "text": [
      "删除边框:  91%|███████████████████████████████████████████████▉     | 86/95 [02:51<00:14,  1.64s/it]"
     ]
    },
    {
     "name": "stdout",
     "output_type": "stream",
     "text": [
      "F:\\松子素材\\1000-1999\\0007\\0007\\松子素材(87).png\n"
     ]
    },
    {
     "name": "stderr",
     "output_type": "stream",
     "text": [
      "删除边框:  92%|████████████████████████████████████████████████▌    | 87/95 [02:54<00:14,  1.87s/it]"
     ]
    },
    {
     "name": "stdout",
     "output_type": "stream",
     "text": [
      "F:\\松子素材\\1000-1999\\0007\\0007\\松子素材(88).png\n"
     ]
    },
    {
     "name": "stderr",
     "output_type": "stream",
     "text": [
      "删除边框:  93%|█████████████████████████████████████████████████    | 88/95 [02:56<00:14,  2.03s/it]"
     ]
    },
    {
     "name": "stdout",
     "output_type": "stream",
     "text": [
      "F:\\松子素材\\1000-1999\\0007\\0007\\松子素材(89).png\n"
     ]
    },
    {
     "name": "stderr",
     "output_type": "stream",
     "text": [
      "删除边框:  94%|█████████████████████████████████████████████████▋   | 89/95 [02:59<00:13,  2.20s/it]"
     ]
    },
    {
     "name": "stdout",
     "output_type": "stream",
     "text": [
      "F:\\松子素材\\1000-1999\\0007\\0007\\松子素材(90).png\n"
     ]
    },
    {
     "name": "stderr",
     "output_type": "stream",
     "text": [
      "删除边框:  95%|██████████████████████████████████████████████████▏  | 90/95 [03:01<00:11,  2.32s/it]"
     ]
    },
    {
     "name": "stdout",
     "output_type": "stream",
     "text": [
      "F:\\松子素材\\1000-1999\\0007\\0007\\松子素材(91).png\n"
     ]
    },
    {
     "name": "stderr",
     "output_type": "stream",
     "text": [
      "删除边框:  96%|██████████████████████████████████████████████████▊  | 91/95 [03:04<00:09,  2.46s/it]"
     ]
    },
    {
     "name": "stdout",
     "output_type": "stream",
     "text": [
      "F:\\松子素材\\1000-1999\\0007\\0007\\松子素材(92).png\n"
     ]
    },
    {
     "name": "stderr",
     "output_type": "stream",
     "text": [
      "删除边框:  97%|███████████████████████████████████████████████████▎ | 92/95 [03:07<00:07,  2.62s/it]"
     ]
    },
    {
     "name": "stdout",
     "output_type": "stream",
     "text": [
      "F:\\松子素材\\1000-1999\\0007\\0007\\松子素材(93).png\n"
     ]
    },
    {
     "name": "stderr",
     "output_type": "stream",
     "text": [
      "删除边框:  98%|███████████████████████████████████████████████████▉ | 93/95 [03:10<00:05,  2.69s/it]"
     ]
    },
    {
     "name": "stdout",
     "output_type": "stream",
     "text": [
      "F:\\松子素材\\1000-1999\\0007\\0007\\松子素材(94).png\n"
     ]
    },
    {
     "name": "stderr",
     "output_type": "stream",
     "text": [
      "删除边框:  99%|████████████████████████████████████████████████████▍| 94/95 [03:12<00:02,  2.64s/it]"
     ]
    },
    {
     "name": "stdout",
     "output_type": "stream",
     "text": [
      "F:\\松子素材\\1000-1999\\0007\\0007\\松子素材(95).png\n"
     ]
    },
    {
     "name": "stderr",
     "output_type": "stream",
     "text": [
      "删除边框: 100%|█████████████████████████████████████████████████████| 95/95 [03:15<00:00,  2.05s/it]\n"
     ]
    }
   ],
   "source": [
    "folder = r\"F:\\松子素材\\1000-1999\\0007\"\n",
    "bg_color = (240, 240, 240, 255)\n",
    "num = 0\n",
    "for in_file in tqdm(\n",
    "    iterable=fun_遍历指定文件(folder=folder, suffix=IMAGE_SUFFIX),\n",
    "    desc=\"删除边框\",\n",
    "    ncols=100,\n",
    "):\n",
    "    in_file: Path\n",
    "\n",
    "    im = Image.open(fp=in_file.as_posix())\n",
    "    print(in_file)\n",
    "    im = im.convert(mode=\"RGBA\")\n",
    "    ori_size = im.size\n",
    "\n",
    "    im = fun_删除图片边框(im=im)\n",
    "    if im.width < ori_size[0] or im.height < ori_size[1]:\n",
    "        out_spacing = math.ceil(max(im.size) * 0.2)\n",
    "        im = fun_图片扩大粘贴(\n",
    "            im=im,\n",
    "            width=im.width + out_spacing,\n",
    "            height=im.height + out_spacing,\n",
    "            left=\"center\",\n",
    "            top=\"center\",\n",
    "            background_color=im.getpixel((0, 0)),\n",
    "        )\n",
    "\n",
    "    im.thumbnail(size=(1000, 1000), resample=Image.Resampling.LANCZOS)\n",
    "    im.save(fp=in_file.as_posix())"
   ]
  },
  {
   "cell_type": "code",
   "execution_count": 12,
   "metadata": {},
   "outputs": [
    {
     "name": "stderr",
     "output_type": "stream",
     "text": [
      "删除边框: 100%|█████████████████████████████████████████████████████| 26/26 [00:14<00:00,  1.77it/s]\n"
     ]
    }
   ],
   "source": [
    "folder = r\"F:\\松子素材\\1000-1999\\0004\"\n",
    "for in_file in tqdm(\n",
    "    fun_遍历指定文件(folder=folder, suffix=IMAGE_SUFFIX),\n",
    "    desc=\"删除边框\",\n",
    "    ncols=100,\n",
    "):\n",
    "    im = Image.open(in_file.as_posix())\n",
    "    im = im.convert(\"RGBA\")\n",
    "\n",
    "    im.thumbnail((1000, 1000), resample=Image.Resampling.LANCZOS)\n",
    "    im.save(in_file.as_posix())"
   ]
  }
 ],
 "metadata": {
  "kernelspec": {
   "display_name": "base",
   "language": "python",
   "name": "python3"
  },
  "language_info": {
   "codemirror_mode": {
    "name": "ipython",
    "version": 3
   },
   "file_extension": ".py",
   "mimetype": "text/x-python",
   "name": "python",
   "nbconvert_exporter": "python",
   "pygments_lexer": "ipython3",
   "version": "3.12.2"
  }
 },
 "nbformat": 4,
 "nbformat_minor": 2
}
