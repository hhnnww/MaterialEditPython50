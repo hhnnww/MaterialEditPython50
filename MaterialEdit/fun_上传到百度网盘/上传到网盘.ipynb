{
 "cells": [
  {
   "cell_type": "code",
   "execution_count": 5,
   "metadata": {},
   "outputs": [],
   "source": [
    "import subprocess\n",
    "import time\n",
    "\n",
    "import pyautogui\n",
    "\n",
    "subprocess.run(args=\"explorer.exe\", check=False)\n",
    "time.sleep(2)\n",
    "pyautogui.hotkey(\"alt\", \"d\")"
   ]
  },
  {
   "cell_type": "code",
   "execution_count": 7,
   "metadata": {},
   "outputs": [
    {
     "name": "stdout",
     "output_type": "stream",
     "text": [
      "['', '', '● 上传到网盘.ipynb - mae_py_50 (工作区) - python - Visual Studio Code', '百度网盘', '主文件夹 - 文件资源管理器', '小夕美衣:鸡蛋-接待中心', 'DeepL', '小夕美衣:鸡蛋-消息通知', 'CWebviewHostWnd', '微信', '计算器', '', '设置', '设置', 'dummyLayeredWnd', 'NVIDIA GeForce Overlay', 'Windows 输入体验', '', '', '', '', '', '', 'about:blank', '计算器', 'WeGame', '', 'runServer', 'pyautogui 获取屏幕大小 - Google 搜索 - 个人 - Microsoft\\u200b Edge', 'Program Manager']\n"
     ]
    }
   ],
   "source": [
    "import pygetwindow as gw\n",
    "\n",
    "titles = gw.getAllTitles()\n",
    "print(titles)"
   ]
  }
 ],
 "metadata": {
  "kernelspec": {
   "display_name": "base",
   "language": "python",
   "name": "python3"
  },
  "language_info": {
   "codemirror_mode": {
    "name": "ipython",
    "version": 3
   },
   "file_extension": ".py",
   "mimetype": "text/x-python",
   "name": "python",
   "nbconvert_exporter": "python",
   "pygments_lexer": "ipython3",
   "version": "3.12.2"
  }
 },
 "nbformat": 4,
 "nbformat_minor": 2
}
