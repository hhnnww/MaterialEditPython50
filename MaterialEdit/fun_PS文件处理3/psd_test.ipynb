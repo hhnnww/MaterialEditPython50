{
 "cells": [
  {
   "cell_type": "code",
   "execution_count": 28,
   "id": "61d218e1",
   "metadata": {},
   "outputs": [],
   "source": [
    "from sympy import python\n",
    "from win32com.client import Dispatch\n",
    "import pythoncom\n",
    "\n",
    "pythoncom.CoInitialize()\n",
    "ps_app = Dispatch(\"Photoshop.Application\")\n"
   ]
  },
  {
   "cell_type": "code",
   "execution_count": 49,
   "id": "ed62061f",
   "metadata": {},
   "outputs": [],
   "source": [
    "ac_layer = ps_app.activeDocument.activeLayer\n",
    "ac_layer.TextItem.Font = \"IBMPlexSansSC-Light\""
   ]
  },
  {
   "cell_type": "code",
   "execution_count": 44,
   "id": "dae6b43a",
   "metadata": {},
   "outputs": [
    {
     "name": "stdout",
     "output_type": "stream",
     "text": [
      "撒旦法水电费\n"
     ]
    }
   ],
   "source": [
    "print(ac_layer.TextItem.Contents)"
   ]
  }
 ],
 "metadata": {
  "kernelspec": {
   "display_name": "base",
   "language": "python",
   "name": "python3"
  },
  "language_info": {
   "codemirror_mode": {
    "name": "ipython",
    "version": 3
   },
   "file_extension": ".py",
   "mimetype": "text/x-python",
   "name": "python",
   "nbconvert_exporter": "python",
   "pygments_lexer": "ipython3",
   "version": "3.12.2"
  }
 },
 "nbformat": 4,
 "nbformat_minor": 5
}
